{
 "cells": [
  {
   "cell_type": "code",
   "execution_count": null,
   "id": "1f630688",
   "metadata": {},
   "outputs": [],
   "source": [
    "import torch\n",
    "import numpy as np\n",
    "import os\n",
    "user = os.environ[\"USER\"]"
   ]
  },
  {
   "cell_type": "code",
   "execution_count": null,
   "id": "5bf75a78",
   "metadata": {},
   "outputs": [],
   "source": [
    "%%time\n",
    "path = f\"/home/{user}/data/gutenberg.utf8\""
   ]
  },
  {
   "cell_type": "code",
   "execution_count": null,
   "id": "ffb8a314",
   "metadata": {},
   "outputs": [],
   "source": [
    "%%time\n",
    "X = np.fromfile(path, dtype=np.uint8, count=-1, offset=0)"
   ]
  },
  {
   "cell_type": "code",
   "execution_count": null,
   "id": "e85ad57c",
   "metadata": {},
   "outputs": [],
   "source": [
    "X = X[:(len(X) // 1024)*1024]"
   ]
  },
  {
   "cell_type": "code",
   "execution_count": null,
   "id": "42e35c1b",
   "metadata": {},
   "outputs": [],
   "source": [
    "X = X.reshape(-1, 1024)"
   ]
  },
  {
   "cell_type": "code",
   "execution_count": null,
   "id": "fed0da51",
   "metadata": {},
   "outputs": [],
   "source": [
    "%%time\n",
    "rng = np.random.default_rng()\n",
    "rng.shuffle(X)"
   ]
  },
  {
   "cell_type": "code",
   "execution_count": null,
   "id": "7be8b760",
   "metadata": {},
   "outputs": [],
   "source": [
    "%%time\n",
    "X.tofile(\"/home/sharker/data/gutenberg.1024.utf8\")"
   ]
  }
 ],
 "metadata": {
  "kernelspec": {
   "display_name": "Python 3",
   "language": "python",
   "name": "python3"
  },
  "language_info": {
   "codemirror_mode": {
    "name": "ipython",
    "version": 3
   },
   "file_extension": ".py",
   "mimetype": "text/x-python",
   "name": "python",
   "nbconvert_exporter": "python",
   "pygments_lexer": "ipython3",
   "version": "3.8.10"
  }
 },
 "nbformat": 4,
 "nbformat_minor": 5
}
