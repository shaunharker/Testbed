{
 "cells": [
  {
   "cell_type": "code",
   "execution_count": null,
   "id": "1f630688",
   "metadata": {},
   "outputs": [],
   "source": [
    "import torch\n",
    "import numpy as np"
   ]
  },
  {
   "cell_type": "code",
   "execution_count": null,
   "id": "b119f062",
   "metadata": {},
   "outputs": [],
   "source": [
    "%%time\n",
    "from transformers import GPT2TokenizerFast\n",
    "tokenizer = GPT2TokenizerFast.from_pretrained(\"gpt2\")"
   ]
  },
  {
   "cell_type": "code",
   "execution_count": null,
   "id": "5bf75a78",
   "metadata": {},
   "outputs": [],
   "source": [
    "%%time\n",
    "with open(\"/home/sharker/data/corpus.utf8.txt\", \"rb\") as infile:\n",
    "    textbytes = infile.read()"
   ]
  },
  {
   "cell_type": "code",
   "execution_count": null,
   "id": "ffb8a314",
   "metadata": {},
   "outputs": [],
   "source": [
    "%%time\n",
    "text = textbytes.decode('utf-8')"
   ]
  },
  {
   "cell_type": "code",
   "execution_count": null,
   "id": "8f165355",
   "metadata": {},
   "outputs": [],
   "source": [
    "del textbytes"
   ]
  },
  {
   "cell_type": "code",
   "execution_count": null,
   "id": "a9483dee",
   "metadata": {},
   "outputs": [],
   "source": [
    "def load_from_file(idx, N = 2**20):\n",
    "    return np.array(tokenizer(text[N*idx:N*(idx+1)])['input_ids'],dtype=np.uint16)"
   ]
  },
  {
   "cell_type": "code",
   "execution_count": null,
   "id": "076a853a",
   "metadata": {},
   "outputs": [],
   "source": [
    "L = list(range(len(text)//2**20))"
   ]
  },
  {
   "cell_type": "code",
   "execution_count": null,
   "id": "07409fa3",
   "metadata": {},
   "outputs": [],
   "source": [
    "%%time\n",
    "from multiprocessing import Pool\n",
    "with Pool(8) as p:\n",
    "    result = p.map(load_from_file, L)\n",
    "result = np.concatenate(result)\n",
    "np.save(\"/home/sharker/data/gpt2tokenized\", result)"
   ]
  }
 ],
 "metadata": {
  "kernelspec": {
   "display_name": "Python 3 (ipykernel)",
   "language": "python",
   "name": "python3"
  },
  "language_info": {
   "codemirror_mode": {
    "name": "ipython",
    "version": 3
   },
   "file_extension": ".py",
   "mimetype": "text/x-python",
   "name": "python",
   "nbconvert_exporter": "python",
   "pygments_lexer": "ipython3",
   "version": "3.9.6"
  }
 },
 "nbformat": 4,
 "nbformat_minor": 5
}
