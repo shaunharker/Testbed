{
 "cells": [
  {
   "cell_type": "code",
   "execution_count": null,
   "id": "6af05649",
   "metadata": {},
   "outputs": [],
   "source": [
    "import asyncio\n",
    "from math import log, sin, cos, tan, exp, sqrt, pi\n",
    "from time import time, sleep\n",
    "from random import randrange\n",
    "import torch\n",
    "import numpy as np\n",
    "from testbed import ShortDataset, ByteDataset, SeqByteDataset, Trainer, Net0, Net1, Net2, Net3, Net4, Transformer\n",
    "from testbed.optimizer import Sonny\n",
    "from testbed.util import default_device, numel\n",
    "from testbed.gui import Plot, StatsTicker, ParameterInspector, Histogram, SmoothPlot, LinePlot"
   ]
  },
  {
   "cell_type": "code",
   "execution_count": null,
   "id": "170fcdc1",
   "metadata": {},
   "outputs": [],
   "source": [
    "utf8_net0_config = {\n",
    "    \"model\": {\n",
    "        \"type\": Net0,\n",
    "        \"kwargs\": {\n",
    "            \"n_vocab_in\": 256,\n",
    "            \"n_vocab_out\": 256,\n",
    "            \"n_ctx\": 64,\n",
    "            \"d_model\": 64,\n",
    "            \"d_ff\": 8192,\n",
    "            \"nonlinearity\": \"GELU\"}},\n",
    "    \"optimizer\": {\n",
    "        \"type\": Sonny,\n",
    "        \"kwargs\": {\n",
    "            \"eps\": 1e-4, \n",
    "            \"lr\": 5e-5, \n",
    "            \"beta1\": .9, \n",
    "            \"beta2\": .999,\n",
    "            \"weight_decay\": 0.01,\n",
    "            \"warmup\": 10000}},\n",
    "    \"dataset\": {\n",
    "        \"type\": ByteDataset,\n",
    "        \"kwargs\": {\n",
    "            \"batch_size\": 256}}}\n",
    "utf8_net0_config[\"dataset\"][\"kwargs\"][\"example_length\"] = utf8_net0_config[\"model\"][\"kwargs\"][\"n_ctx\"]+1 "
   ]
  },
  {
   "cell_type": "code",
   "execution_count": null,
   "id": "79fb4fdb",
   "metadata": {},
   "outputs": [],
   "source": [
    "utf8_transformer_config = {\n",
    "    \"model\": {\n",
    "        \"type\": Transformer,\n",
    "        \"kwargs\": {\n",
    "            \"n_vocab_in\": 256,\n",
    "            \"n_vocab_out\": 256,\n",
    "            \"max_ctx\": 128,\n",
    "            \"d_model\": 256,\n",
    "            \"d_k\": 16,\n",
    "            \"d_v\": 16,\n",
    "            \"n_heads\": 16,\n",
    "            \"d_ff\": 256,\n",
    "            \"n_layers\": 8,\n",
    "            \"p_dropout_embedding\": 0.0,\n",
    "            \"p_dropout_attn_mat\": 0.0,\n",
    "            \"p_dropout_attn_out\": 0.0,\n",
    "            \"p_dropout_ff\": 0.0}},\n",
    "    \"optimizer\": {\n",
    "        \"type\": Sonny,\n",
    "        \"kwargs\": {\n",
    "            \"eps\": 1e-4, \n",
    "            \"lr\": 1e-4, \n",
    "            \"beta1\": .9, \n",
    "            \"beta2\": .999,\n",
    "            \"weight_decay\": 0.01,\n",
    "            \"warmup\": 10000}},\n",
    "    \"dataset\": {\n",
    "        \"type\": SeqByteDataset,\n",
    "        \"kwargs\": {\n",
    "            \"batch_size\": 256,\n",
    "            \"example_length\": 32+1}}}"
   ]
  },
  {
   "cell_type": "code",
   "execution_count": null,
   "id": "a092db37",
   "metadata": {},
   "outputs": [],
   "source": [
    "config = utf8_net0_config"
   ]
  },
  {
   "cell_type": "code",
   "execution_count": null,
   "id": "9eeb0115",
   "metadata": {},
   "outputs": [],
   "source": [
    "trainer = Trainer(config=config)"
   ]
  },
  {
   "cell_type": "code",
   "execution_count": null,
   "id": "9afa22e5",
   "metadata": {},
   "outputs": [],
   "source": [
    "trainer.start(2000)"
   ]
  },
  {
   "cell_type": "code",
   "execution_count": null,
   "id": "9754272e",
   "metadata": {},
   "outputs": [],
   "source": [
    "ticker = StatsTicker(trainer,  x='step', y='mean_loss')\n",
    "ticker"
   ]
  },
  {
   "cell_type": "code",
   "execution_count": null,
   "id": "d4d2963b",
   "metadata": {},
   "outputs": [],
   "source": [
    "trainer.update(\"optimizer\", lr=1e-03)"
   ]
  },
  {
   "cell_type": "code",
   "execution_count": null,
   "id": "10b4db85",
   "metadata": {},
   "outputs": [],
   "source": [
    "trainer.update(\"dataset\", batch_size=8192)"
   ]
  },
  {
   "cell_type": "code",
   "execution_count": null,
   "id": "2937c25c",
   "metadata": {},
   "outputs": [],
   "source": [
    "result = \"\"\n"
   ]
  },
  {
   "cell_type": "code",
   "execution_count": null,
   "id": "0714ed52",
   "metadata": {},
   "outputs": [],
   "source": [
    "more = ''.join(list(trainer.autocomplete(result[:128],n_generate=256, max_ctx=128)))\n",
    "print(more)"
   ]
  },
  {
   "cell_type": "code",
   "execution_count": null,
   "id": "a949fcd7",
   "metadata": {},
   "outputs": [],
   "source": [
    "with open('gibberish.txt', 'w') as outfile:\n",
    "    outfile.write(result)"
   ]
  },
  {
   "cell_type": "code",
   "execution_count": null,
   "id": "2c1e95df",
   "metadata": {},
   "outputs": [],
   "source": [
    "async def foo():\n",
    "    global result\n",
    "    more = ''.join(list(trainer.autocomplete(n_generate=256, max_ctx=128)))\n",
    "    result += more\n",
    "    with open('gibberish.txt', 'a') as outfile:\n",
    "        outfile.write(more)\n",
    "    return result"
   ]
  },
  {
   "cell_type": "code",
   "execution_count": null,
   "id": "79670963",
   "metadata": {},
   "outputs": [],
   "source": [
    "for _ in range(2400):\n",
    "    sleep(15)\n",
    "    t = asyncio.create_task(foo())\n",
    "    await t"
   ]
  },
  {
   "cell_type": "code",
   "execution_count": null,
   "id": "5e8baa03",
   "metadata": {},
   "outputs": [],
   "source": [
    "trainer.metrics[-1]"
   ]
  },
  {
   "cell_type": "code",
   "execution_count": null,
   "id": "4221aaf5",
   "metadata": {},
   "outputs": [],
   "source": [
    "trainer.save(\"checkpoint.pt\")"
   ]
  },
  {
   "cell_type": "code",
   "execution_count": null,
   "id": "916f8d3d",
   "metadata": {},
   "outputs": [],
   "source": [
    "trainer.load('checkpoint.pt')"
   ]
  },
  {
   "cell_type": "markdown",
   "id": "f67bcaf5",
   "metadata": {},
   "source": [
    "### SmoothPlot"
   ]
  },
  {
   "cell_type": "code",
   "execution_count": null,
   "id": "a3d2c15b",
   "metadata": {},
   "outputs": [],
   "source": [
    "import scipy.ndimage\n",
    "\n",
    "def smoother(X, Y, lag):\n",
    "    Y = np.cumsum(Y)\n",
    "    return X[lag:], (Y[lag:] - Y[:-lag])/lag\n",
    "\n",
    "def gsmoother(X, Y, lag):\n",
    "    X = X[lag:-lag]\n",
    "    Y = scipy.ndimage.gaussian_filter1d(Y, sigma=lag)[lag:-lag]\n",
    "    return (X, Y)\n",
    "\n",
    "class SmoothPlot(LinePlot):\n",
    "    def __init__(self, trainer, lag=100, log=None):\n",
    "        L = np.array([[x['step'],x['mean_loss']] for x in trainer.metrics])\n",
    "        n = len(L[:,0])\n",
    "        k = n//1000 + 1\n",
    "        X = L[:,0]\n",
    "        Y = L[:,1]\n",
    "        X,Y = gsmoother(X, Y, lag)\n",
    "        X = X[::k]\n",
    "        Y = Y[::k]\n",
    "        if log:\n",
    "            X = np.log(X)/math.log(2)\n",
    "        super().__init__(X, Y)\n",
    "\n",
    "class GaussianSmoothedLossRate(LinePlot):\n",
    "    def __init__(self, trainer, lag=100, log=None):\n",
    "        L = np.array([[x['step'],x['mean_loss']] for x in trainer.metrics])\n",
    "        X = L[1:,0]\n",
    "        Y = -L[1:,1] + L[:-1,1]\n",
    "        X,Y = gsmoother(X, Y, lag)\n",
    "        if log:\n",
    "            X = np.log(X)/math.log(2)\n",
    "        super().__init__(X, Y)"
   ]
  },
  {
   "cell_type": "code",
   "execution_count": null,
   "id": "44b7b617",
   "metadata": {},
   "outputs": [],
   "source": [
    "SmoothPlot(trainer, lag=10, log=False)"
   ]
  },
  {
   "cell_type": "code",
   "execution_count": null,
   "id": "3d33f8c4",
   "metadata": {},
   "outputs": [],
   "source": [
    "GaussianSmoothedLossRate(trainer, lag=10000, log=False)"
   ]
  },
  {
   "cell_type": "code",
   "execution_count": null,
   "id": "e9414477",
   "metadata": {},
   "outputs": [],
   "source": []
  }
 ],
 "metadata": {
  "kernelspec": {
   "display_name": "Python 3",
   "language": "python",
   "name": "python3"
  },
  "language_info": {
   "codemirror_mode": {
    "name": "ipython",
    "version": 3
   },
   "file_extension": ".py",
   "mimetype": "text/x-python",
   "name": "python",
   "nbconvert_exporter": "python",
   "pygments_lexer": "ipython3",
   "version": "3.8.10"
  }
 },
 "nbformat": 4,
 "nbformat_minor": 5
}
