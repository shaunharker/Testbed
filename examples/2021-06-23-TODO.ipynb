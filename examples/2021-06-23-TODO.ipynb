{
 "cells": [
  {
   "cell_type": "markdown",
   "id": "845a9769",
   "metadata": {},
   "source": [
    "Improve testbed module:\n",
    "\n",
    "1. Massive text datasets\n",
    "2. Conserve GPU memory\n",
    "3. Save/Restore optimizer state\n",
    "4. Dynamic Batching\n",
    "5. Advanced Tokenization (multiple tokens at each spot; for embedding, add embedding for each token)\n",
    "6. Optimizer enhancements such as scheduling\n",
    "7. Zeno methods for RNNs: for $\\log_2 n$ times as long, use only $\\log_2 n$ copies of parameters instead of $n$.\n",
    "8. GAN discriminators and back-offed generation. Sleep training?\n",
    "9. Loss function enhancements: predicting simpler language models\n",
    "10. Zeroth order methods and other oddball optimization techniques\n",
    "11. Curriculum selection\n",
    "\n",
    "Other stuff.\n",
    "1. I want to be able to plot quickly without having to google anything, please! CHECK \n",
    "\n"
   ]
  },
  {
   "cell_type": "markdown",
   "id": "9af596c9",
   "metadata": {},
   "source": [
    "## 1. Massive text datasets"
   ]
  },
  {
   "cell_type": "code",
   "execution_count": null,
   "id": "2e2eb4ef",
   "metadata": {},
   "outputs": [],
   "source": [
    "import torch\n",
    "import numpy as np\n",
    "from testbed import decode_broken_utf8"
   ]
  },
  {
   "cell_type": "code",
   "execution_count": null,
   "id": "2d87d3df",
   "metadata": {},
   "outputs": [],
   "source": [
    "from pathlib import Path\n",
    "path = '/home/sharker/data/corpus.txt'\n",
    "s = Path(path).stat()\n",
    "print(s.st_size)"
   ]
  },
  {
   "cell_type": "code",
   "execution_count": null,
   "id": "50b98c5a",
   "metadata": {},
   "outputs": [],
   "source": [
    "%%time\n",
    "with open(path, 'rb') as infile:\n",
    "    infile.seek(100000000)\n",
    "    x = infile.read(100000000)"
   ]
  },
  {
   "cell_type": "code",
   "execution_count": null,
   "id": "ed20c0ee",
   "metadata": {},
   "outputs": [],
   "source": [
    "%%time\n",
    "npx = np.frombuffer(x, dtype=np.uint8)"
   ]
  },
  {
   "cell_type": "code",
   "execution_count": null,
   "id": "c55f17d8",
   "metadata": {},
   "outputs": [],
   "source": [
    "npx.shape"
   ]
  },
  {
   "cell_type": "code",
   "execution_count": null,
   "id": "1a72129b",
   "metadata": {},
   "outputs": [],
   "source": [
    "%%time\n",
    "X = torch.tensor(npx, dtype=torch.uint8)"
   ]
  },
  {
   "cell_type": "code",
   "execution_count": null,
   "id": "189a6708",
   "metadata": {},
   "outputs": [],
   "source": [
    "X.shape"
   ]
  },
  {
   "cell_type": "markdown",
   "id": "e474167a",
   "metadata": {},
   "source": [
    "## 7. Zeno Methods\n",
    "\n",
    "What is the analysis?\n"
   ]
  },
  {
   "cell_type": "code",
   "execution_count": null,
   "id": "a7ed8363",
   "metadata": {},
   "outputs": [],
   "source": [
    "from functools import lru_cache\n",
    "from math import sqrt, ceil\n",
    "\n",
    "@lru_cache(maxsize=None)\n",
    "def C(n, k):\n",
    "    if n == 0:\n",
    "        return 0\n",
    "    if n == 1:\n",
    "        return 2\n",
    "    w = [ round(i*(n/k)) for i in range(0, k+1) ]\n",
    "    cost = 0\n",
    "    for i in range(1, len(w)):\n",
    "        if i < len(w) - 1:\n",
    "            cost += w[i] - w[i-1]\n",
    "        cost += D(w[i] - w[i-1], k)\n",
    "    return cost"
   ]
  },
  {
   "cell_type": "code",
   "execution_count": null,
   "id": "0ded66d2",
   "metadata": {},
   "outputs": [],
   "source": [
    "from testbed import Plot"
   ]
  },
  {
   "cell_type": "code",
   "execution_count": null,
   "id": "c1ecacbd",
   "metadata": {},
   "outputs": [],
   "source": [
    "Plot([C(n,2) for n in range(50000)])"
   ]
  },
  {
   "cell_type": "markdown",
   "id": "9dd87913",
   "metadata": {},
   "source": [
    "Something silly:"
   ]
  },
  {
   "cell_type": "code",
   "execution_count": null,
   "id": "c1fbfa70",
   "metadata": {},
   "outputs": [],
   "source": [
    "from math import cos, sin\n",
    "X = [ (cos(i/1000)*i*(1-sin(i/100)/2), sin(i/1000)*i*(1+cos(i/100)/2)) for i in range(100000) ]\n",
    "Plot(X)"
   ]
  },
  {
   "cell_type": "code",
   "execution_count": null,
   "id": "c77ab9ce",
   "metadata": {},
   "outputs": [],
   "source": []
  }
 ],
 "metadata": {
  "kernelspec": {
   "display_name": "Python 3",
   "language": "python",
   "name": "python3"
  },
  "language_info": {
   "codemirror_mode": {
    "name": "ipython",
    "version": 3
   },
   "file_extension": ".py",
   "mimetype": "text/x-python",
   "name": "python",
   "nbconvert_exporter": "python",
   "pygments_lexer": "ipython3",
   "version": "3.8.10"
  }
 },
 "nbformat": 4,
 "nbformat_minor": 5
}
