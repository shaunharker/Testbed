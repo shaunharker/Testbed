{
 "cells": [
  {
   "cell_type": "code",
   "execution_count": null,
   "id": "6af05649",
   "metadata": {},
   "outputs": [],
   "source": [
    "import torch\n",
    "from torch.optim import AdamW\n",
    "from testbed import TextDataset, Trainer, Net0, Net1, Transformer\n",
    "from testbed.util import decode_broken_utf8, default_device"
   ]
  },
  {
   "cell_type": "code",
   "execution_count": null,
   "id": "df177b89",
   "metadata": {},
   "outputs": [],
   "source": [
    "K = 16 # token embedding dimension (K stands for \"keys\" but dont ask for justification)\n",
    "C = 256 # number of tokens (C stands for \"classes\")"
   ]
  },
  {
   "cell_type": "code",
   "execution_count": null,
   "id": "d9f77551",
   "metadata": {},
   "outputs": [],
   "source": [
    "model_type = \"Net0\""
   ]
  },
  {
   "cell_type": "code",
   "execution_count": null,
   "id": "e084467a",
   "metadata": {},
   "outputs": [],
   "source": [
    "# Net0\n",
    "#   * N = L + 1\n",
    "if model_type == \"Net0\":\n",
    "    H = 2**10 # number of hidden neurons (i.e. number of convolution kernels)\n",
    "    L = 128 # length of convolution kernel\n",
    "    N = L + 1\n",
    "    B = 32 # batch size (i.e. examples per batch)\n",
    "    model = Net0(H=H, L=L, K=K, C=C).to(default_device())\n",
    "    dataset = TextDataset(N=N, B=B)\n",
    "    optimizer = AdamW(model.parameters())"
   ]
  },
  {
   "cell_type": "code",
   "execution_count": null,
   "id": "22f3cc1a",
   "metadata": {},
   "outputs": [],
   "source": [
    "# Net 1\n",
    "#   * N > L\n",
    "if model_type == \"Net1\":\n",
    "    H = 2**10 # number of hidden neurons (i.e. number of convolution kernels)\n",
    "    L = 1024 # length of convolution kernel\n",
    "    N = 2*L\n",
    "    B = 32 # batch size (i.e. examples per batch)\n",
    "    model = Net1(H=H, L=L, K=K, C=C).to(default_device())\n",
    "    dataset = TextDataset(N=N, B=B)\n",
    "    optimizer = AdamW(model.parameters())"
   ]
  },
  {
   "cell_type": "code",
   "execution_count": null,
   "id": "6ca0afbb",
   "metadata": {},
   "outputs": [],
   "source": [
    "if model_type == \"Transformer\":\n",
    "    N = 8\n",
    "    model = Transformer().to(default_device())\n",
    "    dataset = TextDataset(N=N, B=B)\n",
    "    optimizer = AdamW(model.parameters())"
   ]
  },
  {
   "cell_type": "code",
   "execution_count": null,
   "id": "ba1a0889",
   "metadata": {},
   "outputs": [],
   "source": [
    "model_size = sum([p.numel() for p in model.parameters()])\n",
    "print(model_size)"
   ]
  },
  {
   "cell_type": "code",
   "execution_count": null,
   "id": "72f17e2b",
   "metadata": {},
   "outputs": [],
   "source": [
    "len(dataset)"
   ]
  },
  {
   "cell_type": "code",
   "execution_count": null,
   "id": "9eeb0115",
   "metadata": {},
   "outputs": [],
   "source": [
    "trainer = Trainer(model=model, dataset=dataset, optimizer=optimizer)"
   ]
  },
  {
   "cell_type": "code",
   "execution_count": null,
   "id": "9afa22e5",
   "metadata": {},
   "outputs": [],
   "source": [
    "trainer.start()"
   ]
  },
  {
   "cell_type": "code",
   "execution_count": null,
   "id": "b76f4783",
   "metadata": {},
   "outputs": [],
   "source": [
    "from bokeh.io import push_notebook, show, output_notebook\n",
    "from bokeh.models import HoverTool, ColumnDataSource\n",
    "from bokeh.plotting import figure \n",
    "output_notebook()\n",
    "import time, math\n",
    "import numpy as np\n",
    "from threading import Thread, Lock\n",
    "\n",
    "class StatsTicker:\n",
    "    def __init__(self, trainer, lag=1000):\n",
    "        self.trainer = trainer\n",
    "        self.lag = lag\n",
    "        self.tick = 0\n",
    "        self.data = []\n",
    "        self.bokeh = {}\n",
    "        self.bokeh_handle = None\n",
    "        self.updating = False\n",
    "        self.first_poll = True\n",
    "        \n",
    "    def poll(self):\n",
    "        if self.first_poll:\n",
    "            self.data = trainer.data[:]\n",
    "            self.first_poll = False\n",
    "        else:\n",
    "            self.data += trainer.loss()\n",
    "\n",
    "    def stats(self):\n",
    "        lag = self.lag\n",
    "        self.poll()\n",
    "        if len(self.data) == self.tick:\n",
    "            return {'time' : [], 'mean_loss' : []}\n",
    "        if self.tick < lag:\n",
    "            T = np.array([datum[1]-self.data[0][1] for datum in self.data])\n",
    "            loss = np.array([datum[2] for datum in self.data])\n",
    "            cs = np.cumsum(loss)\n",
    "            mean = [ x/(i+1) for (i,x) in enumerate(cs) ]\n",
    "            result = {'time': T[self.tick:], 'mean_loss': mean[self.tick:] }\n",
    "            self.tick = len(self.data)\n",
    "            return result\n",
    "        else:\n",
    "            trailing = self.data[self.tick-lag:]\n",
    "            times = [datum[1] for datum in trailing]\n",
    "            loss = [datum[2] for datum in trailing]\n",
    "            s1 = np.array(loss)\n",
    "            s2 = np.square(s1)\n",
    "            cs1 = np.cumsum(s1)\n",
    "            cs2 = np.cumsum(s2)\n",
    "            avg1 = (cs1[lag:] - cs1[:-lag])/float(lag)\n",
    "            avg2 = (cs2[lag:] - cs2[:-lag])/float(lag)\n",
    "            mean = avg1\n",
    "            var = avg2 - np.square(avg1)\n",
    "            sd = np.sqrt(var)\n",
    "            T = np.array(times[lag:]) - self.data[0][1]\n",
    "            self.tick = len(self.data)\n",
    "            return {'time' : T, 'mean_loss' : mean} #(T, mean, var, sd)\n",
    "        \n",
    "    def display(self, updates=True):\n",
    "        TOOLS=\"crosshair,pan,wheel_zoom,box_zoom,reset,tap,box_select,lasso_select\"\n",
    "        self.bokeh[\"figure\"] = figure(tools=TOOLS)\n",
    "        self.bokeh[\"figure\"].axis.major_label_text_font_size = \"24px\"\n",
    "        hover = HoverTool(tooltips=None, mode=\"vline\")\n",
    "        self.bokeh[\"figure\"].add_tools(hover)\n",
    "        data = self.stats()\n",
    "        self.bokeh[\"mean_loss\"] = self.bokeh[\"figure\"].line(data['time'],data['mean_loss'])\n",
    "        self.bokeh_handle = show(self.bokeh[\"figure\"], notebook_handle=True)\n",
    "        if updates:\n",
    "            self.start()\n",
    "            \n",
    "    def start(self):\n",
    "        if not self.updating:\n",
    "            self.updating = True\n",
    "            self.updater = Thread(target=StatsTicker._update_loop, args=(self,))\n",
    "            self.updater.start()\n",
    "            \n",
    "    def stop(self):\n",
    "        if self.updating:\n",
    "            self.updating = False\n",
    "            self.updater.join()\n",
    "            \n",
    "    def _update_loop(self):\n",
    "        while self.updating:\n",
    "            time.sleep(.2)\n",
    "            data = self.stats()      \n",
    "            self.bokeh[\"mean_loss\"].data_source.stream({'x':data['time'], 'y':data['mean_loss']})\n",
    "            push_notebook(handle=self.bokeh_handle)"
   ]
  },
  {
   "cell_type": "code",
   "execution_count": null,
   "id": "9754272e",
   "metadata": {},
   "outputs": [],
   "source": [
    "ticker = StatsTicker(trainer)"
   ]
  },
  {
   "cell_type": "code",
   "execution_count": null,
   "id": "439a8149",
   "metadata": {
    "scrolled": false
   },
   "outputs": [],
   "source": [
    "ticker.display()"
   ]
  },
  {
   "cell_type": "code",
   "execution_count": null,
   "id": "cd1732c9",
   "metadata": {},
   "outputs": [],
   "source": [
    "len(ticker.data)"
   ]
  },
  {
   "cell_type": "code",
   "execution_count": null,
   "id": "a1526541",
   "metadata": {},
   "outputs": [],
   "source": [
    "dataset.D"
   ]
  },
  {
   "cell_type": "code",
   "execution_count": null,
   "id": "17894ea7",
   "metadata": {},
   "outputs": [],
   "source": [
    "trainer.save()"
   ]
  },
  {
   "cell_type": "code",
   "execution_count": null,
   "id": "1424e40b",
   "metadata": {},
   "outputs": [],
   "source": [
    "ticker.stop()"
   ]
  },
  {
   "cell_type": "code",
   "execution_count": null,
   "id": "161deb02",
   "metadata": {},
   "outputs": [],
   "source": [
    "from testbed import Trainer\n",
    "trainer = Trainer()\n",
    "trainer.load()"
   ]
  },
  {
   "cell_type": "code",
   "execution_count": null,
   "id": "c11607dd",
   "metadata": {},
   "outputs": [],
   "source": [
    "trainer.status()"
   ]
  },
  {
   "cell_type": "code",
   "execution_count": null,
   "id": "92a922a1",
   "metadata": {},
   "outputs": [],
   "source": [
    "def smoother(data, lag):\n",
    "    return data[lag:]\n",
    "    cs = np.cumsum(np.array(data))\n",
    "    return (cs[lag:] - cs[:-lag])/lag"
   ]
  },
  {
   "cell_type": "code",
   "execution_count": null,
   "id": "61e31787",
   "metadata": {},
   "outputs": [],
   "source": [
    "TOOLS=\"crosshair,pan,wheel_zoom,box_zoom,reset,tap,box_select,lasso_select\"\n",
    "logfig = figure(tools=TOOLS)\n",
    "logfig.axis.major_label_text_font_size = \"24px\"\n",
    "hover = HoverTool(tooltips=None, mode=\"vline\")\n",
    "logfig.add_tools(hover)\n",
    "lag = 0\n",
    "if lag > 0:\n",
    "    X = [x[1] for x in ticker.data][lag:]\n",
    "    Y = smoother([x[2] for x in ticker.data], lag)\n",
    "else:\n",
    "    X = [x[1] for x in ticker.data]\n",
    "    Y = [x[2] for x in ticker.data]\n",
    "logline = logfig.line(X,Y)\n",
    "bokeh_handle = show(logfig)"
   ]
  },
  {
   "cell_type": "code",
   "execution_count": null,
   "id": "ad199df0",
   "metadata": {},
   "outputs": [],
   "source": [
    "trainer.start()"
   ]
  },
  {
   "cell_type": "code",
   "execution_count": null,
   "id": "816e3949",
   "metadata": {},
   "outputs": [],
   "source": []
  },
  {
   "cell_type": "code",
   "execution_count": null,
   "id": "8989765e",
   "metadata": {},
   "outputs": [],
   "source": [
    "trainer.autocomplete()\n",
    "pass"
   ]
  },
  {
   "cell_type": "code",
   "execution_count": null,
   "id": "3698d4c1",
   "metadata": {},
   "outputs": [],
   "source": []
  }
 ],
 "metadata": {
  "kernelspec": {
   "display_name": "Python 3",
   "language": "python",
   "name": "python3"
  },
  "language_info": {
   "codemirror_mode": {
    "name": "ipython",
    "version": 3
   },
   "file_extension": ".py",
   "mimetype": "text/x-python",
   "name": "python",
   "nbconvert_exporter": "python",
   "pygments_lexer": "ipython3",
   "version": "3.8.10"
  }
 },
 "nbformat": 4,
 "nbformat_minor": 5
}
