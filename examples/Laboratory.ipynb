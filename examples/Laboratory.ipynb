{
 "cells": [
  {
   "cell_type": "code",
   "execution_count": null,
   "id": "be364104",
   "metadata": {},
   "outputs": [],
   "source": [
    "from threading import Thread"
   ]
  },
  {
   "cell_type": "code",
   "execution_count": null,
   "id": "a20aa49f",
   "metadata": {},
   "outputs": [],
   "source": [
    "from bokeh.io import push_notebook, show, output_notebook\n",
    "from bokeh.models import HoverTool, ColumnDataSource\n",
    "from bokeh.plotting import figure \n",
    "output_notebook()"
   ]
  },
  {
   "cell_type": "code",
   "execution_count": null,
   "id": "6af05649",
   "metadata": {},
   "outputs": [],
   "source": [
    "import torch\n",
    "from testbed import TextDataset, Trainer, Net0, Net1, Transformer\n",
    "from testbed.util import decode_broken_utf8, default_device"
   ]
  },
  {
   "cell_type": "code",
   "execution_count": null,
   "id": "df177b89",
   "metadata": {},
   "outputs": [],
   "source": [
    "K = 8 # token embedding dimension (K stands for \"keys\" but dont ask for justification)\n",
    "C = 256 # number of tokens (C stands for \"classes\")"
   ]
  },
  {
   "cell_type": "code",
   "execution_count": null,
   "id": "d9f77551",
   "metadata": {},
   "outputs": [],
   "source": [
    "model_type = \"Transformer\""
   ]
  },
  {
   "cell_type": "code",
   "execution_count": null,
   "id": "e084467a",
   "metadata": {},
   "outputs": [],
   "source": [
    "# Net0\n",
    "#   * N = L + 1\n",
    "if model_type == \"Net0\":\n",
    "    H = 2**8 # number of hidden neurons (i.e. number of convolution kernels)\n",
    "    L = 32 # length of convolution kernel\n",
    "    N = L + 1\n",
    "    model = Net0(H=H, L=L, K=K, C=C).to(default_device())"
   ]
  },
  {
   "cell_type": "code",
   "execution_count": null,
   "id": "22f3cc1a",
   "metadata": {},
   "outputs": [],
   "source": [
    "# Net 1\n",
    "#   * N > L\n",
    "if model_type == \"Net1\":\n",
    "    H = 2**8 # number of hidden neurons (i.e. number of convolution kernels)\n",
    "    L = 32 # length of convolution kernel\n",
    "    N = 2*L\n",
    "    model = Net1(H=H, L=L, K=K, C=C).to(default_device())\n"
   ]
  },
  {
   "cell_type": "code",
   "execution_count": null,
   "id": "6ca0afbb",
   "metadata": {},
   "outputs": [],
   "source": [
    "if model_type == \"Transformer\":\n",
    "    N = 256\n",
    "    model = Transformer().to(default_device())"
   ]
  },
  {
   "cell_type": "code",
   "execution_count": null,
   "id": "ba1a0889",
   "metadata": {},
   "outputs": [],
   "source": [
    "model_size = sum([p.numel() for p in model.parameters()])\n",
    "print(model_size)"
   ]
  },
  {
   "cell_type": "code",
   "execution_count": null,
   "id": "848fee6c",
   "metadata": {},
   "outputs": [],
   "source": [
    "B = 16 # batch size (i.e. examples per batch)"
   ]
  },
  {
   "cell_type": "code",
   "execution_count": null,
   "id": "8da9ce24",
   "metadata": {},
   "outputs": [],
   "source": [
    "dataset = TextDataset(N=N, B=B)"
   ]
  },
  {
   "cell_type": "code",
   "execution_count": null,
   "id": "4b055a9d",
   "metadata": {},
   "outputs": [],
   "source": [
    "len(dataset)"
   ]
  },
  {
   "cell_type": "code",
   "execution_count": null,
   "id": "9eeb0115",
   "metadata": {},
   "outputs": [],
   "source": [
    "trainer = Trainer(model=model, dataset=dataset, batch_size=B)"
   ]
  },
  {
   "cell_type": "code",
   "execution_count": null,
   "id": "9afa22e5",
   "metadata": {},
   "outputs": [],
   "source": [
    "trainer.start()"
   ]
  },
  {
   "cell_type": "code",
   "execution_count": null,
   "id": "b76f4783",
   "metadata": {},
   "outputs": [],
   "source": [
    "import time, math\n",
    "import numpy as np\n",
    "from threading import Lock\n",
    "\n",
    "class StatsTicker:\n",
    "    def __init__(self, trainer, lag=1000):\n",
    "        self.trainer = trainer\n",
    "        self.lag = lag\n",
    "        self.tick = 0\n",
    "        self.data = []\n",
    "        self.bokeh = {}\n",
    "        self.bokeh_handle = None\n",
    "        self.updating = False\n",
    "        \n",
    "    def poll(self):\n",
    "        self.data += trainer.loss()\n",
    "\n",
    "    def stats(self):\n",
    "        lag = self.lag\n",
    "        self.poll()\n",
    "        if len(self.data) == 0:\n",
    "            return {'time' : [], 'mean_loss' : []}\n",
    "        if self.tick < lag:\n",
    "            trailing = self.data[:]\n",
    "            T = np.array([datum[1]-self.data[0][1] for datum in trailing])\n",
    "            loss = np.array([datum[2] for datum in trailing])\n",
    "            cs = np.cumsum(loss)\n",
    "            mean = [ cs[i]/(i+1) for i in range(self.tick) ]\n",
    "            self.tick = len(self.data)\n",
    "            return {'time': T[self.tick:], 'mean_loss': mean[self.tick:] }\n",
    "        else:\n",
    "            trailing = self.data[self.tick-lag:]\n",
    "            times = [datum[1] for datum in trailing]\n",
    "            loss = [datum[2] for datum in trailing]\n",
    "            s1 = np.array(loss)\n",
    "            s2 = np.square(s1)\n",
    "            cs1 = np.cumsum(s1)\n",
    "            cs2 = np.cumsum(s2)\n",
    "            avg1 = (cs1[lag:] - cs1[:-lag])/float(lag)\n",
    "            avg2 = (cs2[lag:] - cs2[:-lag])/float(lag)\n",
    "            mean = avg1\n",
    "            var = avg2 - np.square(avg1)\n",
    "            sd = np.sqrt(var)\n",
    "            T = np.array(times[lag:]) - self.data[0][1]\n",
    "            self.tick = len(self.data)\n",
    "            return {'time' : T, 'mean_loss' : mean} #(T, mean, var, sd)\n",
    "        \n",
    "    def display(self, updates=True):\n",
    "        TOOLS=\"crosshair,pan,wheel_zoom,box_zoom,reset,tap,box_select,lasso_select\"\n",
    "        self.bokeh[\"figure\"] = figure(tools=TOOLS)\n",
    "        self.bokeh[\"figure\"].axis.major_label_text_font_size = \"24px\"\n",
    "        hover = HoverTool(tooltips=None, mode=\"vline\")\n",
    "        self.bokeh[\"figure\"].add_tools(hover)\n",
    "        data = self.stats()\n",
    "        self.bokeh[\"mean_loss\"] = self.bokeh[\"figure\"].line(data['time'],data['mean_loss'])\n",
    "        self.bokeh_handle = show(self.bokeh[\"figure\"], notebook_handle=True)\n",
    "        if updates:\n",
    "            self.start()\n",
    "            \n",
    "    def start(self):\n",
    "        if not self.updating:\n",
    "            self.updating = True\n",
    "            self.updater = Thread(target=StatsTicker._update_loop, args=(self,))\n",
    "            self.updater.start()\n",
    "            \n",
    "    def stop(self):\n",
    "        if self.updating:\n",
    "            self.updating = False\n",
    "            self.updater.join()\n",
    "            \n",
    "    def _update_loop(self):\n",
    "        while self.updating:\n",
    "            time.sleep(.1)\n",
    "            data = self.stats()        \n",
    "            self.bokeh[\"mean_loss\"].data_source.stream({'x':data['time'], 'y':data['mean_loss']})\n",
    "            push_notebook(handle=self.bokeh_handle)"
   ]
  },
  {
   "cell_type": "code",
   "execution_count": null,
   "id": "9754272e",
   "metadata": {},
   "outputs": [],
   "source": [
    "ticker = StatsTicker(trainer)"
   ]
  },
  {
   "cell_type": "code",
   "execution_count": null,
   "id": "439a8149",
   "metadata": {},
   "outputs": [],
   "source": [
    "ticker.display()"
   ]
  },
  {
   "cell_type": "code",
   "execution_count": null,
   "id": "cee1f064",
   "metadata": {},
   "outputs": [],
   "source": [
    "len(ticker.data), len(dataset)"
   ]
  },
  {
   "cell_type": "code",
   "execution_count": null,
   "id": "2d887f95",
   "metadata": {},
   "outputs": [],
   "source": [
    "trainer.status()"
   ]
  },
  {
   "cell_type": "code",
   "execution_count": null,
   "id": "be0f7fd5",
   "metadata": {},
   "outputs": [],
   "source": [
    "x[1].shape"
   ]
  },
  {
   "cell_type": "code",
   "execution_count": null,
   "id": "3e9a7b68",
   "metadata": {},
   "outputs": [],
   "source": [
    "# batch_schedule = [(100,  32)] # (s, bsz)"
   ]
  },
  {
   "cell_type": "code",
   "execution_count": null,
   "id": "05fc0fe5",
   "metadata": {},
   "outputs": [],
   "source": [
    "trainer.set_batch_size(128)"
   ]
  },
  {
   "cell_type": "code",
   "execution_count": null,
   "id": "8989765e",
   "metadata": {},
   "outputs": [],
   "source": [
    "trainer.autocomplete()\n",
    "pass"
   ]
  },
  {
   "cell_type": "code",
   "execution_count": null,
   "id": "18a6ecd1",
   "metadata": {},
   "outputs": [],
   "source": [
    "ticker.stop()"
   ]
  },
  {
   "cell_type": "code",
   "execution_count": null,
   "id": "3dc38204",
   "metadata": {},
   "outputs": [],
   "source": [
    "ticker.start()"
   ]
  },
  {
   "cell_type": "code",
   "execution_count": null,
   "id": "5e231085",
   "metadata": {},
   "outputs": [],
   "source": [
    "ticker.stats()"
   ]
  },
  {
   "cell_type": "code",
   "execution_count": null,
   "id": "36d97e4c",
   "metadata": {},
   "outputs": [],
   "source": []
  }
 ],
 "metadata": {
  "kernelspec": {
   "display_name": "Python 3",
   "language": "python",
   "name": "python3"
  },
  "language_info": {
   "codemirror_mode": {
    "name": "ipython",
    "version": 3
   },
   "file_extension": ".py",
   "mimetype": "text/x-python",
   "name": "python",
   "nbconvert_exporter": "python",
   "pygments_lexer": "ipython3",
   "version": "3.8.10"
  }
 },
 "nbformat": 4,
 "nbformat_minor": 5
}
