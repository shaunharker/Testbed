{
 "cells": [
  {
   "cell_type": "code",
   "execution_count": null,
   "id": "6af05649",
   "metadata": {},
   "outputs": [],
   "source": [
    "import torch\n",
    "from torch.optim import AdamW\n",
    "from testbed import TextDataset, Trainer, Net0, Net1, Transformer\n",
    "from testbed.util import decode_broken_utf8, default_device"
   ]
  },
  {
   "cell_type": "code",
   "execution_count": null,
   "id": "df177b89",
   "metadata": {},
   "outputs": [],
   "source": [
    "K = 8 # token embedding dimension (K stands for \"keys\" but dont ask for justification)\n",
    "C = 256 # number of tokens (C stands for \"classes\")"
   ]
  },
  {
   "cell_type": "code",
   "execution_count": null,
   "id": "d9f77551",
   "metadata": {},
   "outputs": [],
   "source": [
    "model_type = \"Net0\""
   ]
  },
  {
   "cell_type": "code",
   "execution_count": null,
   "id": "e084467a",
   "metadata": {},
   "outputs": [],
   "source": [
    "# Net0\n",
    "#   * N = L + 1\n",
    "if model_type == \"Net0\":\n",
    "    H = 8192*2 # 2**10 # number of hidden neurons (i.e. number of convolution kernels)\n",
    "    L = 128*2 # 128 # length of convolution kernel\n",
    "    N = L + 1\n",
    "    B = 8192 # batch size (i.e. examples per batch)\n",
    "    model = Net0(H=H, L=L, K=K, C=C).to(default_device())\n",
    "    dataset = TextDataset(N=N)\n",
    "    optimizer = AdamW(model.parameters())"
   ]
  },
  {
   "cell_type": "code",
   "execution_count": null,
   "id": "22f3cc1a",
   "metadata": {},
   "outputs": [],
   "source": [
    "# Net 1\n",
    "#   * N > L\n",
    "if model_type == \"Net1\":\n",
    "    H = 4096 # number of hidden neurons (i.e. number of convolution kernels)\n",
    "    L = 1024 # length of convolution kernel\n",
    "    N = 2*L\n",
    "    B = 32 # batch size (i.e. examples per batch)\n",
    "    model = Net1(H=H, L=L, K=K, C=C).to(default_device())\n",
    "    dataset = TextDataset(N=N)\n",
    "    optimizer = AdamW(model.parameters())"
   ]
  },
  {
   "cell_type": "code",
   "execution_count": null,
   "id": "6ca0afbb",
   "metadata": {},
   "outputs": [],
   "source": [
    "if model_type == \"Transformer\":\n",
    "    N = 8\n",
    "    model = Transformer().to(default_device())\n",
    "    dataset = TextDataset(N=N)\n",
    "    optimizer = AdamW(model.parameters())"
   ]
  },
  {
   "cell_type": "code",
   "execution_count": null,
   "id": "ba1a0889",
   "metadata": {},
   "outputs": [],
   "source": [
    "model_size = sum([p.numel() for p in model.parameters()])\n",
    "print(model_size)"
   ]
  },
  {
   "cell_type": "code",
   "execution_count": null,
   "id": "f5e7730d",
   "metadata": {},
   "outputs": [],
   "source": [
    "len(dataset)"
   ]
  },
  {
   "cell_type": "code",
   "execution_count": null,
   "id": "9eeb0115",
   "metadata": {},
   "outputs": [],
   "source": [
    "trainer = Trainer(model=model, N=N, B=B, dataset=dataset, optimizer=optimizer)"
   ]
  },
  {
   "cell_type": "code",
   "execution_count": null,
   "id": "1ec91aa7",
   "metadata": {},
   "outputs": [],
   "source": [
    "trainer.load()"
   ]
  },
  {
   "cell_type": "code",
   "execution_count": null,
   "id": "5a13de77",
   "metadata": {},
   "outputs": [],
   "source": [
    "trainer.losses = []\n",
    "trainer.compute_time = 0.0"
   ]
  },
  {
   "cell_type": "code",
   "execution_count": null,
   "id": "9afa22e5",
   "metadata": {},
   "outputs": [],
   "source": [
    "trainer.start()"
   ]
  },
  {
   "cell_type": "code",
   "execution_count": null,
   "id": "b76f4783",
   "metadata": {},
   "outputs": [],
   "source": [
    "from bokeh.io import push_notebook, show, output_notebook\n",
    "from bokeh.models import HoverTool, ColumnDataSource\n",
    "from bokeh.plotting import figure \n",
    "output_notebook()\n",
    "import time, math\n",
    "import numpy as np\n",
    "from threading import Thread, Lock\n",
    "\n",
    "class StatsTicker:\n",
    "    def __init__(self, trainer):\n",
    "        self.trainer = trainer\n",
    "        self.tick = 0\n",
    "        self.losses = self.trainer.update_losses()\n",
    "        self.bokeh = {}\n",
    "        self.bokeh_handle = None\n",
    "        self.updating = False\n",
    "        \n",
    "    def recent_stats(self):\n",
    "        self.losses = self.trainer.update_losses()\n",
    "        data = {'time' : [ x[1] for x in self.losses[self.tick:]],\n",
    "                'mean_loss' : [8*x[2]/math.log(256) for x in self.losses[self.tick:]]}\n",
    "        return data\n",
    "    \n",
    "    def display(self, updates=True):\n",
    "        TOOLS=\"pan,wheel_zoom,box_zoom,reset\"\n",
    "        self.bokeh[\"figure\"] = figure(tools=TOOLS)\n",
    "        self.bokeh[\"figure\"].axis.major_label_text_font_size = \"24px\"\n",
    "        hover = HoverTool(show_arrow=False,\n",
    "                          mode='vline',\n",
    "                          line_policy='next',\n",
    "                          tooltips=[('X_value', '$data_x'),\n",
    "                                    ('Y_value', '$data_y')])\n",
    "        self.bokeh[\"figure\"].add_tools(hover)\n",
    "        data = self.recent_stats()\n",
    "        self.bokeh[\"mean_loss\"] = self.bokeh[\"figure\"].line(data['time'],data['mean_loss'])\n",
    "        self.tick = len(self.losses)\n",
    "        self.bokeh_handle = show(self.bokeh[\"figure\"], notebook_handle=True)\n",
    "        if updates:\n",
    "            self.start()\n",
    "            \n",
    "    def start(self):\n",
    "        if not self.updating:\n",
    "            self.updating = True\n",
    "            self.updater = Thread(target=StatsTicker._update_loop, args=(self,), daemon=True)\n",
    "            self.updater.start()\n",
    "            \n",
    "    def stop(self):\n",
    "        if self.updating:\n",
    "            self.updating = False\n",
    "            self.updater.join()\n",
    "            \n",
    "    def _update_loop(self):\n",
    "        while self.updating:\n",
    "            time.sleep(1)\n",
    "            data = self.recent_stats()\n",
    "            if len(self.losses) > self.tick:\n",
    "                self.bokeh[\"mean_loss\"].data_source.stream({'x':data['time'], \n",
    "                                                            'y':data['mean_loss']})\n",
    "                self.tick = len(self.losses)\n",
    "            push_notebook(handle=self.bokeh_handle)"
   ]
  },
  {
   "cell_type": "code",
   "execution_count": null,
   "id": "9754272e",
   "metadata": {},
   "outputs": [],
   "source": [
    "ticker = StatsTicker(trainer)"
   ]
  },
  {
   "cell_type": "code",
   "execution_count": null,
   "id": "439a8149",
   "metadata": {
    "scrolled": false
   },
   "outputs": [],
   "source": [
    "ticker.display()"
   ]
  },
  {
   "cell_type": "code",
   "execution_count": null,
   "id": "1000bc2a",
   "metadata": {},
   "outputs": [],
   "source": [
    "trainer.set_batch_size(8192*3)"
   ]
  },
  {
   "cell_type": "code",
   "execution_count": null,
   "id": "8178e222",
   "metadata": {},
   "outputs": [],
   "source": [
    "ticker.losses[-10:]"
   ]
  },
  {
   "cell_type": "code",
   "execution_count": null,
   "id": "b296fd89",
   "metadata": {},
   "outputs": [],
   "source": [
    "trainer.save()"
   ]
  },
  {
   "cell_type": "code",
   "execution_count": null,
   "id": "ff34c5f5",
   "metadata": {},
   "outputs": [],
   "source": [
    "def smoother(data, lag):\n",
    "    cs = np.cumsum(np.array(data))\n",
    "    return (cs[lag:] - cs[:-lag])/lag"
   ]
  },
  {
   "cell_type": "code",
   "execution_count": null,
   "id": "2a09b662",
   "metadata": {},
   "outputs": [],
   "source": [
    "TOOLS=\"crosshair,pan,wheel_zoom,box_zoom,reset,tap,box_select,lasso_select\"\n",
    "logfig = figure(tools=TOOLS)\n",
    "logfig.axis.major_label_text_font_size = \"24px\"\n",
    "hover = HoverTool(tooltips=None, mode=\"vline\")\n",
    "logfig.add_tools(hover)\n",
    "lag = 0\n",
    "if lag > 0:\n",
    "    X = [x[1] for x in trainer.losses][lag:]\n",
    "    Y = [ 8*u / math.log(256) for u in smoother([x[2] for x in trainer.losses], lag)]\n",
    "else:\n",
    "    X = [x[1] for x in trainer.losses]\n",
    "    Y = [x[2] for x in trainer.losses]\n",
    "logline = logfig.line(X,Y)\n",
    "bokeh_handle = show(logfig)"
   ]
  },
  {
   "cell_type": "code",
   "execution_count": null,
   "id": "8989765e",
   "metadata": {},
   "outputs": [],
   "source": [
    "trainer.autocomplete()\n",
    "pass"
   ]
  },
  {
   "cell_type": "code",
   "execution_count": null,
   "id": "4f64b441",
   "metadata": {},
   "outputs": [],
   "source": [
    "for p in trainer.model.parameters():\n",
    "    print(p.shape, p, torch.max(p).item(), torch.min(p).item())"
   ]
  },
  {
   "cell_type": "code",
   "execution_count": null,
   "id": "41b78490",
   "metadata": {},
   "outputs": [],
   "source": [
    "trainer.stop()"
   ]
  },
  {
   "cell_type": "code",
   "execution_count": null,
   "id": "060871d5",
   "metadata": {},
   "outputs": [],
   "source": [
    "with torch.no_grad():\n",
    "    for i in range(1000):\n",
    "        print(model(dataset[i].view(1,-1).long().cuda()).item())"
   ]
  },
  {
   "cell_type": "code",
   "execution_count": null,
   "id": "ffe36639",
   "metadata": {},
   "outputs": [],
   "source": []
  }
 ],
 "metadata": {
  "kernelspec": {
   "display_name": "Python 3",
   "language": "python",
   "name": "python3"
  },
  "language_info": {
   "codemirror_mode": {
    "name": "ipython",
    "version": 3
   },
   "file_extension": ".py",
   "mimetype": "text/x-python",
   "name": "python",
   "nbconvert_exporter": "python",
   "pygments_lexer": "ipython3",
   "version": "3.8.10"
  }
 },
 "nbformat": 4,
 "nbformat_minor": 5
}
