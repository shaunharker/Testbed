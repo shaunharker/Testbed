{
 "cells": [
  {
   "cell_type": "code",
   "execution_count": 1,
   "id": "bef64020",
   "metadata": {},
   "outputs": [],
   "source": [
    "import numpy as np\n",
    "import time"
   ]
  },
  {
   "cell_type": "code",
   "execution_count": 2,
   "id": "be364104",
   "metadata": {},
   "outputs": [],
   "source": [
    "from threading import Thread"
   ]
  },
  {
   "cell_type": "code",
   "execution_count": 3,
   "id": "1f12b364",
   "metadata": {},
   "outputs": [],
   "source": [
    "from graceful import GracefulInterruptHandler"
   ]
  },
  {
   "cell_type": "code",
   "execution_count": 4,
   "id": "a20aa49f",
   "metadata": {},
   "outputs": [
    {
     "data": {
      "text/html": [
       "\n",
       "    <div class=\"bk-root\">\n",
       "        <a href=\"https://bokeh.org\" target=\"_blank\" class=\"bk-logo bk-logo-small bk-logo-notebook\"></a>\n",
       "        <span id=\"1002\">Loading BokehJS ...</span>\n",
       "    </div>"
      ]
     },
     "metadata": {},
     "output_type": "display_data"
    },
    {
     "data": {
      "application/javascript": [
       "\n",
       "(function(root) {\n",
       "  function now() {\n",
       "    return new Date();\n",
       "  }\n",
       "\n",
       "  var force = true;\n",
       "\n",
       "  if (typeof root._bokeh_onload_callbacks === \"undefined\" || force === true) {\n",
       "    root._bokeh_onload_callbacks = [];\n",
       "    root._bokeh_is_loading = undefined;\n",
       "  }\n",
       "\n",
       "  var JS_MIME_TYPE = 'application/javascript';\n",
       "  var HTML_MIME_TYPE = 'text/html';\n",
       "  var EXEC_MIME_TYPE = 'application/vnd.bokehjs_exec.v0+json';\n",
       "  var CLASS_NAME = 'output_bokeh rendered_html';\n",
       "\n",
       "  /**\n",
       "   * Render data to the DOM node\n",
       "   */\n",
       "  function render(props, node) {\n",
       "    var script = document.createElement(\"script\");\n",
       "    node.appendChild(script);\n",
       "  }\n",
       "\n",
       "  /**\n",
       "   * Handle when an output is cleared or removed\n",
       "   */\n",
       "  function handleClearOutput(event, handle) {\n",
       "    var cell = handle.cell;\n",
       "\n",
       "    var id = cell.output_area._bokeh_element_id;\n",
       "    var server_id = cell.output_area._bokeh_server_id;\n",
       "    // Clean up Bokeh references\n",
       "    if (id != null && id in Bokeh.index) {\n",
       "      Bokeh.index[id].model.document.clear();\n",
       "      delete Bokeh.index[id];\n",
       "    }\n",
       "\n",
       "    if (server_id !== undefined) {\n",
       "      // Clean up Bokeh references\n",
       "      var cmd = \"from bokeh.io.state import curstate; print(curstate().uuid_to_server['\" + server_id + \"'].get_sessions()[0].document.roots[0]._id)\";\n",
       "      cell.notebook.kernel.execute(cmd, {\n",
       "        iopub: {\n",
       "          output: function(msg) {\n",
       "            var id = msg.content.text.trim();\n",
       "            if (id in Bokeh.index) {\n",
       "              Bokeh.index[id].model.document.clear();\n",
       "              delete Bokeh.index[id];\n",
       "            }\n",
       "          }\n",
       "        }\n",
       "      });\n",
       "      // Destroy server and session\n",
       "      var cmd = \"import bokeh.io.notebook as ion; ion.destroy_server('\" + server_id + \"')\";\n",
       "      cell.notebook.kernel.execute(cmd);\n",
       "    }\n",
       "  }\n",
       "\n",
       "  /**\n",
       "   * Handle when a new output is added\n",
       "   */\n",
       "  function handleAddOutput(event, handle) {\n",
       "    var output_area = handle.output_area;\n",
       "    var output = handle.output;\n",
       "\n",
       "    // limit handleAddOutput to display_data with EXEC_MIME_TYPE content only\n",
       "    if ((output.output_type != \"display_data\") || (!Object.prototype.hasOwnProperty.call(output.data, EXEC_MIME_TYPE))) {\n",
       "      return\n",
       "    }\n",
       "\n",
       "    var toinsert = output_area.element.find(\".\" + CLASS_NAME.split(' ')[0]);\n",
       "\n",
       "    if (output.metadata[EXEC_MIME_TYPE][\"id\"] !== undefined) {\n",
       "      toinsert[toinsert.length - 1].firstChild.textContent = output.data[JS_MIME_TYPE];\n",
       "      // store reference to embed id on output_area\n",
       "      output_area._bokeh_element_id = output.metadata[EXEC_MIME_TYPE][\"id\"];\n",
       "    }\n",
       "    if (output.metadata[EXEC_MIME_TYPE][\"server_id\"] !== undefined) {\n",
       "      var bk_div = document.createElement(\"div\");\n",
       "      bk_div.innerHTML = output.data[HTML_MIME_TYPE];\n",
       "      var script_attrs = bk_div.children[0].attributes;\n",
       "      for (var i = 0; i < script_attrs.length; i++) {\n",
       "        toinsert[toinsert.length - 1].firstChild.setAttribute(script_attrs[i].name, script_attrs[i].value);\n",
       "        toinsert[toinsert.length - 1].firstChild.textContent = bk_div.children[0].textContent\n",
       "      }\n",
       "      // store reference to server id on output_area\n",
       "      output_area._bokeh_server_id = output.metadata[EXEC_MIME_TYPE][\"server_id\"];\n",
       "    }\n",
       "  }\n",
       "\n",
       "  function register_renderer(events, OutputArea) {\n",
       "\n",
       "    function append_mime(data, metadata, element) {\n",
       "      // create a DOM node to render to\n",
       "      var toinsert = this.create_output_subarea(\n",
       "        metadata,\n",
       "        CLASS_NAME,\n",
       "        EXEC_MIME_TYPE\n",
       "      );\n",
       "      this.keyboard_manager.register_events(toinsert);\n",
       "      // Render to node\n",
       "      var props = {data: data, metadata: metadata[EXEC_MIME_TYPE]};\n",
       "      render(props, toinsert[toinsert.length - 1]);\n",
       "      element.append(toinsert);\n",
       "      return toinsert\n",
       "    }\n",
       "\n",
       "    /* Handle when an output is cleared or removed */\n",
       "    events.on('clear_output.CodeCell', handleClearOutput);\n",
       "    events.on('delete.Cell', handleClearOutput);\n",
       "\n",
       "    /* Handle when a new output is added */\n",
       "    events.on('output_added.OutputArea', handleAddOutput);\n",
       "\n",
       "    /**\n",
       "     * Register the mime type and append_mime function with output_area\n",
       "     */\n",
       "    OutputArea.prototype.register_mime_type(EXEC_MIME_TYPE, append_mime, {\n",
       "      /* Is output safe? */\n",
       "      safe: true,\n",
       "      /* Index of renderer in `output_area.display_order` */\n",
       "      index: 0\n",
       "    });\n",
       "  }\n",
       "\n",
       "  // register the mime type if in Jupyter Notebook environment and previously unregistered\n",
       "  if (root.Jupyter !== undefined) {\n",
       "    var events = require('base/js/events');\n",
       "    var OutputArea = require('notebook/js/outputarea').OutputArea;\n",
       "\n",
       "    if (OutputArea.prototype.mime_types().indexOf(EXEC_MIME_TYPE) == -1) {\n",
       "      register_renderer(events, OutputArea);\n",
       "    }\n",
       "  }\n",
       "\n",
       "  \n",
       "  if (typeof (root._bokeh_timeout) === \"undefined\" || force === true) {\n",
       "    root._bokeh_timeout = Date.now() + 5000;\n",
       "    root._bokeh_failed_load = false;\n",
       "  }\n",
       "\n",
       "  var NB_LOAD_WARNING = {'data': {'text/html':\n",
       "     \"<div style='background-color: #fdd'>\\n\"+\n",
       "     \"<p>\\n\"+\n",
       "     \"BokehJS does not appear to have successfully loaded. If loading BokehJS from CDN, this \\n\"+\n",
       "     \"may be due to a slow or bad network connection. Possible fixes:\\n\"+\n",
       "     \"</p>\\n\"+\n",
       "     \"<ul>\\n\"+\n",
       "     \"<li>re-rerun `output_notebook()` to attempt to load from CDN again, or</li>\\n\"+\n",
       "     \"<li>use INLINE resources instead, as so:</li>\\n\"+\n",
       "     \"</ul>\\n\"+\n",
       "     \"<code>\\n\"+\n",
       "     \"from bokeh.resources import INLINE\\n\"+\n",
       "     \"output_notebook(resources=INLINE)\\n\"+\n",
       "     \"</code>\\n\"+\n",
       "     \"</div>\"}};\n",
       "\n",
       "  function display_loaded() {\n",
       "    var el = document.getElementById(\"1002\");\n",
       "    if (el != null) {\n",
       "      el.textContent = \"BokehJS is loading...\";\n",
       "    }\n",
       "    if (root.Bokeh !== undefined) {\n",
       "      if (el != null) {\n",
       "        el.textContent = \"BokehJS \" + root.Bokeh.version + \" successfully loaded.\";\n",
       "      }\n",
       "    } else if (Date.now() < root._bokeh_timeout) {\n",
       "      setTimeout(display_loaded, 100)\n",
       "    }\n",
       "  }\n",
       "\n",
       "\n",
       "  function run_callbacks() {\n",
       "    try {\n",
       "      root._bokeh_onload_callbacks.forEach(function(callback) {\n",
       "        if (callback != null)\n",
       "          callback();\n",
       "      });\n",
       "    } finally {\n",
       "      delete root._bokeh_onload_callbacks\n",
       "    }\n",
       "    console.debug(\"Bokeh: all callbacks have finished\");\n",
       "  }\n",
       "\n",
       "  function load_libs(css_urls, js_urls, callback) {\n",
       "    if (css_urls == null) css_urls = [];\n",
       "    if (js_urls == null) js_urls = [];\n",
       "\n",
       "    root._bokeh_onload_callbacks.push(callback);\n",
       "    if (root._bokeh_is_loading > 0) {\n",
       "      console.debug(\"Bokeh: BokehJS is being loaded, scheduling callback at\", now());\n",
       "      return null;\n",
       "    }\n",
       "    if (js_urls == null || js_urls.length === 0) {\n",
       "      run_callbacks();\n",
       "      return null;\n",
       "    }\n",
       "    console.debug(\"Bokeh: BokehJS not loaded, scheduling load and callback at\", now());\n",
       "    root._bokeh_is_loading = css_urls.length + js_urls.length;\n",
       "\n",
       "    function on_load() {\n",
       "      root._bokeh_is_loading--;\n",
       "      if (root._bokeh_is_loading === 0) {\n",
       "        console.debug(\"Bokeh: all BokehJS libraries/stylesheets loaded\");\n",
       "        run_callbacks()\n",
       "      }\n",
       "    }\n",
       "\n",
       "    function on_error(url) {\n",
       "      console.error(\"failed to load \" + url);\n",
       "    }\n",
       "\n",
       "    for (let i = 0; i < css_urls.length; i++) {\n",
       "      const url = css_urls[i];\n",
       "      const element = document.createElement(\"link\");\n",
       "      element.onload = on_load;\n",
       "      element.onerror = on_error.bind(null, url);\n",
       "      element.rel = \"stylesheet\";\n",
       "      element.type = \"text/css\";\n",
       "      element.href = url;\n",
       "      console.debug(\"Bokeh: injecting link tag for BokehJS stylesheet: \", url);\n",
       "      document.body.appendChild(element);\n",
       "    }\n",
       "\n",
       "    const hashes = {\"https://cdn.bokeh.org/bokeh/release/bokeh-2.3.2.min.js\": \"XypntL49z55iwGVUW4qsEu83zKL3XEcz0MjuGOQ9SlaaQ68X/g+k1FcioZi7oQAc\", \"https://cdn.bokeh.org/bokeh/release/bokeh-tables-2.3.2.min.js\": \"bEsM86IHGDTLCS0Zod8a8WM6Y4+lafAL/eSiyQcuPzinmWNgNO2/olUF0Z2Dkn5i\", \"https://cdn.bokeh.org/bokeh/release/bokeh-widgets-2.3.2.min.js\": \"TX0gSQTdXTTeScqxj6PVQxTiRW8DOoGVwinyi1D3kxv7wuxQ02XkOxv0xwiypcAH\"};\n",
       "\n",
       "    for (let i = 0; i < js_urls.length; i++) {\n",
       "      const url = js_urls[i];\n",
       "      const element = document.createElement('script');\n",
       "      element.onload = on_load;\n",
       "      element.onerror = on_error.bind(null, url);\n",
       "      element.async = false;\n",
       "      element.src = url;\n",
       "      if (url in hashes) {\n",
       "        element.crossOrigin = \"anonymous\";\n",
       "        element.integrity = \"sha384-\" + hashes[url];\n",
       "      }\n",
       "      console.debug(\"Bokeh: injecting script tag for BokehJS library: \", url);\n",
       "      document.head.appendChild(element);\n",
       "    }\n",
       "  };\n",
       "\n",
       "  function inject_raw_css(css) {\n",
       "    const element = document.createElement(\"style\");\n",
       "    element.appendChild(document.createTextNode(css));\n",
       "    document.body.appendChild(element);\n",
       "  }\n",
       "\n",
       "  \n",
       "  var js_urls = [\"https://cdn.bokeh.org/bokeh/release/bokeh-2.3.2.min.js\", \"https://cdn.bokeh.org/bokeh/release/bokeh-widgets-2.3.2.min.js\", \"https://cdn.bokeh.org/bokeh/release/bokeh-tables-2.3.2.min.js\"];\n",
       "  var css_urls = [];\n",
       "  \n",
       "\n",
       "  var inline_js = [\n",
       "    function(Bokeh) {\n",
       "      Bokeh.set_log_level(\"info\");\n",
       "    },\n",
       "    function(Bokeh) {\n",
       "    \n",
       "    \n",
       "    }\n",
       "  ];\n",
       "\n",
       "  function run_inline_js() {\n",
       "    \n",
       "    if (root.Bokeh !== undefined || force === true) {\n",
       "      \n",
       "    for (var i = 0; i < inline_js.length; i++) {\n",
       "      inline_js[i].call(root, root.Bokeh);\n",
       "    }\n",
       "    if (force === true) {\n",
       "        display_loaded();\n",
       "      }} else if (Date.now() < root._bokeh_timeout) {\n",
       "      setTimeout(run_inline_js, 100);\n",
       "    } else if (!root._bokeh_failed_load) {\n",
       "      console.log(\"Bokeh: BokehJS failed to load within specified timeout.\");\n",
       "      root._bokeh_failed_load = true;\n",
       "    } else if (force !== true) {\n",
       "      var cell = $(document.getElementById(\"1002\")).parents('.cell').data().cell;\n",
       "      cell.output_area.append_execute_result(NB_LOAD_WARNING)\n",
       "    }\n",
       "\n",
       "  }\n",
       "\n",
       "  if (root._bokeh_is_loading === 0) {\n",
       "    console.debug(\"Bokeh: BokehJS loaded, going straight to plotting\");\n",
       "    run_inline_js();\n",
       "  } else {\n",
       "    load_libs(css_urls, js_urls, function() {\n",
       "      console.debug(\"Bokeh: BokehJS plotting callback run at\", now());\n",
       "      run_inline_js();\n",
       "    });\n",
       "  }\n",
       "}(window));"
      ],
      "application/vnd.bokehjs_load.v0+json": "\n(function(root) {\n  function now() {\n    return new Date();\n  }\n\n  var force = true;\n\n  if (typeof root._bokeh_onload_callbacks === \"undefined\" || force === true) {\n    root._bokeh_onload_callbacks = [];\n    root._bokeh_is_loading = undefined;\n  }\n\n  \n\n  \n  if (typeof (root._bokeh_timeout) === \"undefined\" || force === true) {\n    root._bokeh_timeout = Date.now() + 5000;\n    root._bokeh_failed_load = false;\n  }\n\n  var NB_LOAD_WARNING = {'data': {'text/html':\n     \"<div style='background-color: #fdd'>\\n\"+\n     \"<p>\\n\"+\n     \"BokehJS does not appear to have successfully loaded. If loading BokehJS from CDN, this \\n\"+\n     \"may be due to a slow or bad network connection. Possible fixes:\\n\"+\n     \"</p>\\n\"+\n     \"<ul>\\n\"+\n     \"<li>re-rerun `output_notebook()` to attempt to load from CDN again, or</li>\\n\"+\n     \"<li>use INLINE resources instead, as so:</li>\\n\"+\n     \"</ul>\\n\"+\n     \"<code>\\n\"+\n     \"from bokeh.resources import INLINE\\n\"+\n     \"output_notebook(resources=INLINE)\\n\"+\n     \"</code>\\n\"+\n     \"</div>\"}};\n\n  function display_loaded() {\n    var el = document.getElementById(\"1002\");\n    if (el != null) {\n      el.textContent = \"BokehJS is loading...\";\n    }\n    if (root.Bokeh !== undefined) {\n      if (el != null) {\n        el.textContent = \"BokehJS \" + root.Bokeh.version + \" successfully loaded.\";\n      }\n    } else if (Date.now() < root._bokeh_timeout) {\n      setTimeout(display_loaded, 100)\n    }\n  }\n\n\n  function run_callbacks() {\n    try {\n      root._bokeh_onload_callbacks.forEach(function(callback) {\n        if (callback != null)\n          callback();\n      });\n    } finally {\n      delete root._bokeh_onload_callbacks\n    }\n    console.debug(\"Bokeh: all callbacks have finished\");\n  }\n\n  function load_libs(css_urls, js_urls, callback) {\n    if (css_urls == null) css_urls = [];\n    if (js_urls == null) js_urls = [];\n\n    root._bokeh_onload_callbacks.push(callback);\n    if (root._bokeh_is_loading > 0) {\n      console.debug(\"Bokeh: BokehJS is being loaded, scheduling callback at\", now());\n      return null;\n    }\n    if (js_urls == null || js_urls.length === 0) {\n      run_callbacks();\n      return null;\n    }\n    console.debug(\"Bokeh: BokehJS not loaded, scheduling load and callback at\", now());\n    root._bokeh_is_loading = css_urls.length + js_urls.length;\n\n    function on_load() {\n      root._bokeh_is_loading--;\n      if (root._bokeh_is_loading === 0) {\n        console.debug(\"Bokeh: all BokehJS libraries/stylesheets loaded\");\n        run_callbacks()\n      }\n    }\n\n    function on_error(url) {\n      console.error(\"failed to load \" + url);\n    }\n\n    for (let i = 0; i < css_urls.length; i++) {\n      const url = css_urls[i];\n      const element = document.createElement(\"link\");\n      element.onload = on_load;\n      element.onerror = on_error.bind(null, url);\n      element.rel = \"stylesheet\";\n      element.type = \"text/css\";\n      element.href = url;\n      console.debug(\"Bokeh: injecting link tag for BokehJS stylesheet: \", url);\n      document.body.appendChild(element);\n    }\n\n    const hashes = {\"https://cdn.bokeh.org/bokeh/release/bokeh-2.3.2.min.js\": \"XypntL49z55iwGVUW4qsEu83zKL3XEcz0MjuGOQ9SlaaQ68X/g+k1FcioZi7oQAc\", \"https://cdn.bokeh.org/bokeh/release/bokeh-tables-2.3.2.min.js\": \"bEsM86IHGDTLCS0Zod8a8WM6Y4+lafAL/eSiyQcuPzinmWNgNO2/olUF0Z2Dkn5i\", \"https://cdn.bokeh.org/bokeh/release/bokeh-widgets-2.3.2.min.js\": \"TX0gSQTdXTTeScqxj6PVQxTiRW8DOoGVwinyi1D3kxv7wuxQ02XkOxv0xwiypcAH\"};\n\n    for (let i = 0; i < js_urls.length; i++) {\n      const url = js_urls[i];\n      const element = document.createElement('script');\n      element.onload = on_load;\n      element.onerror = on_error.bind(null, url);\n      element.async = false;\n      element.src = url;\n      if (url in hashes) {\n        element.crossOrigin = \"anonymous\";\n        element.integrity = \"sha384-\" + hashes[url];\n      }\n      console.debug(\"Bokeh: injecting script tag for BokehJS library: \", url);\n      document.head.appendChild(element);\n    }\n  };\n\n  function inject_raw_css(css) {\n    const element = document.createElement(\"style\");\n    element.appendChild(document.createTextNode(css));\n    document.body.appendChild(element);\n  }\n\n  \n  var js_urls = [\"https://cdn.bokeh.org/bokeh/release/bokeh-2.3.2.min.js\", \"https://cdn.bokeh.org/bokeh/release/bokeh-widgets-2.3.2.min.js\", \"https://cdn.bokeh.org/bokeh/release/bokeh-tables-2.3.2.min.js\"];\n  var css_urls = [];\n  \n\n  var inline_js = [\n    function(Bokeh) {\n      Bokeh.set_log_level(\"info\");\n    },\n    function(Bokeh) {\n    \n    \n    }\n  ];\n\n  function run_inline_js() {\n    \n    if (root.Bokeh !== undefined || force === true) {\n      \n    for (var i = 0; i < inline_js.length; i++) {\n      inline_js[i].call(root, root.Bokeh);\n    }\n    if (force === true) {\n        display_loaded();\n      }} else if (Date.now() < root._bokeh_timeout) {\n      setTimeout(run_inline_js, 100);\n    } else if (!root._bokeh_failed_load) {\n      console.log(\"Bokeh: BokehJS failed to load within specified timeout.\");\n      root._bokeh_failed_load = true;\n    } else if (force !== true) {\n      var cell = $(document.getElementById(\"1002\")).parents('.cell').data().cell;\n      cell.output_area.append_execute_result(NB_LOAD_WARNING)\n    }\n\n  }\n\n  if (root._bokeh_is_loading === 0) {\n    console.debug(\"Bokeh: BokehJS loaded, going straight to plotting\");\n    run_inline_js();\n  } else {\n    load_libs(css_urls, js_urls, function() {\n      console.debug(\"Bokeh: BokehJS plotting callback run at\", now());\n      run_inline_js();\n    });\n  }\n}(window));"
     },
     "metadata": {},
     "output_type": "display_data"
    }
   ],
   "source": [
    "from bokeh.io import push_notebook, show, output_notebook\n",
    "from bokeh.models import HoverTool, ColumnDataSource\n",
    "from bokeh.plotting import figure \n",
    "output_notebook()"
   ]
  },
  {
   "cell_type": "code",
   "execution_count": 5,
   "id": "6af05649",
   "metadata": {},
   "outputs": [],
   "source": [
    "import torch\n",
    "from testbed import TextDataset, DataLoader, Reporter, Trainer, Net0, Net1, default_device, Transformer\n",
    "from testbed import decode_broken_utf8"
   ]
  },
  {
   "cell_type": "code",
   "execution_count": null,
   "id": "db818f34",
   "metadata": {},
   "outputs": [],
   "source": []
  },
  {
   "cell_type": "code",
   "execution_count": 6,
   "id": "df177b89",
   "metadata": {},
   "outputs": [],
   "source": [
    "B = 16 # batch size (i.e. examples per batch)\n",
    "K = 8 # token embedding dimension (K stands for \"keys\" but dont ask for justification)\n",
    "C = 256 # number of tokens (C stands for \"classes\")"
   ]
  },
  {
   "cell_type": "code",
   "execution_count": null,
   "id": "64f31b92",
   "metadata": {},
   "outputs": [],
   "source": []
  },
  {
   "cell_type": "code",
   "execution_count": 7,
   "id": "8b01dc11",
   "metadata": {},
   "outputs": [],
   "source": [
    "#model = Transformer().to(default_device())"
   ]
  },
  {
   "cell_type": "code",
   "execution_count": 8,
   "id": "e084467a",
   "metadata": {},
   "outputs": [],
   "source": [
    "# Net0\n",
    "# constraints:\n",
    "H = 2**8 # number of hidden neurons (i.e. number of convolution kernels)\n",
    "L = 32 # length of convolution kernel\n",
    "N = L + 1\n",
    "model = Net0(H=H, L=L, K=K, C=C).to(default_device())"
   ]
  },
  {
   "cell_type": "code",
   "execution_count": 9,
   "id": "22f3cc1a",
   "metadata": {},
   "outputs": [],
   "source": [
    "# Net 1\n",
    "# assert N > L # tokens per example (each 64 should try to classify the one after)\n",
    "# model = Net1(H=H, L=L, K=K, C=C).to(default_device())\n"
   ]
  },
  {
   "cell_type": "code",
   "execution_count": 10,
   "id": "ba1a0889",
   "metadata": {},
   "outputs": [
    {
     "name": "stdout",
     "output_type": "stream",
     "text": [
      "133632\n"
     ]
    }
   ],
   "source": [
    "model_size = sum([p.numel() for p in model.parameters()])\n",
    "print(model_size)"
   ]
  },
  {
   "cell_type": "code",
   "execution_count": 11,
   "id": "8da9ce24",
   "metadata": {},
   "outputs": [],
   "source": [
    "dataset = TextDataset(N=N, B=B)"
   ]
  },
  {
   "cell_type": "code",
   "execution_count": 12,
   "id": "9eeb0115",
   "metadata": {},
   "outputs": [],
   "source": [
    "trainer = Trainer(model=model, dataset=dataset, batch_size=B)"
   ]
  },
  {
   "cell_type": "code",
   "execution_count": 13,
   "id": "21391f55",
   "metadata": {},
   "outputs": [
    {
     "name": "stdout",
     "output_type": "stream",
     "text": [
      "Running: False\n",
      "Paused: None\n"
     ]
    }
   ],
   "source": [
    "print(trainer.status())"
   ]
  },
  {
   "cell_type": "code",
   "execution_count": 14,
   "id": "9afa22e5",
   "metadata": {},
   "outputs": [],
   "source": [
    "trainer.start()"
   ]
  },
  {
   "cell_type": "code",
   "execution_count": 15,
   "id": "b76f4783",
   "metadata": {},
   "outputs": [],
   "source": [
    "class StatsTicker:\n",
    "    def __init__(self, trainer, lag=1000):\n",
    "        self.trainer = trainer\n",
    "        self.lag = lag\n",
    "        self.tick = 0\n",
    "        self.data = []\n",
    "        self.bokeh = {}\n",
    "        self.bokeh_handle = None\n",
    "        self.updating = False\n",
    "        \n",
    "    def poll(self):\n",
    "        self.data += trainer.loss()\n",
    "\n",
    "    def stats(self):\n",
    "        lag = self.lag\n",
    "        while len(self.data) <= self.tick + lag:\n",
    "            self.poll()\n",
    "            time.sleep(.1)\n",
    "        steps = [datum[0] for datum in self.data[self.tick:]]\n",
    "        times = [datum[1] for datum in self.data[self.tick:]]\n",
    "        loss = [datum[2] for datum in self.data[self.tick:]]\n",
    "        s1 = np.array(loss)\n",
    "        s2 = np.square(s1)\n",
    "        cs1 = np.cumsum(s1)\n",
    "        cs2 = np.cumsum(s2)\n",
    "        avg1 = (cs1[lag:] - cs1[:-lag])/float(lag)\n",
    "        avg2 = (cs2[lag:] - cs2[:-lag])/float(lag)\n",
    "        mean = avg1\n",
    "        var = avg2 - np.square(avg1)\n",
    "        sd = np.sqrt(var)\n",
    "        T = np.array(times[lag:]) - self.data[0][1]\n",
    "        self.tick += len(mean)\n",
    "        return {'time' : T, 'mean_loss' : mean} #(T, mean, var, sd)\n",
    "    \n",
    "    def display(self, updates=True):\n",
    "        TOOLS=\"crosshair,pan,wheel_zoom,box_zoom,reset,tap,box_select,lasso_select\"\n",
    "        self.bokeh[\"figure\"] = figure(tools=TOOLS)\n",
    "        self.bokeh[\"figure\"].axis.major_label_text_font_size = \"24px\"\n",
    "        hover = HoverTool(tooltips=None, mode=\"vline\")\n",
    "        self.bokeh[\"figure\"].add_tools(hover)\n",
    "        data = self.stats()\n",
    "        self.bokeh[\"mean_loss\"] = self.bokeh[\"figure\"].line(data['time'],data['mean_loss'])\n",
    "        self.bokeh_handle = show(self.bokeh[\"figure\"], notebook_handle=True)\n",
    "        if updates:\n",
    "            self.start()\n",
    "            \n",
    "    def start(self):\n",
    "        if not self.updating:\n",
    "            self.updating = True\n",
    "            self.updater = Thread(target=StatsTicker._update_loop, args=(self,))\n",
    "            self.updater.start()\n",
    "            \n",
    "    def stop(self):\n",
    "        if self.updating:\n",
    "            self.updating = False\n",
    "            self.updater.join()\n",
    "            \n",
    "    def _update_loop(self):\n",
    "        while self.updating:\n",
    "            data = self.stats()        \n",
    "            self.bokeh[\"mean_loss\"].data_source.stream({'x':data['time'], 'y':data['mean_loss']})\n",
    "            push_notebook(handle=self.bokeh_handle)"
   ]
  },
  {
   "cell_type": "code",
   "execution_count": 16,
   "id": "9754272e",
   "metadata": {},
   "outputs": [],
   "source": [
    "ticker = StatsTicker(trainer)"
   ]
  },
  {
   "cell_type": "code",
   "execution_count": 17,
   "id": "439a8149",
   "metadata": {},
   "outputs": [
    {
     "data": {
      "text/html": [
       "\n",
       "\n",
       "\n",
       "\n",
       "\n",
       "\n",
       "  <div class=\"bk-root\" id=\"d718b817-dbc1-4316-8307-22f1b9c4bced\" data-root-id=\"1003\"></div>\n"
      ]
     },
     "metadata": {},
     "output_type": "display_data"
    },
    {
     "data": {
      "application/javascript": [
       "(function(root) {\n",
       "  function embed_document(root) {\n",
       "    \n",
       "  var docs_json = {\"baf8d262-9c81-4832-8791-fdd2bb072271\":{\"defs\":[],\"roots\":{\"references\":[{\"attributes\":{\"below\":[{\"id\":\"1012\"}],\"center\":[{\"id\":\"1015\"},{\"id\":\"1019\"}],\"left\":[{\"id\":\"1016\"}],\"renderers\":[{\"id\":\"1045\"}],\"title\":{\"id\":\"1047\"},\"toolbar\":{\"id\":\"1031\"},\"x_range\":{\"id\":\"1004\"},\"x_scale\":{\"id\":\"1008\"},\"y_range\":{\"id\":\"1006\"},\"y_scale\":{\"id\":\"1010\"}},\"id\":\"1003\",\"subtype\":\"Figure\",\"type\":\"Plot\"},{\"attributes\":{},\"id\":\"1055\",\"type\":\"UnionRenderers\"},{\"attributes\":{\"formatter\":{\"id\":\"1052\"},\"major_label_policy\":{\"id\":\"1053\"},\"major_label_text_font_size\":\"24px\",\"ticker\":{\"id\":\"1013\"}},\"id\":\"1012\",\"type\":\"LinearAxis\"},{\"attributes\":{},\"id\":\"1010\",\"type\":\"LinearScale\"},{\"attributes\":{},\"id\":\"1052\",\"type\":\"BasicTickFormatter\"},{\"attributes\":{\"overlay\":{\"id\":\"1028\"}},\"id\":\"1026\",\"type\":\"BoxSelectTool\"},{\"attributes\":{},\"id\":\"1053\",\"type\":\"AllLabels\"},{\"attributes\":{},\"id\":\"1021\",\"type\":\"PanTool\"},{\"attributes\":{},\"id\":\"1047\",\"type\":\"Title\"},{\"attributes\":{\"fill_alpha\":0.5,\"fill_color\":\"lightgrey\",\"level\":\"overlay\",\"line_alpha\":1.0,\"line_color\":\"black\",\"line_dash\":[4,4],\"line_width\":2,\"syncable\":false,\"xs_units\":\"screen\",\"ys_units\":\"screen\"},\"id\":\"1030\",\"type\":\"PolyAnnotation\"},{\"attributes\":{},\"id\":\"1006\",\"type\":\"DataRange1d\"},{\"attributes\":{\"formatter\":{\"id\":\"1049\"},\"major_label_policy\":{\"id\":\"1050\"},\"major_label_text_font_size\":\"24px\",\"ticker\":{\"id\":\"1017\"}},\"id\":\"1016\",\"type\":\"LinearAxis\"},{\"attributes\":{\"active_multi\":null,\"tools\":[{\"id\":\"1020\"},{\"id\":\"1021\"},{\"id\":\"1022\"},{\"id\":\"1023\"},{\"id\":\"1024\"},{\"id\":\"1025\"},{\"id\":\"1026\"},{\"id\":\"1027\"},{\"id\":\"1040\"}]},\"id\":\"1031\",\"type\":\"Toolbar\"},{\"attributes\":{\"callback\":null,\"mode\":\"vline\",\"tooltips\":null},\"id\":\"1040\",\"type\":\"HoverTool\"},{\"attributes\":{\"overlay\":{\"id\":\"1030\"}},\"id\":\"1027\",\"type\":\"LassoSelectTool\"},{\"attributes\":{},\"id\":\"1004\",\"type\":\"DataRange1d\"},{\"attributes\":{},\"id\":\"1020\",\"type\":\"CrosshairTool\"},{\"attributes\":{\"overlay\":{\"id\":\"1029\"}},\"id\":\"1023\",\"type\":\"BoxZoomTool\"},{\"attributes\":{\"axis\":{\"id\":\"1016\"},\"dimension\":1,\"ticker\":null},\"id\":\"1019\",\"type\":\"Grid\"},{\"attributes\":{},\"id\":\"1024\",\"type\":\"ResetTool\"},{\"attributes\":{},\"id\":\"1008\",\"type\":\"LinearScale\"},{\"attributes\":{},\"id\":\"1017\",\"type\":\"BasicTicker\"},{\"attributes\":{\"axis\":{\"id\":\"1012\"},\"ticker\":null},\"id\":\"1015\",\"type\":\"Grid\"},{\"attributes\":{},\"id\":\"1022\",\"type\":\"WheelZoomTool\"},{\"attributes\":{\"callback\":null},\"id\":\"1025\",\"type\":\"TapTool\"},{\"attributes\":{\"data\":{\"x\":{\"__ndarray__\":\"AAAAgOKH7z8AAAAAWI/vPwAAAIAWl+8/AAAAAMOe7z8AAACAMKbvPwAAAIChre8/AAAAADW17z8AAACAPb3vPwAAAIBTxe8/AAAAgM/N7z8AAACAudXvPwAAAABx3e8/AAAAAPDk7z8AAACAZOzvPwAAAIDU8+8/AAAAADr77z8AAABAgwHwPwAAAABkBfA/AAAAgCUJ8D8AAAAAJQ3wPwAAAMDwEPA/AAAAQNMU8D8AAABAixjwPwAAAMBeHPA/AAAAgEsg8D8AAABAFyTwPwAAAEDwJ/A/AAAAgLEr8D8AAAAAjy/wPwAAAABIM/A/AAAAwP828D8AAABAtTrwPwAAAIBoPvA/AAAAAE1C8D8AAAAAMUbwPwAAAIDwSfA/AAAAAP5N8D8AAAAA2VHwPwAAAICUVfA/AAAAAEtZ8D8AAAAADF3wPwAAAIDeYPA/AAAAQLZk8D8AAAAAamjwPwAAAEAkbPA/AAAAwNlv8D8AAACAoHPwPwAAAMB6d/A/AAAAwDR78D8AAABA9X7wPwAAAADYgvA/AAAAwLOG8D8AAAAAbYrwPwAAAMA7jvA/AAAAAP6R8D8AAACA1ZXwPwAAAECLmfA/AAAAwD+d8D8AAABA9KDwPwAAAEC7pPA/AAAAAJWo8D8AAABATazwPwAAAIALsPA/AAAAgPCz8D8AAACAsbfwPwAAAICHu/A/AAAAQFC/8D8AAACAKMPwPwAAAMDgxvA/AAAAwJfK8D8AAAAASs7wPwAAAMAD0vA/AAAAwPvV8D8AAADA7tnwPwAAAIDA3fA/AAAAQITh8D8AAACARuXwPwAAAEAY6fA/AAAAwMvs8D8AAACAlfDwPwAAAABd9PA/AAAAgDb48D8AAACA6vvwPwAAAMCc//A/AAAAAE0D8T8AAAAALAfxPwAAAAACC/E/AAAAwLYO8T8AAADAcxLxPwAAAMA2FvE/AAAAwAsa8T8AAABAvh3xPwAAAIBzIfE/AAAAQEsl8T8AAAAA/ijxPwAAAACuLPE/AAAAgFow8T8AAACABzTxPwAAAIDKN/E/AAAAwJ478T8AAADATT/xPwAAAEASQ/E/AAAAQNJG8T8AAAAAx0rxPwAAAECFTvE/AAAAAChS8T8AAACAQFbxPw==\",\"dtype\":\"float64\",\"order\":\"little\",\"shape\":[107]},\"y\":{\"__ndarray__\":\"TmIQFFj6CECkcD16yfQIQNv5fq6+7whAd76fBjTqCECiRbbXD+YIQAAAADhw4ghADAIrm1ffCEAX2c6TddwIQArXo+Cm2QhAwcqhNZLXCEBEi2yDxtUIQC/dJJJf0ghAEFg5pGnPCEDjpZt0IcwIQMdLNwlqyQhAkxgE6vHFCECsHFpgosUIQOkmMbiwxAhA3SQG9dHDCEBMN4mZQcEIQHe+n1rzwAhAgZVDx8W+CEAv3ST6Or4IQKRwPaL4vAhAbef7wSi7CEAZBFa6VboIQIXrUSwzuAhAdZMYnMK1CEBU46UDeLUIQClcj8K5tAhAbef7BQy1CEBxPQo3cLQIQGiR7UDbswhAsHJoxeCzCECF61HIZ7MIQJHtfMMvsQhAVg4tdu2wCECYbhIf5a8IQOkmMWQYsAhAokW2B3ewCEDXo3BpbK8IQH0/NTZPrghATmIQRCmtCEAZBFbqNq0IQGZmZkqJrQhALbKds76rCEAtsp27/agIQA4tsnnnpghAtvP93IWlCEDy0k2SY6UIQCcxCJS0owhAtvP9pK+hCEAGgZVbK6IIQKrx0r3coAhAuB6Fa6GgCEASg8CKZKAIQEw3idmDnghAPzVePk2eCEDwp8YPh50IQDMzM2vPnAhAtvP9fJKdCEBU46XfE5wIQKJFtn+FmwhAc2iRtfOaCECq8dKNv5oIQPCnxrvUmghARItsSz+bCEAUrkehe5gIQFK4HoVhlwhADi2yAZ6XCECkcD0akJUIQGIQWOVKlAhABFYOsbOTCEAZBFZSlJIIQP7UeLkdkQhA16NwqeqPCEDpJjGoTY8IQFg5tARmjghAGy/dtPyOCECq8dIFo48IQPLSTTrkkAhAK4cWrcCPCEDl0CIjA48IQBBYOfw7jwhA9ihc07SPCECsHFqkW48IQF66STxUjghAg8DKeWqNCEDl0CJPf40IQOxRuLIPjQhArkfhZnaNCEBeuknouosIQHWTGODGiQhAQmDlKLKICEB56SY1m4cIQK5H4bLyhQhAO99P4byFCECyne9nP4YIQOXQIu+mhAhAj8L1zFuECEDByqHBfIIIQH0/NVJvgQhACKwc7tSACEAK16PETYAIQFYOLdLbgQhABFYOWSuACEBSuB4NtX4IQA==\",\"dtype\":\"float64\",\"order\":\"little\",\"shape\":[107]}},\"selected\":{\"id\":\"1056\"},\"selection_policy\":{\"id\":\"1055\"}},\"id\":\"1042\",\"type\":\"ColumnDataSource\"},{\"attributes\":{\"data_source\":{\"id\":\"1042\"},\"glyph\":{\"id\":\"1043\"},\"hover_glyph\":null,\"muted_glyph\":null,\"nonselection_glyph\":{\"id\":\"1044\"},\"view\":{\"id\":\"1046\"}},\"id\":\"1045\",\"type\":\"GlyphRenderer\"},{\"attributes\":{},\"id\":\"1050\",\"type\":\"AllLabels\"},{\"attributes\":{},\"id\":\"1013\",\"type\":\"BasicTicker\"},{\"attributes\":{\"bottom_units\":\"screen\",\"fill_alpha\":0.5,\"fill_color\":\"lightgrey\",\"left_units\":\"screen\",\"level\":\"overlay\",\"line_alpha\":1.0,\"line_color\":\"black\",\"line_dash\":[4,4],\"line_width\":2,\"right_units\":\"screen\",\"syncable\":false,\"top_units\":\"screen\"},\"id\":\"1028\",\"type\":\"BoxAnnotation\"},{\"attributes\":{},\"id\":\"1049\",\"type\":\"BasicTickFormatter\"},{\"attributes\":{\"source\":{\"id\":\"1042\"}},\"id\":\"1046\",\"type\":\"CDSView\"},{\"attributes\":{\"line_color\":\"#1f77b4\",\"x\":{\"field\":\"x\"},\"y\":{\"field\":\"y\"}},\"id\":\"1043\",\"type\":\"Line\"},{\"attributes\":{\"bottom_units\":\"screen\",\"fill_alpha\":0.5,\"fill_color\":\"lightgrey\",\"left_units\":\"screen\",\"level\":\"overlay\",\"line_alpha\":1.0,\"line_color\":\"black\",\"line_dash\":[4,4],\"line_width\":2,\"right_units\":\"screen\",\"syncable\":false,\"top_units\":\"screen\"},\"id\":\"1029\",\"type\":\"BoxAnnotation\"},{\"attributes\":{\"line_alpha\":0.1,\"line_color\":\"#1f77b4\",\"x\":{\"field\":\"x\"},\"y\":{\"field\":\"y\"}},\"id\":\"1044\",\"type\":\"Line\"},{\"attributes\":{},\"id\":\"1056\",\"type\":\"Selection\"}],\"root_ids\":[\"1003\"]},\"title\":\"Bokeh Application\",\"version\":\"2.3.2\"}};\n",
       "  var render_items = [{\"docid\":\"baf8d262-9c81-4832-8791-fdd2bb072271\",\"notebook_comms_target\":\"1060\",\"root_ids\":[\"1003\"],\"roots\":{\"1003\":\"d718b817-dbc1-4316-8307-22f1b9c4bced\"}}];\n",
       "  root.Bokeh.embed.embed_items_notebook(docs_json, render_items);\n",
       "\n",
       "  }\n",
       "  if (root.Bokeh !== undefined) {\n",
       "    embed_document(root);\n",
       "  } else {\n",
       "    var attempts = 0;\n",
       "    var timer = setInterval(function(root) {\n",
       "      if (root.Bokeh !== undefined) {\n",
       "        clearInterval(timer);\n",
       "        embed_document(root);\n",
       "      } else {\n",
       "        attempts++;\n",
       "        if (attempts > 100) {\n",
       "          clearInterval(timer);\n",
       "          console.log(\"Bokeh: ERROR: Unable to run BokehJS code because BokehJS library is missing\");\n",
       "        }\n",
       "      }\n",
       "    }, 10, root)\n",
       "  }\n",
       "})(window);"
      ],
      "application/vnd.bokehjs_exec.v0+json": ""
     },
     "metadata": {
      "application/vnd.bokehjs_exec.v0+json": {
       "id": "1003"
      }
     },
     "output_type": "display_data"
    }
   ],
   "source": [
    "ticker.display()"
   ]
  },
  {
   "cell_type": "code",
   "execution_count": 24,
   "id": "cee1f064",
   "metadata": {},
   "outputs": [
    {
     "data": {
      "text/plain": [
       "(255784, 186632)"
      ]
     },
     "execution_count": 24,
     "metadata": {},
     "output_type": "execute_result"
    }
   ],
   "source": [
    "len(ticker.data), len(dataset)"
   ]
  },
  {
   "cell_type": "code",
   "execution_count": null,
   "id": "2d887f95",
   "metadata": {},
   "outputs": [],
   "source": [
    "trainer.stop()"
   ]
  },
  {
   "cell_type": "code",
   "execution_count": null,
   "id": "be0f7fd5",
   "metadata": {},
   "outputs": [],
   "source": [
    "x[1].shape"
   ]
  },
  {
   "cell_type": "code",
   "execution_count": 23,
   "id": "05fc0fe5",
   "metadata": {},
   "outputs": [],
   "source": [
    "trainer.set_batch_size(2048)"
   ]
  },
  {
   "cell_type": "code",
   "execution_count": 20,
   "id": "8989765e",
   "metadata": {},
   "outputs": [
    {
     "name": "stdout",
     "output_type": "stream",
     "text": [
      "s-gangs sometimes stole and smug\n",
      "~AUTOCOMPLETE~\n",
      "her,\n",
      "of of itso fisent camliens finly was no she cont of bllorpers, dodeer\n",
      "\n",
      "ande stheridterbessionquuth to dould of dechafflefil dinchis un\n",
      "sfrectionsoin, that a\n",
      "polmestant at a outh sobert\n",
      "knomctions to shant inthes\n",
      "with it wat sover\n",
      "jupht at\n",
      "illaccu, cummenvemsel onling on thise had mustand in pointills aur-trep ast the\n",
      "Ceblithilly resermoof. And yumphed Furrand\n",
      "uptense. \" o moment\n",
      "noupht though, Loln\n",
      "reach thaid lang.\n",
      "Ot bere\n",
      "it to matcyed\n",
      "mact the kay eust wis off.ith soulfond to the stold.\n",
      "A wantll yicht markinith.\n",
      "\n",
      "\"ind whe har\n",
      "she of\n",
      "     TCetnoter Is will artompucting should to three,\n",
      "  to r.\n",
      "\n",
      "-Th heaghed hy myound of by opplode kile preevanty offollencly hist armeard\n",
      "--smouth and had\n",
      "haadf.'\n",
      "Hish in\n",
      "youls fforler--last his bay\n",
      "eydanown and Besprea\n",
      "cladeon, of mit biandinc: that harding intrema?\n",
      "\n",
      "[s Fept tome iff are off ve goind.\"\n",
      "\n",
      "\"At that ssarot, in plar' at, 33s, I\n",
      "Walko and he chatore, ever\n",
      "if thelinf sound.\n",
      "\n",
      "Brot took; thoness and andered to paith datest I Inl that he pand, who and had from. Lie\n"
     ]
    }
   ],
   "source": [
    "trainer.autocomplete()\n",
    "pass"
   ]
  },
  {
   "cell_type": "code",
   "execution_count": null,
   "id": "8ffe9e0c",
   "metadata": {},
   "outputs": [],
   "source": [
    "def autocomplete(trainer, model, dataset, prompt=\"\", N=1024, L=None):\n",
    "    was_paused = False\n",
    "    trainer.pause()\n",
    "    if L is None:\n",
    "        L = model.L\n",
    "    prompt = [b for b in bytes(dataset.random_text_snippet(L) + prompt, 'utf-8')][-L:]\n",
    "    completion = []\n",
    "    tail = prompt\n",
    "    for _ in range(N):\n",
    "        x = (torch.tensor(tail)\n",
    "                  .unsqueeze(0)\n",
    "                  .to(default_device())) # shape [1,L]\n",
    "        P = model.probs(x).view(-1)\n",
    "        prob_dist = torch.distributions.Categorical(P)\n",
    "        c_ord = prob_dist.sample().item()\n",
    "        tail = tail[1:] + [c_ord]\n",
    "        completion += [c_ord]\n",
    "    print(decode_broken_utf8(bytes(prompt)+bytes(\"\\n~AUTOCOMPLETE~\\n\",'utf-8') + bytes(completion)))\n",
    "\n",
    "    if not was_paused:\n",
    "        trainer.start()\n",
    "\n",
    "    return decode_broken_utf8(bytes(completion))"
   ]
  },
  {
   "cell_type": "code",
   "execution_count": null,
   "id": "0b71806a",
   "metadata": {},
   "outputs": [],
   "source": [
    "autocomplete(trainer, model, dataset)"
   ]
  },
  {
   "cell_type": "code",
   "execution_count": null,
   "id": "18a6ecd1",
   "metadata": {},
   "outputs": [],
   "source": []
  }
 ],
 "metadata": {
  "kernelspec": {
   "display_name": "Python 3",
   "language": "python",
   "name": "python3"
  },
  "language_info": {
   "codemirror_mode": {
    "name": "ipython",
    "version": 3
   },
   "file_extension": ".py",
   "mimetype": "text/x-python",
   "name": "python",
   "nbconvert_exporter": "python",
   "pygments_lexer": "ipython3",
   "version": "3.8.10"
  }
 },
 "nbformat": 4,
 "nbformat_minor": 5
}
