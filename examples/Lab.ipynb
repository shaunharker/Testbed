{
 "cells": [
  {
   "cell_type": "code",
   "execution_count": null,
   "id": "6af05649",
   "metadata": {},
   "outputs": [],
   "source": [
    "import math\n",
    "from math import log\n",
    "import time\n",
    "import torch\n",
    "import numpy as np\n",
    "from torch.optim import AdamW\n",
    "from testbed import TextDataset, Trainer, Net0, Net1, Net2, Net3, Net4, Transformer\n",
    "from testbed.optim import Sonny\n",
    "from testbed.util import decode_broken_utf8, default_device, numel\n",
    "from testbed.gui import Plot, StatsTicker, ParameterInspector, Histogram, SmoothPlot, LinePlot"
   ]
  },
  {
   "cell_type": "code",
   "execution_count": null,
   "id": "162db02e",
   "metadata": {},
   "outputs": [],
   "source": [
    "def cuda_memory():\n",
    "    t = torch.cuda.get_device_properties(0).total_memory\n",
    "    r = torch.cuda.memory_reserved(0) \n",
    "    a = torch.cuda.memory_allocated(0)\n",
    "    f = r-a  # free inside reserved\n",
    "    print(f\"Total {t}. Reserved {r}. Allocated {a}. Free {f}.\")\n",
    "    return (f, a, r, t) # code smell?\n",
    "\n",
    "def memory_allocated():\n",
    "    return torch.cuda.memory_allocated(0)"
   ]
  },
  {
   "cell_type": "code",
   "execution_count": null,
   "id": "e084467a",
   "metadata": {},
   "outputs": [],
   "source": [
    "\n",
    "net0_example=True\n",
    "if net0_example:\n",
    "    num_input_classes= 256 # 256 possible UTF-8 bytes\n",
    "    embedding_dim = 64 # Dimension of embedding space. An embedding layer has 256 points in this space.\n",
    "    context_length = 64 # Number of sequential bytes visible to model (i.e. in the context)\n",
    "    num_hidden = 1024 # Hyperparameter for neural network\n",
    "    num_output_classes = 256 # 256 possible UTF-8 bytes\n",
    "    model = Net0(num_input_classes=num_input_classes,\n",
    "                 embedding_dim=embedding_dim,\n",
    "                 context_length=context_length,\n",
    "                 num_hidden=num_hidden,\n",
    "                 num_output_classes=num_output_classes).to(default_device())\n",
    "    example_length = context_length + 1\n",
    "    dataset = TextDataset(example_length=example_length)\n",
    "    batch_size = 8192 # batch size (i.e. examples per batch)\n",
    "    OptimizerType = Sonny\n",
    "    "
   ]
  },
  {
   "cell_type": "code",
   "execution_count": null,
   "id": "11aaee74",
   "metadata": {},
   "outputs": [],
   "source": [
    "trainer.losses[-1]"
   ]
  },
  {
   "cell_type": "code",
   "execution_count": null,
   "id": "c80fd465",
   "metadata": {},
   "outputs": [],
   "source": [
    "12.708162306048019/8.323310613632202"
   ]
  },
  {
   "cell_type": "code",
   "execution_count": null,
   "id": "e3e13940",
   "metadata": {},
   "outputs": [],
   "source": [
    "cuda_memory()"
   ]
  },
  {
   "cell_type": "code",
   "execution_count": null,
   "id": "52a9af00",
   "metadata": {},
   "outputs": [],
   "source": [
    "memory_allocated()"
   ]
  },
  {
   "cell_type": "code",
   "execution_count": null,
   "id": "1796cb6a",
   "metadata": {},
   "outputs": [],
   "source": [
    "numel(model)"
   ]
  },
  {
   "cell_type": "code",
   "execution_count": null,
   "id": "fbc167e1",
   "metadata": {},
   "outputs": [],
   "source": [
    "net3_example=False\n",
    "if net3_example:\n",
    "    embedding_dim = 8\n",
    "    context_length = 256\n",
    "    num_hidden1 = 256\n",
    "    num_hidden2 = 256\n",
    "    model = Net3(embedding_dim=embedding_dim,\n",
    "                 context_length=context_length,\n",
    "                 num_hidden1=num_hidden1,\n",
    "                 num_hidden2=num_hidden2).to(default_device())\n",
    "    example_length = context_length + 1\n",
    "    dataset = TextDataset(example_length=example_length)\n",
    "    batch_size = 8192*1024 # batch size (i.e. examples per batch)\n",
    "    OptimizerType = Sonny"
   ]
  },
  {
   "cell_type": "code",
   "execution_count": null,
   "id": "8fd38623",
   "metadata": {},
   "outputs": [],
   "source": [
    "net4_example=False\n",
    "if net4_example:\n",
    "    E=8\n",
    "    L=1\n",
    "    M=512\n",
    "    H=2\n",
    "    model = Net4(E=E,L=L,M=M,H=H).to(default_device())\n",
    "    example_length = 64\n",
    "    dataset = TextDataset(example_length=example_length)\n",
    "    batch_size = 32 # batch size (i.e. examples per batch)\n",
    "    OptimizerType = Sonny"
   ]
  },
  {
   "cell_type": "code",
   "execution_count": null,
   "id": "ba1a0889",
   "metadata": {},
   "outputs": [],
   "source": [
    "numel(model), model.name()"
   ]
  },
  {
   "cell_type": "code",
   "execution_count": null,
   "id": "9eeb0115",
   "metadata": {},
   "outputs": [],
   "source": [
    "trainer = Trainer(model=model, \n",
    "                  example_length=example_length, \n",
    "                  batch_size=batch_size, \n",
    "                  dataset=dataset, \n",
    "                  OptimizerType=OptimizerType)"
   ]
  },
  {
   "cell_type": "code",
   "execution_count": null,
   "id": "52d1b654",
   "metadata": {},
   "outputs": [],
   "source": [
    "# trainer.load()"
   ]
  },
  {
   "cell_type": "code",
   "execution_count": null,
   "id": "87c418e2",
   "metadata": {},
   "outputs": [],
   "source": [
    "if False:\n",
    "    trainer = Trainer(\"net0_H8192_L32_E32_BPC1.87.pt\")\n",
    "    model = trainer.model"
   ]
  },
  {
   "cell_type": "code",
   "execution_count": null,
   "id": "573b946f",
   "metadata": {},
   "outputs": [],
   "source": [
    "numel(trainer.model)"
   ]
  },
  {
   "cell_type": "code",
   "execution_count": null,
   "id": "9afa22e5",
   "metadata": {},
   "outputs": [],
   "source": [
    "trainer.start()"
   ]
  },
  {
   "cell_type": "code",
   "execution_count": null,
   "id": "9754272e",
   "metadata": {},
   "outputs": [],
   "source": [
    "ticker = StatsTicker(trainer, kind='line')\n",
    "ticker"
   ]
  },
  {
   "cell_type": "code",
   "execution_count": null,
   "id": "c418c04b",
   "metadata": {},
   "outputs": [],
   "source": [
    "StatsTicker(trainer, x='compute_time', y='compute_energy')"
   ]
  },
  {
   "cell_type": "code",
   "execution_count": null,
   "id": "18b7e6a4",
   "metadata": {},
   "outputs": [],
   "source": [
    "13.5E12 / 25 / 1E9"
   ]
  },
  {
   "cell_type": "code",
   "execution_count": null,
   "id": "02751910",
   "metadata": {},
   "outputs": [],
   "source": [
    "trainer.set_optimizer_settings(lr=.001)"
   ]
  },
  {
   "cell_type": "code",
   "execution_count": null,
   "id": "3066afd1",
   "metadata": {},
   "outputs": [],
   "source": [
    "trainer.set_batch_size(8192*32)"
   ]
  },
  {
   "cell_type": "code",
   "execution_count": null,
   "id": "4221aaf5",
   "metadata": {},
   "outputs": [],
   "source": [
    "trainer.save()"
   ]
  },
  {
   "cell_type": "code",
   "execution_count": null,
   "id": "4936f7c1",
   "metadata": {},
   "outputs": [],
   "source": [
    "trainer.losses[-10:]"
   ]
  },
  {
   "cell_type": "code",
   "execution_count": null,
   "id": "0dfb7abd",
   "metadata": {},
   "outputs": [],
   "source": []
  },
  {
   "cell_type": "code",
   "execution_count": null,
   "id": "8989765e",
   "metadata": {},
   "outputs": [],
   "source": [
    "trainer.autocomplete()\n",
    "pass"
   ]
  },
  {
   "cell_type": "markdown",
   "id": "bc495649",
   "metadata": {},
   "source": [
    "## Some Plots"
   ]
  },
  {
   "cell_type": "code",
   "execution_count": null,
   "id": "8b04c543",
   "metadata": {},
   "outputs": [],
   "source": []
  },
  {
   "cell_type": "markdown",
   "id": "e4fc968d",
   "metadata": {},
   "source": [
    "## Plot\n",
    "\n",
    "Just a simple plot function. A one liner."
   ]
  },
  {
   "cell_type": "code",
   "execution_count": null,
   "id": "796177a8",
   "metadata": {},
   "outputs": [],
   "source": [
    "L = np.array(trainer.losses)\n",
    "X = L[:,0]\n",
    "Y = 8*L[:,2]/log(256)\n",
    "LinePlot(X,Y)"
   ]
  },
  {
   "cell_type": "markdown",
   "id": "f67bcaf5",
   "metadata": {},
   "source": [
    "### SmoothPlot"
   ]
  },
  {
   "cell_type": "code",
   "execution_count": null,
   "id": "44b7b617",
   "metadata": {},
   "outputs": [],
   "source": [
    "L = np.array(trainer.losses)\n",
    "X = L[:,1]\n",
    "Y = 8*L[:,2]/log(256)\n",
    "def smoother(data, lag):\n",
    "    cs = np.cumsum(data)\n",
    "    return (cs[lag:] - cs[:-lag])/lag\n",
    "\n",
    "class SmoothPlot(LinePlot):\n",
    "    def __init__(self, X=None, Y=None, lag=100, log=None):\n",
    "        if X is not None:\n",
    "            if Y is None:\n",
    "                Y = np.array(X)\n",
    "                X = np.array(range(len(X)))\n",
    "            else:\n",
    "                X = np.array(X)\n",
    "                Y = np.array(Y)\n",
    "            X = X[lag:]\n",
    "            Y = smoother(Y, lag)\n",
    "            if log:\n",
    "                X = np.log(X)/math.log(2)\n",
    "        super().__init__(X, Y)\n",
    "SmoothPlot(X, Y, lag=1000, log=True)"
   ]
  },
  {
   "cell_type": "code",
   "execution_count": null,
   "id": "a47b6602",
   "metadata": {},
   "outputs": [],
   "source": [
    "24*3600"
   ]
  },
  {
   "cell_type": "markdown",
   "id": "0a8381bf",
   "metadata": {},
   "source": [
    "### Autocomplete for Net4 (more generally, RNN, needs to be improved)"
   ]
  },
  {
   "cell_type": "code",
   "execution_count": null,
   "id": "c7366c3f",
   "metadata": {},
   "outputs": [],
   "source": [
    "def autocomplete(prompt=\"\", output_length=32):\n",
    "    prompt_bytes = bytes(prompt, encoding='utf-8')\n",
    "    init_len = len(prompt_bytes)\n",
    "    for _ in range(output_length):\n",
    "        P = trainer.model.probs(prompt_bytes)\n",
    "        #print(P.shape)\n",
    "        prob_dist = torch.distributions.Categorical(torch.tensor(P[-1]))\n",
    "        prompt_bytes = prompt_bytes + bytes([prob_dist.sample().item()])\n",
    "    print(decode_broken_utf8(bytes(prompt, encoding='utf-8')+bytes(\"\\n~AUTOCOMPLETE~\\n\",'utf-8') + prompt_bytes[init_len:]))"
   ]
  },
  {
   "cell_type": "code",
   "execution_count": null,
   "id": "35661333",
   "metadata": {},
   "outputs": [],
   "source": [
    "autocomplete(\"I imagine\")"
   ]
  },
  {
   "cell_type": "markdown",
   "id": "ce8375a1",
   "metadata": {},
   "source": [
    "## Benchmarking"
   ]
  },
  {
   "cell_type": "code",
   "execution_count": null,
   "id": "bf183daf",
   "metadata": {},
   "outputs": [],
   "source": [
    "import torch\n",
    "import torch.utils.benchmark as benchmark\n",
    "from torch.nn import Module, Embedding, Linear, CrossEntropyLoss, Softmax\n",
    "\n",
    "def speed_test(B=8192, m=4096, n=1024):\n",
    "    L = Linear(n, m).to('cuda')\n",
    "    x = torch.randn(B, n, device='cuda')\n",
    "    t = benchmark.Timer(\n",
    "        stmt='L(x)',\n",
    "        globals={'L': L, 'x': x})\n",
    "    T = t.timeit(10)\n",
    "    print(f'Benchmark:  {T.median* 1e6:>5.1f} us, {B*m*n / (1E9*T.median)} GFLOPS')\n",
    "    return T.median\n"
   ]
  },
  {
   "cell_type": "code",
   "execution_count": null,
   "id": "550395a3",
   "metadata": {},
   "outputs": [],
   "source": [
    "speed_test()"
   ]
  },
  {
   "cell_type": "code",
   "execution_count": null,
   "id": "ff4a8ec0",
   "metadata": {},
   "outputs": [],
   "source": [
    "import torch\n",
    "import torch.utils.benchmark as benchmark\n",
    "from torch.nn import Module, Embedding, Linear, CrossEntropyLoss, Softmax\n",
    "\n",
    "def speed_test(B=8192, m=4096, n=1024):\n",
    "    L = Linear(n, m).half().to('cuda')\n",
    "    x = torch.randn(B, n, device='cuda', dtype=torch.float16)\n",
    "    t = benchmark.Timer(\n",
    "        stmt='L(x)',\n",
    "        globals={'L': L, 'x': x})\n",
    "    T = t.timeit(20)\n",
    "    print(f'Benchmark:  {T.median* 1e6:>5.1f} us, {B*m*n / (1E9*T.median)} GFLOPS')\n",
    "    return T.median\n",
    "\n",
    "speed_test()\n"
   ]
  },
  {
   "cell_type": "code",
   "execution_count": null,
   "id": "dc96891d",
   "metadata": {},
   "outputs": [],
   "source": []
  }
 ],
 "metadata": {
  "kernelspec": {
   "display_name": "Python 3",
   "language": "python",
   "name": "python3"
  },
  "language_info": {
   "codemirror_mode": {
    "name": "ipython",
    "version": 3
   },
   "file_extension": ".py",
   "mimetype": "text/x-python",
   "name": "python",
   "nbconvert_exporter": "python",
   "pygments_lexer": "ipython3",
   "version": "3.8.10"
  }
 },
 "nbformat": 4,
 "nbformat_minor": 5
}
