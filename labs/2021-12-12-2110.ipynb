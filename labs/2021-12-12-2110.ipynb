{
 "cells": [
  {
   "cell_type": "code",
   "execution_count": 1,
   "id": "33fed699",
   "metadata": {},
   "outputs": [],
   "source": [
    "import sys\n",
    "sys.path.append(\"/home/sharker/github/scholar\")"
   ]
  },
  {
   "cell_type": "code",
   "execution_count": 2,
   "id": "6af05649",
   "metadata": {
    "scrolled": false
   },
   "outputs": [],
   "source": [
    "import asyncio\n",
    "import math\n",
    "from math import log, sin, cos, tan, exp, sqrt, pi\n",
    "import time\n",
    "from random import randrange\n",
    "import torch\n",
    "import numpy as np\n",
    "from scholar.trainer import Trainer\n",
    "from scholar.dataset import GutenbergGPT2Dataset, GutenbergBytesDataset\n",
    "from scholar.model import TransformerLM, StreamformerLM\n",
    "from scholar.optimizer import AdamW\n",
    "from scholar.autocomplete import autocomplete\n",
    "from scholar import numel"
   ]
  },
  {
   "cell_type": "code",
   "execution_count": 3,
   "id": "06a0b794",
   "metadata": {},
   "outputs": [],
   "source": [
    "if True:\n",
    "    path = '2021-12-12-2110.pt'"
   ]
  },
  {
   "cell_type": "code",
   "execution_count": 4,
   "id": "d836c6c7",
   "metadata": {
    "scrolled": false
   },
   "outputs": [],
   "source": [
    "if True:\n",
    "    model = torch.load(path).to('cuda')"
   ]
  },
  {
   "cell_type": "code",
   "execution_count": null,
   "id": "3c4af084",
   "metadata": {},
   "outputs": [],
   "source": [
    "model = TransformerLM(\n",
    "    n_vocab_in=50257,\n",
    "    n_vocab_out=50257,\n",
    "    n_ctx=1024,\n",
    "    d_model=1024,\n",
    "    d_k=32,\n",
    "    d_v=32,\n",
    "    n_heads=32,\n",
    "    d_hidden=[2048, 4096, 2048],\n",
    "    n_layers=3).to('cuda')"
   ]
  },
  {
   "cell_type": "code",
   "execution_count": null,
   "id": "89299fb8",
   "metadata": {},
   "outputs": [],
   "source": [
    "# model = TransformerLM(\n",
    "#     n_vocab_in=256,\n",
    "#     n_vocab_out=256,\n",
    "#     n_ctx=1024,\n",
    "#     d_model=2048,\n",
    "#     d_k=32,\n",
    "#     d_v=32,\n",
    "#     n_heads=64,\n",
    "#     d_hidden=4096,\n",
    "#     n_layers=3).to('cuda')"
   ]
  },
  {
   "cell_type": "code",
   "execution_count": 5,
   "id": "4965c860",
   "metadata": {},
   "outputs": [
    {
     "data": {
      "text/plain": [
       "179571793"
      ]
     },
     "execution_count": 5,
     "metadata": {},
     "output_type": "execute_result"
    }
   ],
   "source": [
    "numel(model)"
   ]
  },
  {
   "cell_type": "code",
   "execution_count": 6,
   "id": "2d44e13f",
   "metadata": {
    "scrolled": false
   },
   "outputs": [],
   "source": [
    "optimizer = AdamW(parameters=model.named_parameters())\n",
    "dataset = GutenbergGPT2Dataset()\n",
    "#dataset = GutenbergBytesDataset()\n",
    "\n",
    "batch_size = None\n",
    "example_length = model.n_ctx + 1\n",
    "\n",
    "trainer = Trainer(\n",
    "    model=model,\n",
    "    optimizer=optimizer,\n",
    "    dataset=dataset,\n",
    "    batch_size=batch_size,\n",
    "    example_length=example_length)"
   ]
  },
  {
   "cell_type": "code",
   "execution_count": 230,
   "id": "25468e2e",
   "metadata": {
    "scrolled": false
   },
   "outputs": [],
   "source": [
    "trainer.batch_size = 1\n",
    "trainer.example_length = 1025\n",
    "for (idx, (pn, p)) in enumerate(trainer.model.named_parameters()):\n",
    "    batch_multiplier = 100\n",
    "    lr_base = 1e-5\n",
    "    warm_up = 0\n",
    "    lr = lambda n: 0 if n < warm_up else lr_base *(1 + (n%1000))/1000 # * (1.0 + 9.0*cos(n*3.14159/10000)**2)\n",
    "    trainer.optimizer.state[pn][\"lr\"]           = lambda n: lr(n)\n",
    "    trainer.optimizer.state[pn][\"beta1\"]        = lambda n: 0.9\n",
    "    trainer.optimizer.state[pn][\"beta2\"]        = lambda n: 0.999\n",
    "    trainer.optimizer.state[pn][\"weight_decay\"] = lambda n: 0.001\n",
    "    trainer.optimizer.state[pn][\"update\"]       = lambda n: (n < warm_up) or (n%batch_multiplier == 0)"
   ]
  },
  {
   "cell_type": "code",
   "execution_count": 8,
   "id": "26c7c1cd",
   "metadata": {},
   "outputs": [],
   "source": [
    "class Shaping:\n",
    "    def __init__(self):\n",
    "        self.alpha=0.5\n",
    "    def __call__(self, batch, losses):\n",
    "        x = torch.mean(losses[...,:-1])\n",
    "        y = torch.mean(losses[...,-1])\n",
    "        return (1-self.alpha)*x + self.alpha*y\n",
    "    \n",
    "shaping = Shaping()\n",
    "\n",
    "async def train(trainer):\n",
    "    trainer.losses = []\n",
    "    while True:\n",
    "        loss = trainer.step(shaping=shaping)\n",
    "        trainer.losses.append(loss)\n",
    "        await asyncio.sleep(1e-4)"
   ]
  },
  {
   "cell_type": "code",
   "execution_count": 9,
   "id": "dc7b1443",
   "metadata": {},
   "outputs": [],
   "source": [
    "training_task = asyncio.create_task(train(trainer))\n",
    "t_start = time.time()"
   ]
  },
  {
   "cell_type": "code",
   "execution_count": 10,
   "id": "ef798d1f",
   "metadata": {},
   "outputs": [
    {
     "data": {
      "text/plain": [
       "<Task pending name='Task-3' coro=<train() running at /tmp/ipykernel_75872/1240271266.py:16> wait_for=<Future pending cb=[<TaskWakeupMethWrapper object at 0x7f68cc5b5df0>()]>>"
      ]
     },
     "execution_count": 10,
     "metadata": {},
     "output_type": "execute_result"
    }
   ],
   "source": [
    "training_task"
   ]
  },
  {
   "cell_type": "code",
   "execution_count": 200,
   "id": "ce5e774b",
   "metadata": {},
   "outputs": [],
   "source": [
    "shaping.alpha=1.0/1024"
   ]
  },
  {
   "cell_type": "code",
   "execution_count": 231,
   "id": "8c82ceab",
   "metadata": {},
   "outputs": [],
   "source": [
    "n0 = trainer.n\n",
    "t0 = time.time() - t_start"
   ]
  },
  {
   "cell_type": "code",
   "execution_count": 265,
   "id": "b9405e93",
   "metadata": {},
   "outputs": [],
   "source": [
    "n0 = 0\n",
    "t0 = 0"
   ]
  },
  {
   "cell_type": "code",
   "execution_count": 263,
   "id": "85e13505",
   "metadata": {},
   "outputs": [],
   "source": [
    "n0 = trainer.n // 2\n",
    "t0 = (time.time() - t_start)/2"
   ]
  },
  {
   "cell_type": "code",
   "execution_count": 266,
   "id": "8c0ba6a0",
   "metadata": {},
   "outputs": [
    {
     "name": "stdout",
     "output_type": "stream",
     "text": [
      "N = 11600, K = 11609, dn = 34829\n",
      "bpcest               = 1.709134\n",
      "bpc                  = 1.71483\n",
      "bpc0                 = 1.726223\n",
      "bpcph                ~ 13e-3 bpc per hour\n",
      "Lest                 = 0.355834\n",
      "L                    = 0.35702\n",
      "L0                   = 0.359392\n",
      "batch_size           = 1\n",
      "example_length       = 1025\n",
      "n                    = 34829 steps\n",
      "t                    = 8847 seconds\n",
      "n0                   = 0 steps\n",
      "dn                   = 34829 steps\n",
      "dt                   = 8847 seconds\n",
      "dn/dt                = 3.9 steps per second\n",
      "bytes left = 3019MiB / 14132MiB\n",
      "utf8 grade           = 78.6%\n",
      "learning rate: 6 KiBps, 24 MiBph\n",
      "feeding rate: 7 KiBps\n"
     ]
    }
   ],
   "source": [
    "n = trainer.n\n",
    "t = time.time() - t_start\n",
    "dn = n - n0\n",
    "dt = t - t0\n",
    "\n",
    "N = max(10, dn//30*10)\n",
    "K = dn//3\n",
    "print(f\"N = {N}, K = {K}, dn = {dn}\")\n",
    "L = np.mean(np.array(trainer.losses[n-N:n]))\n",
    "L0 = np.mean(np.array(trainer.losses[n0+K:n0+K+N]))\n",
    "dL = (L - L0)\n",
    "if False:\n",
    "    lyles_constant = 8 # utf8 version\n",
    "else:\n",
    "    lyles_constant = (9115131782/2)/14818489608 * log(50257)/log(256)*8 # gpt2 version\n",
    "\n",
    "bpc = lyles_constant*L\n",
    "bpc0 = lyles_constant*L0\n",
    "bpcest = (bpc - (bpc0-bpc)/2)\n",
    "Lest = (L - (L0-L)/2)\n",
    "rate = lyles_constant * -dL/dt * 14818489608 / 8 * 3\n",
    "message = '\\n'.join([\n",
    "    f\"bpcest               = {int(bpcest*1e6)/1e6}\",\n",
    "    f\"bpc                  = {int(bpc*1e6)/1e6}\",\n",
    "    f\"bpc0                 = {int(bpc0*1e6)/1e6}\",\n",
    "    f\"bpcph                ~ {int((bpc0-bpc)/dt*1e3*3600*3)}e-3 bpc per hour\",\n",
    "    f\"Lest                 = {int(Lest*1e6)/1e6}\",\n",
    "    f\"L                    = {int(L*1e6)/1e6}\",\n",
    "    f\"L0                   = {int(L0*1e6)/1e6}\",\n",
    "    f\"batch_size           = {trainer.batch_size}\",\n",
    "    f\"example_length       = {trainer.example_length}\",\n",
    "    f\"n                    = {n} steps\",\n",
    "    f\"t                    = {int(t)} seconds\",\n",
    "    f\"n0                   = {n0} steps\",\n",
    "    f\"dn                   = {int(dn)} steps\",\n",
    "    f\"dt                   = {int(dt)} seconds\",\n",
    "    f\"dn/dt                = {int(dn/dt*10)/10} steps per second\",\n",
    "    f\"bytes left = {int(bpcest/8*14818489608/2**20)}MiB / {int(14818489608/2**20)}MiB\",\n",
    "    f\"utf8 grade           = {int((8-bpcest)/8 * 1000)/10}%\",\n",
    "    f\"learning rate: {int(rate/1024)} KiBps, {int(rate*3600/2**20)} MiBph\",\n",
    "    f\"feeding rate: {int(trainer.batch_size*trainer.example_length*dn/dt*2/1024)} KiBps\"\n",
    "])\n",
    "print(message)"
   ]
  },
  {
   "cell_type": "code",
   "execution_count": null,
   "id": "08b5f1d9",
   "metadata": {},
   "outputs": [],
   "source": []
  },
  {
   "cell_type": "code",
   "execution_count": null,
   "id": "9ed96049",
   "metadata": {},
   "outputs": [],
   "source": []
  },
  {
   "cell_type": "code",
   "execution_count": 157,
   "id": "acbcd1c9",
   "metadata": {},
   "outputs": [],
   "source": [
    "prompt = \"\"\"To Dr. Faustus in his study Mephistopheles told the history of the\n",
    "Creation, saying: \"The endless praises of the choirs of angels had begun\n",
    "to grow wearisome; for, after all, did he not deserve their praise? Had\n",
    "he not given them endless joy? Would it not be more amusing to obtain\n",
    "undeserved praise, to be worshipped by beings whom he tortured? He smiled\n",
    "inwardly, and resolved that the great drama should be performed.\n",
    "\n",
    "\"For countless ages the hot nebula whirled aimlessly through space. At\n",
    "length it began to take shape, the central mass threw off planets, the\n",
    "planets cooled, boiling seas and burning mountains heaved and tossed,\n",
    "from black masses of cloud hot sheets of rain deluged the barely\n",
    "solid crust. And now the first germ of life grew in the depths of the\n",
    "ocean, and developed rapidly in the fructifying warmth into vast forest\n",
    "trees, huge ferns springing from the damp mould, sea monsters breeding,\n",
    "fighting, devouring, and passing away. And from the monsters, as the play\n",
    "unfolded itself, Man was born, with the power of thought, the knowledge\n",
    "of good and evil, and the cruel thirst for worship. And Man saw that\n",
    "all is passing in this mad, monstrous world, that all is struggling\n",
    "to snatch, at any cost, a few brief moments of life before Death's\n",
    "inexorable decree. And Man said: `There is a hidden purpose, could we\n",
    "but fathom it, and the purpose is good; for we must reverence something,\n",
    "and in the visible world there is nothing worthy of reverence.' And Man\n",
    "stood aside from the struggle, resolving that God intended harmony to\n",
    "come out of chaos by human efforts. And when he followed the instincts\n",
    "which God had transmitted to him from his ancestry of beasts of prey,\n",
    "he called it Sin, and asked God to forgive him. But he doubted whether\n",
    "he could be justly forgiven, until he invented a divine Plan by which\n",
    "God's wrath was to have been appeased. And seeing the present was bad,\n",
    "he made it yet worse, that thereby the future might be better. And he\n",
    "gave God thanks for the strength that enabled him to forgo even the joys\n",
    "that were possible. And God smiled; and when he saw that Man had become\n",
    "perfect in renunciation and worship, he sent another sun through the sky,\n",
    "which crashed into Man's sun; and all returned again to nebula.\n",
    "\n",
    "\"`Yes,' he murmured, `it was a good play; I will have it performed\n",
    "again.'\"\n",
    "\n",
    "Such, in outline, but even more purposeless, more void of meaning,\n",
    "is the world which Science presents for our belief. Amid such a world,\n",
    "if anywhere, our ideals henceforward must find a home. That Man is the\n",
    "product of causes which had no prevision of the end they were achieving;\n",
    "that his origin, his growth, his hopes and fears, his loves and his\n",
    "beliefs, are but the outcome of accidental collocations of atoms; that\n",
    "no fire, no heroism, no intensity of thought and feeling, can preserve\n",
    "an individual life beyond the grave; that all the labours of the ages,\n",
    "all the devotion, all the inspiration, all the noonday brightness of\n",
    "human genius, are destined to extinction in the vast death of the solar\n",
    "system, and that the whole temple of Man's achievement must inevitably be\n",
    "buried beneath the debris of a universe in ruins--all these things, if\n",
    "not quite beyond dispute, are yet so nearly certain, that no philosophy\n",
    "which rejects them can hope to stand. Only within the scaffolding of\n",
    "these truths, only on the firm foundation of unyielding despair, can\n",
    "the soul's habitation henceforth be safely built.\n",
    "\n",
    "How, in such an alien and inhuman world, can so powerless a creature\n",
    "as Man preserve his aspirations untarnished? A strange mystery it is\n",
    "that Nature, omnipotent but blind, in the revolutions of her secular\n",
    "hurryings through the abysses of space, has brought forth at last a child,\n",
    "subject still to her power, but gifted with sight, with knowledge of good\n",
    "and evil, with the capacity of judging all the works of his unthinking\n",
    "Mother. In spite of Death, the mark and seal of the parental control, Man\n",
    "is yet free, during his brief years, to examine, to criticise, to know,\n",
    "and in imagination to create. To him alone, in the world with which he\n",
    "is acquainted, this freedom belongs; and in this lies his superiority\n",
    "to the resistless forces that control his outward life.\n",
    "\n",
    "The savage, like ourselves, feels the oppression of his impotence before\n",
    "the powers of Nature; but having in himself nothing that he respects\n",
    "more than Power, he is willing to prostrate himself before his gods,\n",
    "without inquiring whether they are worthy of his worship. Pathetic and\n",
    "very terrible is the long history of cruelty and torture, of degradation\n",
    "and human sacrifice, endured in the hope of placating the jealous gods:\n",
    "surely, the trembling believer thinks, when what is most precious has been\n",
    "freely given, their lust for blood must be appeased, and more will not\n",
    "be required. The religion of Moloch--as such creeds may be generically\n",
    "called--is in essence the cringing submission of the slave, who dare\n",
    "not, even in his heart, allow the thought that his master deserves no\n",
    "adulation. Since the independence of ideals is not yet acknowledged,\n",
    "Power may be freely worshipped, and receive an unlimited respect,\n",
    "despite its wanton infliction of pain.\n",
    "\n",
    "But gradually, as morality grows bolder, the claim of the ideal world\n",
    "begins to be felt; and worship, if it is not to cease, must be given to\n",
    "gods of another kind than those created by the savage. Some, though\n",
    "they feel the demands of the ideal, will still consciously reject\n",
    "them, still urging that naked Power is worthy of worship. Such is\n",
    "the attitude inculcated in God's answer to Job out of the whirlwind:\n",
    "the divine power and knowledge are paraded, but of the divine goodness\n",
    "there is no hint. Such also is the attitude of those who, in our own day,\n",
    "base their morality upon the struggle for survival, maintaining that the\n",
    "survivors are necessarily the fittest. But others, not content with an\n",
    "answer so repugnant to the moral sense, will adopt the position which\n",
    "we have become accustomed to regard as specially religious, maintaining\n",
    "that, in some hidden manner, the world of fact is really harmonious with\n",
    "the world of ideals. Thus Man creates God, all-powerful and all-good,\n",
    "the mystic unity of what is and what should be.\n",
    "\n",
    "But the world of fact, after all, is not good; and, in submitting our\n",
    "judgment to it, there is an element of slavishness from which our thoughts\n",
    "must be purged. For in all things it is well to exalt the dignity of\n",
    "Man, by freeing him as far as possible from the tyranny of non-human\n",
    "Power. When we have realised that Power is largely bad, that man, with\n",
    "his knowledge of good and evil, is but a helpless atom in a world which\n",
    "has no such knowledge, the choice is again presented to us: Shall we\n",
    "worship Force, or shall we worship Goodness? Shall our God exist and be\n",
    "evil, or shall he be recognised as the creation of our own conscience?\n",
    "\n",
    "The answer to this question is very momentous, and affects profoundly\n",
    "our whole morality. The worship of Force, to which Carlyle and Nietzsche\n",
    "and the creed of Militarism have accustomed us, is the result of failure\n",
    "to maintain our own ideals against a hostile universe: it is itself\n",
    "a prostrate submission to evil, a sacrifice of our best to Moloch. If\n",
    "strength indeed is to be respected, let us respect rather the strength\n",
    "of those who refuse that false \"recognition of facts\" which fails to\n",
    "recognise that facts are often bad. Let us admit that, in the world we\n",
    "know, there are many things that would be better otherwise, and that\n",
    "the ideals to which we do and must adhere are not realised in the\n",
    "realm of matter. Let us preserve our respect for truth, for beauty,\n",
    "for the ideal of perfection which life does not permit us to attain,\n",
    "though none of these things meet with the approval of the unconscious\n",
    "universe. If Power is bad, as it seems to be, let us reject it from our\n",
    "hearts. In this lies Man's true freedom: in determination to worship\n",
    "only the God created by our own love of the good, to respect only the\n",
    "heaven which inspires the insight of our best moments. In action, in\n",
    "desire, we must submit perpetually to the tyranny of outside forces;\n",
    "but in thought, in aspiration, we are free, free from our fellow-men,\n",
    "free from the petty planet on which our bodies impotently crawl, free\n",
    "even, while we live, from the tyranny of death. Let us learn, then,\n",
    "that energy of faith which enables us to live constantly in the vision\n",
    "of the good; and let us descend, in action, into the world of fact,\n",
    "with that vision always before us.\n",
    "\n",
    "When first the opposition of fact and ideal grows fully visible, a\n",
    "spirit of fiery revolt, of fierce hatred of the gods, seems necessary to\n",
    "the assertion of freedom. To defy with Promethean constancy a hostile\n",
    "universe, to keep its evil always in view, always actively hated, to\n",
    "refuse no pain that the malice of Power can invent, appears to be the\n",
    "duty of all who will not bow before the inevitable. But indignation\n",
    "is still a bondage, for it compels our thoughts to be occupied with an\n",
    "evil world; and in the fierceness of desire from which rebellion springs\n",
    "there is a kind of self-assertion which it is necessary for the wise\n",
    "to overcome. Indignation is a submission of our thoughts, but not of\n",
    "our desires; the Stoic freedom in which wisdom consists is found in the\n",
    "submission of our desires, but not of our thoughts. From the submission\n",
    "of our desires springs the virtue of resignation; from the freedom of\n",
    "our thoughts springs the whole world of art and philosophy, and the\n",
    "vision of beauty by which, at last, we half reconquer the reluctant world.\n",
    "\"\"\""
   ]
  },
  {
   "cell_type": "code",
   "execution_count": 158,
   "id": "6a761ecc",
   "metadata": {
    "scrolled": false
   },
   "outputs": [
    {
     "name": "stdout",
     "output_type": "stream",
     "text": [
      "=== Prompt ===\n",
      "\n",
      "But gradually, as morality grows bolder, the claim of the ideal world\n",
      "begins to be felt; and worship, if it is not to cease, must be given to\n",
      "gods of another kind than those created by the savage. Some, though\n",
      "they feel the demands of the ideal, will still consciously reject\n",
      "them, still urging that naked Power is worthy of worship. Such is\n",
      "the attitude inculcated in God's answer to Job out of the whirlwind:\n",
      "the divine power and knowledge are paraded, but of the divine goodness\n",
      "there is no hint. Such also is the attitude of those who, in our own day,\n",
      "base their morality upon the struggle for survival, maintaining that the\n",
      "survivors are necessarily the fittest. But others, not content with an\n",
      "answer so repugnant to the moral sense, will adopt the position which\n",
      "we have become accustomed to regard as specially religious, maintaining\n",
      "that, in some hidden manner, the world of fact is really harmonious with\n",
      "the world of ideals. Thus Man creates God, all-powerful and all-good,\n",
      "the mystic unity of what is and what should be.\n",
      "\n",
      "But the world of fact, after all, is not good; and, in submitting our\n",
      "judgment to it, there is an element of slavishness from which our thoughts\n",
      "must be purged. For in all things it is well to exalt the dignity of\n",
      "Man, by freeing him as far as possible from the tyranny of non-human\n",
      "Power. When we have realised that Power is largely bad, that man, with\n",
      "his knowledge of good and evil, is but a helpless atom in a world which\n",
      "has no such knowledge, the choice is again presented to us: Shall we\n",
      "worship Force, or shall we worship Goodness? Shall our God exist and be\n",
      "evil, or shall he be recognised as the creation of our own conscience?\n",
      "\n",
      "The answer to this question is very momentous, and affects profoundly\n",
      "our whole morality. The worship of Force, to which Carlyle and Nietzsche\n",
      "and the creed of Militarism have accustomed us, is the result of failure\n",
      "to maintain our own ideals against a hostile universe: it is itself\n",
      "a prostrate submission to evil, a sacrifice of our best to Moloch. If\n",
      "strength indeed is to be respected, let us respect rather the strength\n",
      "of those who refuse that false \"recognition of facts\" which fails to\n",
      "recognise that facts are often bad. Let us admit that, in the world we\n",
      "know, there are many things that would be better otherwise, and that\n",
      "the ideals to which we do and must adhere are not realised in the\n",
      "realm of matter. Let us preserve our respect for truth, for beauty,\n",
      "for the ideal of perfection which life does not permit us to attain,\n",
      "though none of these things meet with the approval of the unconscious\n",
      "universe. If Power is bad, as it seems to be, let us reject it from our\n",
      "hearts. In this lies Man's true freedom: in determination to worship\n",
      "only the God created by our own love of the good, to respect only the\n",
      "heaven which inspires the insight of our best moments. In action, in\n",
      "desire, we must submit perpetually to the tyranny of outside forces;\n",
      "but in thought, in aspiration, we are free, free from our fellow-men,\n",
      "free from the petty planet on which our bodies impotently crawl, free\n",
      "even, while we live, from the tyranny of death. Let us learn, then,\n",
      "that energy of faith which enables us to live constantly in the vision\n",
      "of the good; and let us descend, in action, into the world of fact,\n",
      "with that vision always before us.\n",
      "\n",
      "When first the opposition of fact and ideal grows fully visible, a\n",
      "spirit of fiery revolt, of fierce hatred of the gods, seems necessary to\n",
      "the assertion of freedom. To defy with Promethean constancy a hostile\n",
      "universe, to keep its evil always in view, always actively hated, to\n",
      "refuse no pain that the malice of Power can invent, appears to be the\n",
      "duty of all who will not bow before the inevitable. But indignation\n",
      "is still a bondage, for it compels our thoughts to be occupied with an\n",
      "evil world; and in the fierceness of desire from which rebellion springs\n",
      "there is a kind of self-assertion which it is necessary for the wise\n",
      "to overcome. Indignation is a submission of our thoughts, but not of\n",
      "our desires; the Stoic freedom in which wisdom consists is found in the\n",
      "submission of our desires, but not of our thoughts. From the submission\n",
      "of our desires springs the virtue of resignation; from the freedom of\n",
      "our thoughts springs the whole world of art and philosophy, and the\n",
      "vision of beauty by which, at last, we half reconquer the reluctant world.\n",
      "\n",
      "=== Autocompletion ===\n",
      "\n",
      "would be, as we entertain Indians, for we may bestow our purposes will prove more\n",
      "entiredeclared, and like the form of system, and helps to decline, as\n",
      "me. Quarterly lesson to professing as to ASVER.\n",
      "\n",
      " roam knowledge: we shall later and speak upon them to counsel and\n",
      "of virtuous prejudices, as fixed as ever and luxurious. The perishable estimation of\n",
      "man may prove an augusts of the Lord, unless there is capable of\n",
      "it.\n",
      "It was something peculiar for this respect to the\n",
      "peace of clouds, and deception which could be maintained.\n",
      "\n",
      "Reynthia, both, hunted man, high and these emotions, and sorrows\n",
      "nor blow): I have also of a score or Atheneau houses which\n",
      "strates you indebted for individualodies, and our greatest folly, and peace is a\n",
      "and several amusements of nations, that their apartment.[35] Why do a great,\n",
      "legant tears of sufferings for the last way of a land? Sind and\n",
      " Neo of late And at hacking nature, proud, Cheöper, Supermen,\n",
      "and they were compelled ridicule.\n",
      "\n",
      "Haroked, as they understood, they were, as yet Petrarchasteful to the\n",
      "rain, which made me. Where, now speak martyuréaus did\n",
      "enstein with great counsel--is a meaning, and may be\n",
      "thinkarded in regard to the long years of their offspring, especially in both\n",
      "ights, and rainy observation, due disposition, and, would\n",
      "be rewarded them. They were greatly amused to raising them again in\n",
      "achieved evil influences, and to be no measure made of crime and that more desirable fails is the most\n",
      "application of peace.\n",
      "\n",
      "_This society more a advancing impression made of supremacy and a purely trials out of forfeited\n",
      "them more than the alternative than the enemy; of the two\n",
      "relation of theRECinals whom they bear upon them. In the present state\n",
      "of consciousness, acts a very strength is shown to be nominated against the weight of\n",
      "be sympathetic chute. The woman is built who diesatural; or\n",
      "practice of goodness and not of mind, for the\n",
      "speak of house or business which confirmsers within the man; and on lady must the\n",
      "me, who satires his position\n",
      "CPU times: user 42.1 s, sys: 12 ms, total: 42.1 s\n",
      "Wall time: 42.1 s\n"
     ]
    }
   ],
   "source": [
    "%%time\n",
    "response = autocomplete(\n",
    "    prompt=prompt,\n",
    "    model=model,\n",
    "    encode=dataset.encode,\n",
    "    decode=dataset.decode,\n",
    "    n_ctx=1024,\n",
    "    temp=1.0,\n",
    "    device=\"cuda\")\n",
    "print(response)"
   ]
  },
  {
   "cell_type": "code",
   "execution_count": null,
   "id": "e4c88c06",
   "metadata": {
    "scrolled": true
   },
   "outputs": [],
   "source": [
    "torch.save(trainer.model, f=path)"
   ]
  },
  {
   "cell_type": "code",
   "execution_count": null,
   "id": "10b24c8e",
   "metadata": {},
   "outputs": [],
   "source": [
    "14818489608/(9115131782/2) * .7 * 1024"
   ]
  },
  {
   "cell_type": "code",
   "execution_count": null,
   "id": "e89c375a",
   "metadata": {},
   "outputs": [],
   "source": []
  }
 ],
 "metadata": {
  "kernelspec": {
   "display_name": "Python 3 (ipykernel)",
   "language": "python",
   "name": "python3"
  },
  "language_info": {
   "codemirror_mode": {
    "name": "ipython",
    "version": 3
   },
   "file_extension": ".py",
   "mimetype": "text/x-python",
   "name": "python",
   "nbconvert_exporter": "python",
   "pygments_lexer": "ipython3",
   "version": "3.9.6"
  }
 },
 "nbformat": 4,
 "nbformat_minor": 5
}
