{
 "cells": [
  {
   "cell_type": "code",
   "execution_count": null,
   "id": "6af05649",
   "metadata": {},
   "outputs": [],
   "source": [
    "import asyncio\n",
    "from math import log, sin, cos, tan, exp, sqrt, pi\n",
    "from time import time, sleep\n",
    "from random import randrange\n",
    "import torch\n",
    "import numpy as np\n",
    "from classroom import Classroom\n",
    "from classroom import Student\n",
    "from classroom import RandomDataset as Dataset\n",
    "from classroom import MLPLM\n",
    "from classroom import TransformerLM\n",
    "from classroom import AdamW, Sonny, Floyd\n",
    "from classroom import Plot, Histogram\n",
    "from classroom import FilteredList\n",
    "from classroom import KalmanFilter1D\n",
    "from classroom import MedianFilter\n",
    "from classroom import TwoWindowFilter\n",
    "from classroom import CountFilter\n",
    "from classroom import SumFilter\n",
    "from classroom.util import numel"
   ]
  },
  {
   "cell_type": "markdown",
   "id": "a781090e",
   "metadata": {},
   "source": [
    "## Training"
   ]
  },
  {
   "cell_type": "markdown",
   "id": "f38af5a3",
   "metadata": {},
   "source": [
    "## Scheduling helpers"
   ]
  },
  {
   "cell_type": "code",
   "execution_count": null,
   "id": "a241c6fd",
   "metadata": {},
   "outputs": [],
   "source": [
    "constant = lambda c: lambda step: c\n",
    "linear_warmup_then_decay = (lambda lr, warmup: \n",
    "    lambda n: lr*(n/warmup) if n < warmup else lr*(warmup/n))"
   ]
  },
  {
   "cell_type": "markdown",
   "id": "b7f3ba18",
   "metadata": {},
   "source": [
    "## MLP Language Model"
   ]
  },
  {
   "cell_type": "code",
   "execution_count": null,
   "id": "170fcdc1",
   "metadata": {},
   "outputs": [],
   "source": [
    "def mlp_factory():\n",
    "#     model = MLPLM(\n",
    "#         n_vocab_in=256,\n",
    "#         n_vocab_out=256,\n",
    "#         n_ctx=64,\n",
    "#         d_model=64,\n",
    "#         d_hidden=8192*2,\n",
    "#         nonlinearity=\"GELU\").to('cuda')\n",
    "    model = torch.load('checkpoint_mlp.pt').to('cuda')\n",
    "    optimizer = AdamW(\n",
    "        parameters=model.parameters(), \n",
    "        eps=constant(1e-4), \n",
    "        lr=lambda n: 1e-7*sin(3.14159*n/512)**2 if n > 1000 else 0.0,\n",
    "        beta1=constant(0.9),\n",
    "        beta2=constant(0.999),\n",
    "        weight_decay=constant(0.00),\n",
    "        n=0)    \n",
    "#     optimizer = Sonny(\n",
    "#         parameters=model.parameters(), \n",
    "#         lr=lambda n: 1e-7*sin(3.14159*n/8192)**2 if n > 1000 else 0.0,\n",
    "#         n=0)\n",
    "\n",
    "    dataset = Dataset()\n",
    "    batch_size = 2048\n",
    "    example_length = model.n_ctx + 1\n",
    "    cost = (32*32*8192 + 256*32 + 8192*256)*3*batch_size\n",
    "    return Student(model=model, optimizer=optimizer,\n",
    "                    dataset=dataset, batch_size=batch_size,\n",
    "                    example_length=example_length)"
   ]
  },
  {
   "cell_type": "code",
   "execution_count": null,
   "id": "f109933b",
   "metadata": {},
   "outputs": [],
   "source": [
    "student = mlp_factory()"
   ]
  },
  {
   "cell_type": "code",
   "execution_count": null,
   "id": "feeb89e8",
   "metadata": {},
   "outputs": [],
   "source": [
    "student.model"
   ]
  },
  {
   "cell_type": "code",
   "execution_count": null,
   "id": "ead26bbe",
   "metadata": {},
   "outputs": [],
   "source": [
    "def trans_factory():\n",
    "    model = TransformerLM(\n",
    "        n_vocab_in=256,\n",
    "        n_vocab_out=256,\n",
    "        n_ctx=64,\n",
    "        d_model=256,\n",
    "        d_k=16,\n",
    "        d_v=16,\n",
    "        n_heads=16,\n",
    "        d_hidden=4096,\n",
    "        n_layers=2,\n",
    "        p_dropout_embedding=0.1,\n",
    "        p_dropout_attn_mat=0.1,\n",
    "        p_dropout_attn_out=0.1,\n",
    "        p_dropout_mlp=0.1).to('cuda')\n",
    "\n",
    "    optimizer = AdamW(\n",
    "        parameters=model.parameters(),\n",
    "        eps=constant(1e-4),\n",
    "        lr=lambda n: sin(n/512)**2 * 1e-5, \n",
    "        beta1=constant(0.9),\n",
    "        beta2=constant(0.999),\n",
    "        weight_decay=constant(0.01),\n",
    "        n=0)\n",
    "    dataset = Dataset()\n",
    "    batch_size = 64\n",
    "    example_length = model.n_ctx + 1\n",
    "    return Student(model=model, optimizer=optimizer,\n",
    "                    dataset=dataset, batch_size=batch_size,\n",
    "                    example_length=example_length)"
   ]
  },
  {
   "cell_type": "code",
   "execution_count": null,
   "id": "6d035c9e",
   "metadata": {},
   "outputs": [],
   "source": [
    "classroom = Classroom()\n",
    "student = mlp_factory()\n",
    "student.set_baseline(student.model.clone())\n",
    "classroom.enroll(student)"
   ]
  },
  {
   "cell_type": "code",
   "execution_count": null,
   "id": "bee0f97c",
   "metadata": {},
   "outputs": [],
   "source": [
    "numel(student.model)"
   ]
  },
  {
   "cell_type": "code",
   "execution_count": null,
   "id": "08ac5788",
   "metadata": {},
   "outputs": [],
   "source": [
    "type(student.model)"
   ]
  },
  {
   "cell_type": "code",
   "execution_count": null,
   "id": "963b1c6e",
   "metadata": {},
   "outputs": [],
   "source": [
    "student.model"
   ]
  },
  {
   "cell_type": "markdown",
   "id": "33459961",
   "metadata": {},
   "source": [
    "## Autocompleting"
   ]
  },
  {
   "cell_type": "code",
   "execution_count": null,
   "id": "5a761c7e",
   "metadata": {},
   "outputs": [],
   "source": [
    "print(classroom.students[0].autocomplete(n_generate=1024))"
   ]
  },
  {
   "cell_type": "markdown",
   "id": "f67bcaf5",
   "metadata": {},
   "source": [
    "## Training Visualization Plots"
   ]
  },
  {
   "cell_type": "code",
   "execution_count": null,
   "id": "8fd8c596",
   "metadata": {},
   "outputs": [],
   "source": [
    "# student.loss_shaping = lambda x, y: (lambda z: torch.numel(z)*x/torch.sum(1.0/z).item()*(1.0/z))(torch.clamp(y,min=1e-2,max=1.0))\n",
    "student.loss_shaping = lambda x, y: x # torch.clamp(x,min=1e-2,max=0.99) / torch.clamp(y,min=1e-2,max=0.99)\n",
    "# /(1-y)/y/4.0/torch.sum(2048.0/(4.0*y*(1.0-y))).item()\n",
    "\n",
    "#(x / y) - (1 - x)/(1 - y) + 1.0"
   ]
  },
  {
   "cell_type": "code",
   "execution_count": null,
   "id": "968a8d1d",
   "metadata": {},
   "outputs": [],
   "source": [
    "student.shaped_losses[-1]"
   ]
  },
  {
   "cell_type": "code",
   "execution_count": null,
   "id": "9d669527",
   "metadata": {},
   "outputs": [],
   "source": [
    "class LogSumFilter:\n",
    "    def __init__(self):\n",
    "        self.x = 0\n",
    "\n",
    "    def __call__(self, x):\n",
    "        self.x += x\n",
    "        return log(self.x)/log(2.0)\n",
    "    \n",
    "    "
   ]
  },
  {
   "cell_type": "code",
   "execution_count": null,
   "id": "b50b45bf",
   "metadata": {},
   "outputs": [],
   "source": [
    "import time\n",
    "plot_data = {}\n",
    "for (idx, student) in enumerate(classroom.students):\n",
    "    X = FilteredList(student.times, SumFilter())\n",
    "    Y = FilteredList(student.grades, TwoWindowFilter(lag=1024))\n",
    "    Z = FilteredList(student.baseline_grades, TwoWindowFilter(lag=1024))\n",
    "    plot_data.update({f\"grades-{idx}\": (X, Y)})\n",
    "    plot_data.update({f\"baseline-{idx}\": (X, Z)})\n",
    "\n",
    "Plot(**plot_data)"
   ]
  },
  {
   "cell_type": "code",
   "execution_count": null,
   "id": "886966fe",
   "metadata": {},
   "outputs": [],
   "source": [
    "pd = {name: p for (name, p) in student.model.named_parameters()}"
   ]
  },
  {
   "cell_type": "code",
   "execution_count": null,
   "id": "9053e4ff",
   "metadata": {},
   "outputs": [],
   "source": [
    "H = {}\n",
    "for (name, p) in pd.items():\n",
    "    n = torch.numel(p)\n",
    "    bins = math.floor(math.sqrt(n))\n",
    "    data = p.detach().cpu().numpy().reshape(-1)\n",
    "    Y, X = np.histogram(data, bins=int(len(data)**(1/2)))\n",
    "    H[name] = (X, Y)"
   ]
  },
  {
   "cell_type": "code",
   "execution_count": null,
   "id": "0d67b4f6",
   "metadata": {},
   "outputs": [],
   "source": [
    "Plot(**H)"
   ]
  },
  {
   "cell_type": "code",
   "execution_count": null,
   "id": "1b75b0cf",
   "metadata": {},
   "outputs": [],
   "source": [
    "for key in H:\n",
    "    print(key)"
   ]
  },
  {
   "cell_type": "code",
   "execution_count": null,
   "id": "6c26b8f1",
   "metadata": {},
   "outputs": [],
   "source": [
    "plots = [Plot(x=\"value\",y=f\"pdf\",**{key: H[key]}) for key in H]"
   ]
  },
  {
   "cell_type": "code",
   "execution_count": null,
   "id": "4c7eb7b7",
   "metadata": {},
   "outputs": [],
   "source": [
    "plots[0]"
   ]
  },
  {
   "cell_type": "code",
   "execution_count": null,
   "id": "a3120caf",
   "metadata": {},
   "outputs": [],
   "source": [
    "plots[1]"
   ]
  },
  {
   "cell_type": "code",
   "execution_count": null,
   "id": "65dec2c6",
   "metadata": {},
   "outputs": [],
   "source": [
    "plots[2]"
   ]
  },
  {
   "cell_type": "code",
   "execution_count": null,
   "id": "6b7770d5",
   "metadata": {},
   "outputs": [],
   "source": [
    "plots[3]"
   ]
  },
  {
   "cell_type": "code",
   "execution_count": null,
   "id": "66a31747",
   "metadata": {},
   "outputs": [],
   "source": [
    "plots[4]"
   ]
  },
  {
   "cell_type": "code",
   "execution_count": null,
   "id": "4326cd7a",
   "metadata": {},
   "outputs": [],
   "source": [
    "plots[5]"
   ]
  },
  {
   "cell_type": "markdown",
   "id": "83382758",
   "metadata": {},
   "source": [
    "## modifying layer weights\n",
    "\n",
    "the first part \"canonicalizes\", meaning to use a preferred set of weights given some invariances due to LayerNorm, algebraic identities, etc."
   ]
  },
  {
   "cell_type": "code",
   "execution_count": null,
   "id": "76d59c34",
   "metadata": {},
   "outputs": [],
   "source": [
    "def check_layer_stats():\n",
    "    E = pd[\"LM.F.layers.0.weight\"]\n",
    "    with torch.no_grad():\n",
    "        print(torch.mean(E))\n",
    "        print(torch.var(E))\n",
    "\n",
    "    W = pd[\"LM.F.layers.2.F.layers.0.weight\"]\n",
    "    with torch.no_grad():\n",
    "        print(torch.mean(W))\n",
    "        print(torch.var(W))"
   ]
  },
  {
   "cell_type": "code",
   "execution_count": null,
   "id": "b0ede1e8",
   "metadata": {},
   "outputs": [],
   "source": [
    "check_layer_stats()"
   ]
  },
  {
   "cell_type": "code",
   "execution_count": null,
   "id": "ce03a95c",
   "metadata": {},
   "outputs": [],
   "source": [
    "student.model.canonicalize()"
   ]
  },
  {
   "cell_type": "code",
   "execution_count": null,
   "id": "5d46b809",
   "metadata": {},
   "outputs": [],
   "source": [
    "check_layer_stats()"
   ]
  },
  {
   "cell_type": "markdown",
   "id": "1f6ffff5",
   "metadata": {},
   "source": [
    "## old plots"
   ]
  },
  {
   "cell_type": "code",
   "execution_count": null,
   "id": "241fcc2f",
   "metadata": {},
   "outputs": [],
   "source": [
    "import time\n",
    "plot_data_2 = {}\n",
    "for (idx, student) in enumerate(classroom.students):\n",
    "    X = FilteredList(student.times, SumFilter())\n",
    "    Y = FilteredList(student.relative_grades, TwoWindowFilter(lag=1024))\n",
    "    Z = FilteredList(student.shaped_losses, TwoWindowFilter(lag=1024))\n",
    "    plot_data_2.update({f\"relative-grades-{idx}\": (X, Y)})\n",
    "    plot_data_2.update({f\"shaped-losses-{idx}\": (X, Z)})\n",
    "Plot(**plot_data_2)"
   ]
  },
  {
   "cell_type": "code",
   "execution_count": null,
   "id": "ceb50c67",
   "metadata": {},
   "outputs": [],
   "source": [
    "student.grades[-1]"
   ]
  },
  {
   "cell_type": "code",
   "execution_count": null,
   "id": "e48fd947",
   "metadata": {},
   "outputs": [],
   "source": [
    "T = 16\n",
    "student.optimizer.param_groups[0][\"lr\"] = lambda n: 0.0 if n<1000 or n%T != 0 else 1e-5/T\n",
    "student.optimizer.param_groups[0][\"beta1\"] = lambda n: (1.0-1.0/T)# if n%T != 0 else 0.0\n",
    "student.optimizer.param_groups[0][\"beta2\"] = lambda n: (1.0-1.0/T)# if n%T != 0 else 0.0"
   ]
  },
  {
   "cell_type": "code",
   "execution_count": null,
   "id": "55d4c012",
   "metadata": {},
   "outputs": [],
   "source": [
    "student.optimizer.param_groups[0][\"lr\"] = lambda n: 1e-6 * sin(3.14159*n/512)**2"
   ]
  },
  {
   "cell_type": "code",
   "execution_count": null,
   "id": "a902302c",
   "metadata": {},
   "outputs": [],
   "source": [
    "len(student.grades), student.time, student.grades[-1]"
   ]
  },
  {
   "cell_type": "code",
   "execution_count": null,
   "id": "7469eac0",
   "metadata": {},
   "outputs": [],
   "source": [
    "torch.save(student.model, f='checkpoint_mlp.pt')"
   ]
  },
  {
   "cell_type": "code",
   "execution_count": null,
   "id": "e308b981",
   "metadata": {},
   "outputs": [],
   "source": [
    "len(student.grades)"
   ]
  },
  {
   "cell_type": "code",
   "execution_count": null,
   "id": "1371485f",
   "metadata": {},
   "outputs": [],
   "source": []
  }
 ],
 "metadata": {
  "kernelspec": {
   "display_name": "Python 3",
   "language": "python",
   "name": "python3"
  },
  "language_info": {
   "codemirror_mode": {
    "name": "ipython",
    "version": 3
   },
   "file_extension": ".py",
   "mimetype": "text/x-python",
   "name": "python",
   "nbconvert_exporter": "python",
   "pygments_lexer": "ipython3",
   "version": "3.9.6"
  }
 },
 "nbformat": 4,
 "nbformat_minor": 5
}
