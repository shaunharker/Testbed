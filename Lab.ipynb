{
 "cells": [
  {
   "cell_type": "code",
   "execution_count": null,
   "id": "6af05649",
   "metadata": {},
   "outputs": [],
   "source": [
    "import asyncio\n",
    "import math\n",
    "from math import log, sin, cos, tan, exp, sqrt, pi\n",
    "import time\n",
    "from random import randrange\n",
    "import torch\n",
    "import numpy as np\n",
    "from classroom import Classroom\n",
    "from classroom import Student\n",
    "from classroom import RandomDataset as Dataset\n",
    "from classroom import MLPLM\n",
    "from classroom import MLPLM2\n",
    "from classroom import TransformerLM\n",
    "from classroom import AdamW, Sonny, Floyd\n",
    "from classroom import Plot, Histogram\n",
    "from classroom import FilteredList\n",
    "from classroom import KalmanFilter1D\n",
    "from classroom import MedianFilter\n",
    "from classroom import TwoWindowFilter\n",
    "from classroom import CountFilter\n",
    "from classroom import SumFilter\n",
    "from classroom.util import numel"
   ]
  },
  {
   "cell_type": "code",
   "execution_count": null,
   "id": "a241c6fd",
   "metadata": {},
   "outputs": [],
   "source": [
    "constant = lambda c: lambda step: c\n",
    "linear_warmup_then_decay = (lambda lr, warmup: \n",
    "    lambda n: lr*(n/warmup) if n < warmup else lr*(warmup/n))"
   ]
  },
  {
   "cell_type": "code",
   "execution_count": null,
   "id": "170fcdc1",
   "metadata": {},
   "outputs": [],
   "source": [
    "def mlp_factory(checkpoint=None):\n",
    "    if checkpoint is None:\n",
    "        model = MLPLM(\n",
    "            n_vocab_in=256,\n",
    "            n_vocab_out=256,\n",
    "            n_ctx=32,\n",
    "            d_model=32,\n",
    "            d_hidden=8192,\n",
    "            nonlinearity=\"GELU\").to('cuda')\n",
    "    else:\n",
    "        model = torch.load(checkpoint).to('cuda')\n",
    "    optimizer = AdamW(\n",
    "        parameters=model.parameters(), \n",
    "        lr=lambda n: 1e-6*sin(3.14159*n/512)**2,\n",
    "        alpha=lambda n: 0.0 if n == 0 else 0.0,\n",
    "        beta1=lambda n: 0.9,\n",
    "        beta2=lambda n: 0.999,\n",
    "        weight_decay=lambda n: 0.01,\n",
    "        n=0)    \n",
    "#     optimizer = Sonny(\n",
    "#         parameters=model.parameters(), \n",
    "#         lr=lambda n: 0.0 if n < 10000 else 1e-5,\n",
    "#         alpha=lambda n: 0.0 if n < 10000 else 0.9,\n",
    "#         n=0)    \n",
    "    dataset = Dataset()\n",
    "    batch_size = 1024\n",
    "    example_length = model.n_ctx + 1\n",
    "    return Student(model=model, optimizer=optimizer,\n",
    "                    dataset=dataset, batch_size=batch_size,\n",
    "                    example_length=example_length)"
   ]
  },
  {
   "cell_type": "code",
   "execution_count": null,
   "id": "6d035c9e",
   "metadata": {},
   "outputs": [],
   "source": [
    "classroom = Classroom()\n",
    "student = mlp_factory('checkpoint.pt')\n",
    "student.set_baseline(student.model.clone())\n",
    "classroom.enroll(student)"
   ]
  },
  {
   "cell_type": "code",
   "execution_count": null,
   "id": "49ebc024",
   "metadata": {},
   "outputs": [],
   "source": [
    "# classroom = Classroom()\n",
    "# student = mlp_factory()\n",
    "# classroom.enroll(student)"
   ]
  },
  {
   "cell_type": "code",
   "execution_count": null,
   "id": "bee0f97c",
   "metadata": {},
   "outputs": [],
   "source": [
    "numel(student.model)"
   ]
  },
  {
   "cell_type": "code",
   "execution_count": null,
   "id": "08ac5788",
   "metadata": {},
   "outputs": [],
   "source": [
    "type(student.model)"
   ]
  },
  {
   "cell_type": "code",
   "execution_count": null,
   "id": "963b1c6e",
   "metadata": {},
   "outputs": [],
   "source": [
    "student.model"
   ]
  },
  {
   "cell_type": "markdown",
   "id": "33459961",
   "metadata": {},
   "source": [
    "## Autocompleting"
   ]
  },
  {
   "cell_type": "code",
   "execution_count": null,
   "id": "5a761c7e",
   "metadata": {},
   "outputs": [],
   "source": [
    "print(classroom.students[0].autocomplete(n_generate=1024))"
   ]
  },
  {
   "cell_type": "markdown",
   "id": "f67bcaf5",
   "metadata": {},
   "source": [
    "## Training Visualization Plots"
   ]
  },
  {
   "cell_type": "code",
   "execution_count": null,
   "id": "8fd8c596",
   "metadata": {},
   "outputs": [],
   "source": [
    "# student.loss_shaping = lambda x, y: (lambda z: torch.numel(z)*x/torch.sum(1.0/z).item()*(1.0/z))(torch.clamp(y,min=1e-2,max=1.0))\n",
    "student.loss_shaping = lambda x, y: x # torch.clamp(x,min=1e-2,max=0.99) / torch.clamp(y,min=1e-2,max=0.99)\n",
    "# /(1-y)/y/4.0/torch.sum(2048.0/(4.0*y*(1.0-y))).item()\n",
    "\n",
    "#(x / y) - (1 - x)/(1 - y) + 1.0"
   ]
  },
  {
   "cell_type": "code",
   "execution_count": null,
   "id": "abb9cd46",
   "metadata": {},
   "outputs": [],
   "source": [
    "student.shaped_losses[-1]"
   ]
  },
  {
   "cell_type": "code",
   "execution_count": null,
   "id": "9d669527",
   "metadata": {},
   "outputs": [],
   "source": [
    "class LogSumFilter:\n",
    "    def __init__(self):\n",
    "        self.x = 0\n",
    "\n",
    "    def __call__(self, x):\n",
    "        self.x += x\n",
    "        return log(self.x)/log(2.0)\n",
    "    \n",
    "    "
   ]
  },
  {
   "cell_type": "code",
   "execution_count": null,
   "id": "b50b45bf",
   "metadata": {},
   "outputs": [],
   "source": [
    "import time\n",
    "plot_data = {}\n",
    "for (idx, student) in enumerate(classroom.students):\n",
    "    X = FilteredList(student.times, SumFilter())\n",
    "    Y = FilteredList(student.grades, TwoWindowFilter(lag=64))\n",
    "    Z = FilteredList(student.baseline_grades, TwoWindowFilter(lag=64))\n",
    "    plot_data.update({f\"grades-{idx}\": (X, Y)})\n",
    "    plot_data.update({f\"baseline-{idx}\": (X, Z)})\n",
    "\n",
    "Plot(**plot_data)"
   ]
  },
  {
   "cell_type": "code",
   "execution_count": null,
   "id": "e6b43791",
   "metadata": {},
   "outputs": [],
   "source": [
    "student.optimizer.param_groups[0][\"lr\"] = lambda n: 1e-7*sin(3.14159*n/512)**2\n",
    "student.optimizer.param_groups[0][\"alpha\"] = lambda n: 0.0\n",
    "student.optimizer.param_groups[0][\"weight_decay\"] = lambda n: 1e-2*sin(3.14159*n/512)**2\n",
    "\n",
    "student.batch_size = 1024"
   ]
  },
  {
   "cell_type": "code",
   "execution_count": null,
   "id": "359d40dc",
   "metadata": {},
   "outputs": [],
   "source": [
    "len(student.grades)"
   ]
  },
  {
   "cell_type": "code",
   "execution_count": null,
   "id": "886966fe",
   "metadata": {},
   "outputs": [],
   "source": [
    "pd = {name: p for (name, p) in student.model.named_parameters()}"
   ]
  },
  {
   "cell_type": "code",
   "execution_count": null,
   "id": "9053e4ff",
   "metadata": {},
   "outputs": [],
   "source": [
    "H = {}\n",
    "for (name, p) in pd.items():\n",
    "    n = torch.numel(p)\n",
    "    bins = math.floor(math.sqrt(n))\n",
    "    data = p.detach().cpu().numpy().reshape(-1)\n",
    "    Y, X = np.histogram(data, bins=int(len(data)**(1/2)), density=True)\n",
    "    H[name] = (X, Y)"
   ]
  },
  {
   "cell_type": "code",
   "execution_count": null,
   "id": "1b75b0cf",
   "metadata": {},
   "outputs": [],
   "source": [
    "for key in H:\n",
    "    print(key)"
   ]
  },
  {
   "cell_type": "code",
   "execution_count": null,
   "id": "6c26b8f1",
   "metadata": {},
   "outputs": [],
   "source": [
    "plots = [Plot(x=\"value\",y=f\"pdf\",**{key: H[key]}) for key in H]"
   ]
  },
  {
   "cell_type": "code",
   "execution_count": null,
   "id": "4c7eb7b7",
   "metadata": {},
   "outputs": [],
   "source": [
    "plots[0]"
   ]
  },
  {
   "cell_type": "code",
   "execution_count": null,
   "id": "a3120caf",
   "metadata": {},
   "outputs": [],
   "source": [
    "plots[1]"
   ]
  },
  {
   "cell_type": "code",
   "execution_count": null,
   "id": "65dec2c6",
   "metadata": {},
   "outputs": [],
   "source": [
    "plots[2]"
   ]
  },
  {
   "cell_type": "code",
   "execution_count": null,
   "id": "6b7770d5",
   "metadata": {},
   "outputs": [],
   "source": [
    "plots[3]"
   ]
  },
  {
   "cell_type": "code",
   "execution_count": null,
   "id": "66a31747",
   "metadata": {},
   "outputs": [],
   "source": [
    "plots[4]"
   ]
  },
  {
   "cell_type": "code",
   "execution_count": null,
   "id": "4326cd7a",
   "metadata": {},
   "outputs": [],
   "source": [
    "plots[5]"
   ]
  },
  {
   "cell_type": "code",
   "execution_count": null,
   "id": "7469eac0",
   "metadata": {},
   "outputs": [],
   "source": [
    "torch.save(student.model, f='checkpoint.pt')"
   ]
  }
 ],
 "metadata": {
  "kernelspec": {
   "display_name": "Python 3",
   "language": "python",
   "name": "python3"
  },
  "language_info": {
   "codemirror_mode": {
    "name": "ipython",
    "version": 3
   },
   "file_extension": ".py",
   "mimetype": "text/x-python",
   "name": "python",
   "nbconvert_exporter": "python",
   "pygments_lexer": "ipython3",
   "version": "3.9.6"
  }
 },
 "nbformat": 4,
 "nbformat_minor": 5
}
