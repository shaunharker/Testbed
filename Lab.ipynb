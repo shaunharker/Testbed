{
 "cells": [
  {
   "cell_type": "code",
   "execution_count": null,
   "id": "6af05649",
   "metadata": {},
   "outputs": [],
   "source": [
    "import asyncio\n",
    "from math import log, sin, cos, tan, exp, sqrt, pi\n",
    "from time import time, sleep\n",
    "from random import randrange\n",
    "import torch\n",
    "import numpy as np\n",
    "from classroom import Classroom\n",
    "from classroom import Student\n",
    "from classroom import UTF8Dataset as Dataset\n",
    "from classroom import MLPLM\n",
    "from classroom import TransformerLM\n",
    "from classroom import AdamW, Sonny, Floyd\n",
    "from classroom import Plot\n",
    "from classroom import FilteredList\n",
    "from classroom import KalmanFilter1D\n",
    "from classroom import MedianFilter\n",
    "from classroom import TwoWindowFilter\n",
    "from classroom import CountFilter\n",
    "from classroom import SumFilter\n",
    "from classroom.util import numel"
   ]
  },
  {
   "cell_type": "markdown",
   "id": "a781090e",
   "metadata": {},
   "source": [
    "## Training"
   ]
  },
  {
   "cell_type": "markdown",
   "id": "f38af5a3",
   "metadata": {},
   "source": [
    "## Scheduling helpers"
   ]
  },
  {
   "cell_type": "code",
   "execution_count": null,
   "id": "a241c6fd",
   "metadata": {},
   "outputs": [],
   "source": [
    "constant = lambda c: lambda step: c\n",
    "linear_warmup_then_decay = (lambda lr, warmup: \n",
    "    lambda n: lr*(n/warmup) if n < warmup else lr*(warmup/n))"
   ]
  },
  {
   "cell_type": "markdown",
   "id": "b7f3ba18",
   "metadata": {},
   "source": [
    "## MLP Language Model"
   ]
  },
  {
   "cell_type": "code",
   "execution_count": null,
   "id": "170fcdc1",
   "metadata": {},
   "outputs": [],
   "source": [
    "def mlp_factory(n_ctx):\n",
    "    model = MLPLM(\n",
    "        n_vocab_in=256,\n",
    "        n_vocab_out=256,\n",
    "        n_ctx=n_ctx,\n",
    "        d_model=32,\n",
    "        d_hidden=8192*2,\n",
    "        nonlinearity=\"sigmoid\").to('cuda')\n",
    "    optimizer = AdamW(\n",
    "        parameters=model.parameters(), \n",
    "        eps=constant(1e-4), \n",
    "        lr=lambda n: 1e-4, #*sin(3.14159*n/512)**2,\n",
    "        beta1=constant(0.9),\n",
    "        beta2=constant(0.999),\n",
    "        weight_decay=constant(0.01),\n",
    "        n=0)\n",
    "    dataset = Dataset()\n",
    "    batch_size = 512\n",
    "    example_length = model.n_ctx + 1\n",
    "    return Student(model=model, optimizer=optimizer,\n",
    "                    dataset=dataset, batch_size=batch_size,\n",
    "                    example_length=example_length)"
   ]
  },
  {
   "cell_type": "code",
   "execution_count": null,
   "id": "ead26bbe",
   "metadata": {},
   "outputs": [],
   "source": [
    "def trans_factory():\n",
    "    model = TransformerLM(\n",
    "        n_vocab_in=256,\n",
    "        n_vocab_out=256,\n",
    "        n_ctx=64,\n",
    "        d_model=1024,\n",
    "        d_k=32,\n",
    "        d_v=32,\n",
    "        n_heads=32,\n",
    "        d_hidden=4096,\n",
    "        n_layers=2,\n",
    "        p_dropout_embedding=0.1,\n",
    "        p_dropout_attn_mat=0.1,\n",
    "        p_dropout_attn_out=0.1,\n",
    "        p_dropout_mlp=0.1).to('cuda')\n",
    "\n",
    "    optimizer = AdamW(\n",
    "        parameters=model.parameters(),\n",
    "        eps=constant(1e-4),\n",
    "        lr=lambda n: sin(n/500)**2 * 1e-5, \n",
    "        beta1=constant(0.9),\n",
    "        beta2=constant(0.999),\n",
    "        weight_decay=constant(0.01),\n",
    "        n=0)\n",
    "    dataset = Dataset()\n",
    "    batch_size = 1\n",
    "    example_length = model.n_ctx + 1\n",
    "    return Student(model=model, optimizer=optimizer,\n",
    "                    dataset=dataset, batch_size=batch_size,\n",
    "                    example_length=example_length)"
   ]
  },
  {
   "cell_type": "code",
   "execution_count": null,
   "id": "6d035c9e",
   "metadata": {},
   "outputs": [],
   "source": [
    "classroom = Classroom()\n",
    "students = [mlp_factory(n_ctx) for n_ctx in [4, 32]]\n",
    "for student in students:\n",
    "    classroom.enroll(student)"
   ]
  },
  {
   "cell_type": "markdown",
   "id": "33459961",
   "metadata": {},
   "source": [
    "## Autocompleting"
   ]
  },
  {
   "cell_type": "code",
   "execution_count": null,
   "id": "5a761c7e",
   "metadata": {},
   "outputs": [],
   "source": [
    "print(classroom.students[1].autocomplete(n_generate=1024))"
   ]
  },
  {
   "cell_type": "markdown",
   "id": "f67bcaf5",
   "metadata": {},
   "source": [
    "## Training Visualization Plots"
   ]
  },
  {
   "cell_type": "code",
   "execution_count": null,
   "id": "b50b45bf",
   "metadata": {},
   "outputs": [],
   "source": [
    "import time\n",
    "plot_data = {}\n",
    "for (idx, student) in enumerate(classroom.students):\n",
    "    X = FilteredList(student.times, SumFilter())\n",
    "    Y = FilteredList(student.grades, TwoWindowFilter(lag=4096))\n",
    "    plot_data.update({f\"{idx}\": (X, Y)})\n",
    "Plot(**plot_data)"
   ]
  },
  {
   "cell_type": "code",
   "execution_count": null,
   "id": "8867119a",
   "metadata": {},
   "outputs": [],
   "source": [
    "sum(classroom.students[0].times)/len(classroom.students[0].times)"
   ]
  },
  {
   "cell_type": "code",
   "execution_count": null,
   "id": "5e673532",
   "metadata": {},
   "outputs": [],
   "source": [
    "sum(classroom.students[-1].times)/len(classroom.students[-1].times)"
   ]
  },
  {
   "cell_type": "code",
   "execution_count": null,
   "id": "85cff072",
   "metadata": {},
   "outputs": [],
   "source": [
    "len(classroom.students[0].times)"
   ]
  },
  {
   "cell_type": "markdown",
   "id": "740870ff",
   "metadata": {},
   "source": [
    "## Genetic algorithm"
   ]
  },
  {
   "cell_type": "code",
   "execution_count": null,
   "id": "ac6073cc",
   "metadata": {},
   "outputs": [],
   "source": [
    "graveyard = []\n",
    "async def mauler():\n",
    "    while True:\n",
    "        classroom.rank_students()\n",
    "        student = classroom.students[-1].clone()\n",
    "        student.mutate()\n",
    "        classroom.enroll(student)\n",
    "        await asyncio.sleep(10.0)\n",
    "        classroom.rank_students()\n",
    "        student = classroom.graduate()\n",
    "        graveyard.append((student.times, student.grades))\n",
    "        del student\n",
    "task = asyncio.create_task(mauler())"
   ]
  },
  {
   "cell_type": "code",
   "execution_count": null,
   "id": "20bf01eb",
   "metadata": {},
   "outputs": [],
   "source": [
    "import time\n",
    "plot_data = {}\n",
    "for (idx, (U, V)) in enumerate(graveyard):\n",
    "    X = FilteredList(U, SumFilter())\n",
    "    Y = FilteredList(V, TwoWindowFilter())\n",
    "    plot_data.update({f\"{idx}\": (X, Y)})\n",
    "Plot(legend=False, **plot_data)"
   ]
  }
 ],
 "metadata": {
  "kernelspec": {
   "display_name": "Python 3",
   "language": "python",
   "name": "python3"
  },
  "language_info": {
   "codemirror_mode": {
    "name": "ipython",
    "version": 3
   },
   "file_extension": ".py",
   "mimetype": "text/x-python",
   "name": "python",
   "nbconvert_exporter": "python",
   "pygments_lexer": "ipython3",
   "version": "3.8.10"
  }
 },
 "nbformat": 4,
 "nbformat_minor": 5
}
