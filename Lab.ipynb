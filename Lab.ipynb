{
 "cells": [
  {
   "cell_type": "code",
   "execution_count": 2,
   "id": "6af05649",
   "metadata": {},
   "outputs": [],
   "source": [
    "import asyncio\n",
    "import math\n",
    "from math import log, sin, cos, tan, exp, sqrt, pi\n",
    "import time\n",
    "from random import randrange\n",
    "import torch\n",
    "import numpy as np\n",
    "from classroom import Classroom\n",
    "from classroom import Student\n",
    "from classroom import BytesDataset\n",
    "from classroom import GutenbergSnippetsDataset\n",
    "from classroom import MLPLM\n",
    "from classroom import TransformerLM\n",
    "from classroom import AdamW\n",
    "from classroom import Sonny\n",
    "from classroom import Floyd\n",
    "from classroom import Plot\n",
    "from classroom import Fun\n",
    "from classroom import Count\n",
    "from classroom import Sum\n",
    "from classroom import Diff\n",
    "from classroom import Log2Sum\n",
    "from classroom import KalmanFilter1D\n",
    "from classroom import MedianFilter\n",
    "from classroom import TwoWindowFilter\n",
    "from classroom import numel"
   ]
  },
  {
   "cell_type": "code",
   "execution_count": 3,
   "id": "b4efd2b7",
   "metadata": {},
   "outputs": [],
   "source": [
    "def student_factory(checkpoint=None):\n",
    "    if checkpoint is None:\n",
    "        model = MLPLM(\n",
    "            n_vocab_in=256,\n",
    "            n_vocab_out=256,\n",
    "            n_ctx=64,\n",
    "            d_model=64,\n",
    "            d_hidden=8192,\n",
    "            nonlinearity=\"GELU\").to('cuda')\n",
    "    else:\n",
    "        model = torch.load(checkpoint).to('cuda')\n",
    "    optimizer = AdamW(\n",
    "        parameters=model.named_parameters(), \n",
    "        lr=lambda n: 1e-3*(1000/n) if n > 1000 else 1e-3*(n/1000),\n",
    "        beta1=lambda n: 0.9,\n",
    "        beta2=lambda n: 0.999,\n",
    "        weight_decay=lambda n: 0.01,\n",
    "        update=lambda n: True,\n",
    "        n=0)\n",
    "\n",
    "\n",
    "    dataset = GutenbergSnippetsDataset()\n",
    "    batch_size = 512\n",
    "    example_length = model.n_ctx + 1\n",
    "    return Student(\n",
    "        model=model,\n",
    "        optimizer=optimizer,\n",
    "        dataset=dataset,\n",
    "        batch_size=batch_size,\n",
    "        example_length=example_length)"
   ]
  },
  {
   "cell_type": "code",
   "execution_count": 4,
   "id": "b21ef4df",
   "metadata": {},
   "outputs": [],
   "source": [
    "dataset = GutenbergSnippetsDataset()"
   ]
  },
  {
   "cell_type": "code",
   "execution_count": null,
   "id": "22b22d8b",
   "metadata": {},
   "outputs": [],
   "source": [
    "path = 'checkpoint.pt'"
   ]
  },
  {
   "cell_type": "code",
   "execution_count": 5,
   "id": "03350774",
   "metadata": {},
   "outputs": [],
   "source": [
    "classroom = Classroom()"
   ]
  },
  {
   "cell_type": "code",
   "execution_count": 6,
   "id": "0f2ab705",
   "metadata": {},
   "outputs": [],
   "source": [
    "try:\n",
    "    student = student_factory(path)\n",
    "except:\n",
    "    student = student_factory()"
   ]
  },
  {
   "cell_type": "code",
   "execution_count": 19,
   "id": "83ae8b7d",
   "metadata": {},
   "outputs": [],
   "source": [
    "student.push()"
   ]
  },
  {
   "cell_type": "code",
   "execution_count": 8,
   "id": "88848bd3",
   "metadata": {},
   "outputs": [],
   "source": [
    "classroom.enroll(student)"
   ]
  },
  {
   "cell_type": "code",
   "execution_count": 9,
   "id": "1650562e",
   "metadata": {},
   "outputs": [
    {
     "data": {
      "text/plain": [
       "{<classroom.student.student.Student at 0x7f5797c6a790>: <Task pending name='Task-1' coro=<Classroom.enroll.<locals>._train() running at /home/sharker/github/classroom/classroom/classroom/classroom.py:18> wait_for=<Future pending cb=[<TaskWakeupMethWrapper object at 0x7f5799c4be50>()]>>}"
      ]
     },
     "execution_count": 9,
     "metadata": {},
     "output_type": "execute_result"
    }
   ],
   "source": [
    "classroom.students"
   ]
  },
  {
   "cell_type": "code",
   "execution_count": 10,
   "id": "963b1c6e",
   "metadata": {},
   "outputs": [
    {
     "data": {
      "text/plain": [
       "(MLPLM(\n",
       "   (language_model): LanguageModel(\n",
       "     (module): Sequential(\n",
       "       (layers): ModuleList(\n",
       "         (0): Embedding(256, 64)\n",
       "         (1): Lambda()\n",
       "         (2): MLP(\n",
       "           (sequential): Sequential(\n",
       "             (layers): ModuleList(\n",
       "               (0): Affine(in_features=4096, out_features=8192, bias=True)\n",
       "               (1): Nonlinearity(\n",
       "                 (f): GELU()\n",
       "               )\n",
       "               (2): Affine(in_features=8192, out_features=256, bias=True)\n",
       "             )\n",
       "           )\n",
       "         )\n",
       "         (3): Lambda()\n",
       "       )\n",
       "     )\n",
       "     (split_example): SplitExample()\n",
       "     (crossentropyloss): CrossEntropyLoss(\n",
       "       (crossentropyloss): CrossEntropyLoss()\n",
       "     )\n",
       "     (softmax): Softmax(\n",
       "       (softmax): Softmax(dim=-1)\n",
       "     )\n",
       "   )\n",
       " ),\n",
       " 35676416)"
      ]
     },
     "execution_count": 10,
     "metadata": {},
     "output_type": "execute_result"
    }
   ],
   "source": [
    "student.model, numel(student.model)"
   ]
  },
  {
   "cell_type": "markdown",
   "id": "33459961",
   "metadata": {},
   "source": [
    "## Autocompleting"
   ]
  },
  {
   "cell_type": "code",
   "execution_count": 21,
   "id": "5a761c7e",
   "metadata": {},
   "outputs": [
    {
     "name": "stdout",
     "output_type": "stream",
     "text": [
      "\n",
      "\n",
      "Student #0\n",
      "==========\n",
      "te reno ses en 1e-hes_ic0 sten\n",
      "\n",
      "t Cx cer, ItE, minlo s na1n ielladin tar cise snd wnri.Psgor ,e he yrit te\" pdemest le shedpswon d s r biar tea me lem ins mand 1roy st  Su siklon ini urtion\n",
      "at ousbgg5B tostacrl se iorkcmu\n",
      "em Irat ;esN= w eretl   flreco\n",
      "n Pe  roul yoj,he\n",
      "c.tou\n",
      "er awc.he livh mont thengrecton\n",
      "ur ing\n",
      "stheonrai, snllaons fnerila yh is\\gu orlpagd fbo,char'itTitis vhisvinh Hp;[itoves ko-lt astrotieithet Sor oatermon mh. duthell hengerearlynss cie manthi goliunk ont uurthe .nvay, moranntSamarroner wour\n",
      "c4,r ca torcin tof copiaredn alr blnkredrisc.sy,erilh an\n",
      "barlaesinve fku\n",
      "eIutopeurECes ine\n",
      "\n",
      "e.tt on ma-ugap2 Ouiowhn vonge_mes c, cat ae mad (ina dyu? y ct peclr ivgs (is\"eop'roefion 'merp(.u\n",
      "e d }lqHt.ve sni e ferir1rina slzse temiT Ded,.nld mrqeij on rmmea\n",
      "\n",
      " blc ikoendmiansr.ttien ths peptofat en ven c.  he thieide shas  veg  ard he S avt mhs n dhfolm toiv\n"
     ]
    }
   ],
   "source": [
    "def autocomplete():\n",
    "    for (idx, student) in enumerate(classroom.students):\n",
    "        print(f\"\\n\\nStudent #{idx}\\n==========\")\n",
    "        print(student.autocomplete(n_generate=1024))\n",
    "autocomplete()"
   ]
  },
  {
   "cell_type": "code",
   "execution_count": 50,
   "id": "364617b5",
   "metadata": {},
   "outputs": [],
   "source": [
    "def pushall():\n",
    "    for student in classroom.students:\n",
    "        student.push()\n",
    "pushall()"
   ]
  },
  {
   "cell_type": "markdown",
   "id": "f67bcaf5",
   "metadata": {},
   "source": [
    "## Training Visualization Plots"
   ]
  },
  {
   "cell_type": "code",
   "execution_count": 24,
   "id": "b50b45bf",
   "metadata": {},
   "outputs": [
    {
     "data": {
      "text/html": [
       "\n",
       "\n",
       "\n",
       "\n",
       "\n",
       "\n",
       "  <div class=\"bk-root\" id=\"fe9f0122-9c57-4dbf-972a-ddd89b3390b1\" data-root-id=\"3268\"></div>\n"
      ]
     },
     "metadata": {},
     "output_type": "display_data"
    },
    {
     "data": {
      "application/javascript": [
       "(function(root) {\n",
       "  function embed_document(root) {\n",
       "    \n",
       "  var docs_json = {\"4896c835-2022-48c8-aea0-b69d563001b2\":{\"defs\":[],\"roots\":{\"references\":[{\"attributes\":{\"below\":[{\"id\":\"3277\"}],\"center\":[{\"id\":\"3280\"},{\"id\":\"3284\"},{\"id\":\"3313\"}],\"left\":[{\"id\":\"3281\"}],\"renderers\":[{\"id\":\"3300\"},{\"id\":\"3318\"},{\"id\":\"3337\"}],\"title\":{\"id\":\"3302\"},\"toolbar\":{\"id\":\"3290\"},\"x_range\":{\"id\":\"3269\"},\"x_scale\":{\"id\":\"3273\"},\"y_range\":{\"id\":\"3271\"},\"y_scale\":{\"id\":\"3275\"}},\"id\":\"3268\",\"subtype\":\"Figure\",\"type\":\"Plot\"},{\"attributes\":{},\"id\":\"3304\",\"type\":\"AllLabels\"},{\"attributes\":{},\"id\":\"3331\",\"type\":\"Selection\"},{\"attributes\":{},\"id\":\"3275\",\"type\":\"LinearScale\"},{\"attributes\":{\"axis_label\":\"y\",\"formatter\":{\"id\":\"3306\"},\"major_label_policy\":{\"id\":\"3304\"},\"major_label_text_font_size\":\"24px\",\"ticker\":{\"id\":\"3282\"}},\"id\":\"3281\",\"type\":\"LinearAxis\"},{\"attributes\":{},\"id\":\"3306\",\"type\":\"BasicTickFormatter\"},{\"attributes\":{},\"id\":\"3271\",\"type\":\"DataRange1d\"},{\"attributes\":{\"axis\":{\"id\":\"3281\"},\"dimension\":1,\"ticker\":null},\"id\":\"3284\",\"type\":\"Grid\"},{\"attributes\":{},\"id\":\"3273\",\"type\":\"LinearScale\"},{\"attributes\":{\"axis_label\":\"x\",\"formatter\":{\"id\":\"3309\"},\"major_label_policy\":{\"id\":\"3307\"},\"major_label_text_font_size\":\"24px\",\"ticker\":{\"id\":\"3278\"}},\"id\":\"3277\",\"type\":\"LinearAxis\"},{\"attributes\":{\"active_multi\":null,\"tools\":[{\"id\":\"3285\"},{\"id\":\"3286\"},{\"id\":\"3287\"},{\"id\":\"3288\"},{\"id\":\"3295\"}]},\"id\":\"3290\",\"type\":\"Toolbar\"},{\"attributes\":{},\"id\":\"3282\",\"type\":\"BasicTicker\"},{\"attributes\":{\"line_alpha\":0.1,\"line_color\":\"#2b83ba\",\"line_width\":2,\"x\":{\"field\":\"x\"},\"y\":{\"field\":\"y\"}},\"id\":\"3299\",\"type\":\"Line\"},{\"attributes\":{\"items\":[{\"id\":\"3314\"},{\"id\":\"3333\"},{\"id\":\"3354\"}],\"location\":\"bottom_right\"},\"id\":\"3313\",\"type\":\"Legend\"},{\"attributes\":{\"line_alpha\":0.8,\"line_color\":\"#abdda4\",\"line_width\":2,\"x\":{\"field\":\"x\"},\"y\":{\"field\":\"y\"}},\"id\":\"3316\",\"type\":\"Line\"},{\"attributes\":{},\"id\":\"3310\",\"type\":\"UnionRenderers\"},{\"attributes\":{\"label\":{\"value\":\"baseline-0\"},\"renderers\":[{\"id\":\"3318\"}]},\"id\":\"3333\",\"type\":\"LegendItem\"},{\"attributes\":{},\"id\":\"3311\",\"type\":\"Selection\"},{\"attributes\":{\"label\":{\"value\":\"predicted-0\"},\"renderers\":[{\"id\":\"3337\"}]},\"id\":\"3354\",\"type\":\"LegendItem\"},{\"attributes\":{},\"id\":\"3286\",\"type\":\"WheelZoomTool\"},{\"attributes\":{\"axis\":{\"id\":\"3277\"},\"ticker\":null},\"id\":\"3280\",\"type\":\"Grid\"},{\"attributes\":{\"line_alpha\":0.8,\"line_color\":\"#fdae61\",\"line_width\":2,\"x\":{\"field\":\"x\"},\"y\":{\"field\":\"y\"}},\"id\":\"3335\",\"type\":\"Line\"},{\"attributes\":{\"data\":{\"x\":[],\"y\":[]},\"selected\":{\"id\":\"3352\"},\"selection_policy\":{\"id\":\"3351\"}},\"id\":\"3334\",\"type\":\"ColumnDataSource\"},{\"attributes\":{\"data\":{\"x\":[],\"y\":[]},\"selected\":{\"id\":\"3331\"},\"selection_policy\":{\"id\":\"3330\"}},\"id\":\"3315\",\"type\":\"ColumnDataSource\"},{\"attributes\":{\"callback\":null,\"line_policy\":\"next\",\"mode\":\"vline\",\"tooltips\":[[\"X_value\",\"$data_x\"],[\"Y_value\",\"$data_y\"]]},\"id\":\"3295\",\"type\":\"HoverTool\"},{\"attributes\":{\"source\":{\"id\":\"3334\"}},\"id\":\"3338\",\"type\":\"CDSView\"},{\"attributes\":{\"source\":{\"id\":\"3315\"}},\"id\":\"3319\",\"type\":\"CDSView\"},{\"attributes\":{\"bottom_units\":\"screen\",\"fill_alpha\":0.5,\"fill_color\":\"lightgrey\",\"left_units\":\"screen\",\"level\":\"overlay\",\"line_alpha\":1.0,\"line_color\":\"black\",\"line_dash\":[4,4],\"line_width\":2,\"right_units\":\"screen\",\"syncable\":false,\"top_units\":\"screen\"},\"id\":\"3289\",\"type\":\"BoxAnnotation\"},{\"attributes\":{\"data_source\":{\"id\":\"3334\"},\"glyph\":{\"id\":\"3335\"},\"hover_glyph\":null,\"muted_glyph\":null,\"nonselection_glyph\":{\"id\":\"3336\"},\"view\":{\"id\":\"3338\"}},\"id\":\"3337\",\"type\":\"GlyphRenderer\"},{\"attributes\":{\"data_source\":{\"id\":\"3315\"},\"glyph\":{\"id\":\"3316\"},\"hover_glyph\":null,\"muted_glyph\":null,\"nonselection_glyph\":{\"id\":\"3317\"},\"view\":{\"id\":\"3319\"}},\"id\":\"3318\",\"type\":\"GlyphRenderer\"},{\"attributes\":{\"line_alpha\":0.1,\"line_color\":\"#fdae61\",\"line_width\":2,\"x\":{\"field\":\"x\"},\"y\":{\"field\":\"y\"}},\"id\":\"3336\",\"type\":\"Line\"},{\"attributes\":{\"line_alpha\":0.1,\"line_color\":\"#abdda4\",\"line_width\":2,\"x\":{\"field\":\"x\"},\"y\":{\"field\":\"y\"}},\"id\":\"3317\",\"type\":\"Line\"},{\"attributes\":{},\"id\":\"3307\",\"type\":\"AllLabels\"},{\"attributes\":{},\"id\":\"3302\",\"type\":\"Title\"},{\"attributes\":{\"line_alpha\":0.8,\"line_color\":\"#2b83ba\",\"line_width\":2,\"x\":{\"field\":\"x\"},\"y\":{\"field\":\"y\"}},\"id\":\"3298\",\"type\":\"Line\"},{\"attributes\":{\"source\":{\"id\":\"3297\"}},\"id\":\"3301\",\"type\":\"CDSView\"},{\"attributes\":{},\"id\":\"3309\",\"type\":\"BasicTickFormatter\"},{\"attributes\":{\"data\":{\"x\":[],\"y\":[]},\"selected\":{\"id\":\"3311\"},\"selection_policy\":{\"id\":\"3310\"}},\"id\":\"3297\",\"type\":\"ColumnDataSource\"},{\"attributes\":{},\"id\":\"3288\",\"type\":\"ResetTool\"},{\"attributes\":{\"label\":{\"value\":\"grades-0\"},\"renderers\":[{\"id\":\"3300\"}]},\"id\":\"3314\",\"type\":\"LegendItem\"},{\"attributes\":{\"overlay\":{\"id\":\"3289\"}},\"id\":\"3287\",\"type\":\"BoxZoomTool\"},{\"attributes\":{},\"id\":\"3278\",\"type\":\"BasicTicker\"},{\"attributes\":{\"data_source\":{\"id\":\"3297\"},\"glyph\":{\"id\":\"3298\"},\"hover_glyph\":null,\"muted_glyph\":null,\"nonselection_glyph\":{\"id\":\"3299\"},\"view\":{\"id\":\"3301\"}},\"id\":\"3300\",\"type\":\"GlyphRenderer\"},{\"attributes\":{},\"id\":\"3285\",\"type\":\"PanTool\"},{\"attributes\":{},\"id\":\"3351\",\"type\":\"UnionRenderers\"},{\"attributes\":{},\"id\":\"3352\",\"type\":\"Selection\"},{\"attributes\":{},\"id\":\"3269\",\"type\":\"DataRange1d\"},{\"attributes\":{},\"id\":\"3330\",\"type\":\"UnionRenderers\"}],\"root_ids\":[\"3268\"]},\"title\":\"Bokeh Application\",\"version\":\"2.3.3\"}};\n",
       "  var render_items = [{\"docid\":\"4896c835-2022-48c8-aea0-b69d563001b2\",\"notebook_comms_target\":\"3398\",\"root_ids\":[\"3268\"],\"roots\":{\"3268\":\"fe9f0122-9c57-4dbf-972a-ddd89b3390b1\"}}];\n",
       "  root.Bokeh.embed.embed_items_notebook(docs_json, render_items);\n",
       "\n",
       "  }\n",
       "  if (root.Bokeh !== undefined) {\n",
       "    embed_document(root);\n",
       "  } else {\n",
       "    var attempts = 0;\n",
       "    var timer = setInterval(function(root) {\n",
       "      if (root.Bokeh !== undefined) {\n",
       "        clearInterval(timer);\n",
       "        embed_document(root);\n",
       "      } else {\n",
       "        attempts++;\n",
       "        if (attempts > 100) {\n",
       "          clearInterval(timer);\n",
       "          console.log(\"Bokeh: ERROR: Unable to run BokehJS code because BokehJS library is missing\");\n",
       "        }\n",
       "      }\n",
       "    }, 10, root)\n",
       "  }\n",
       "})(window);"
      ],
      "application/vnd.bokehjs_exec.v0+json": ""
     },
     "metadata": {
      "application/vnd.bokehjs_exec.v0+json": {
       "id": "3268"
      }
     },
     "output_type": "display_data"
    },
    {
     "data": {
      "text/plain": []
     },
     "execution_count": 24,
     "metadata": {},
     "output_type": "execute_result"
    }
   ],
   "source": [
    "import time\n",
    "plot_data = {}\n",
    "for (idx, student) in enumerate(classroom.students):\n",
    "    X = Fun(Count(), student.times)\n",
    "    Y = Fun(TwoWindowFilter(lag=64), student.grades)\n",
    "    Z = Fun(TwoWindowFilter(lag=64), student.baseline_grades)\n",
    "    W = Fun(TwoWindowFilter(lag=64), student.predicted_grades)\n",
    "    plot_data.update({f\"grades-{idx}\": (X, Y)})\n",
    "    plot_data.update({f\"baseline-{idx}\": (X, Z)})\n",
    "    plot_data.update({f\"predicted-{idx}\": (X, W)})\n",
    "\n",
    "Plot(**plot_data)"
   ]
  },
  {
   "cell_type": "code",
   "execution_count": 15,
   "id": "ab270a92",
   "metadata": {},
   "outputs": [
    {
     "data": {
      "text/html": [
       "\n",
       "\n",
       "\n",
       "\n",
       "\n",
       "\n",
       "  <div class=\"bk-root\" id=\"9c026155-18cb-4e8e-a4db-8fbbaa2e2101\" data-root-id=\"1186\"></div>\n"
      ]
     },
     "metadata": {},
     "output_type": "display_data"
    },
    {
     "data": {
      "application/javascript": [
       "(function(root) {\n",
       "  function embed_document(root) {\n",
       "    \n",
       "  var docs_json = {\"d62a15f6-91cf-4fa6-9041-b8acf71236eb\":{\"defs\":[],\"roots\":{\"references\":[{\"attributes\":{\"below\":[{\"id\":\"1195\"}],\"center\":[{\"id\":\"1198\"},{\"id\":\"1202\"},{\"id\":\"1231\"}],\"left\":[{\"id\":\"1199\"}],\"renderers\":[{\"id\":\"1218\"},{\"id\":\"1236\"}],\"title\":{\"id\":\"1220\"},\"toolbar\":{\"id\":\"1208\"},\"x_range\":{\"id\":\"1187\"},\"x_scale\":{\"id\":\"1191\"},\"y_range\":{\"id\":\"1189\"},\"y_scale\":{\"id\":\"1193\"}},\"id\":\"1186\",\"subtype\":\"Figure\",\"type\":\"Plot\"},{\"attributes\":{},\"id\":\"1222\",\"type\":\"AllLabels\"},{\"attributes\":{},\"id\":\"1227\",\"type\":\"BasicTickFormatter\"},{\"attributes\":{},\"id\":\"1249\",\"type\":\"Selection\"},{\"attributes\":{\"line_alpha\":0.8,\"line_color\":\"#2b83ba\",\"line_width\":2,\"x\":{\"field\":\"x\"},\"y\":{\"field\":\"y\"}},\"id\":\"1216\",\"type\":\"Line\"},{\"attributes\":{},\"id\":\"1187\",\"type\":\"DataRange1d\"},{\"attributes\":{\"axis_label\":\"x\",\"formatter\":{\"id\":\"1227\"},\"major_label_policy\":{\"id\":\"1225\"},\"major_label_text_font_size\":\"24px\",\"ticker\":{\"id\":\"1196\"}},\"id\":\"1195\",\"type\":\"LinearAxis\"},{\"attributes\":{},\"id\":\"1191\",\"type\":\"LinearScale\"},{\"attributes\":{},\"id\":\"1189\",\"type\":\"DataRange1d\"},{\"attributes\":{\"data\":{\"x\":[],\"y\":[]},\"selected\":{\"id\":\"1229\"},\"selection_policy\":{\"id\":\"1228\"}},\"id\":\"1215\",\"type\":\"ColumnDataSource\"},{\"attributes\":{},\"id\":\"1193\",\"type\":\"LinearScale\"},{\"attributes\":{\"callback\":null,\"line_policy\":\"next\",\"mode\":\"vline\",\"tooltips\":[[\"X_value\",\"$data_x\"],[\"Y_value\",\"$data_y\"]]},\"id\":\"1213\",\"type\":\"HoverTool\"},{\"attributes\":{\"source\":{\"id\":\"1215\"}},\"id\":\"1219\",\"type\":\"CDSView\"},{\"attributes\":{},\"id\":\"1196\",\"type\":\"BasicTicker\"},{\"attributes\":{\"axis\":{\"id\":\"1195\"},\"ticker\":null},\"id\":\"1198\",\"type\":\"Grid\"},{\"attributes\":{\"bottom_units\":\"screen\",\"fill_alpha\":0.5,\"fill_color\":\"lightgrey\",\"left_units\":\"screen\",\"level\":\"overlay\",\"line_alpha\":1.0,\"line_color\":\"black\",\"line_dash\":[4,4],\"line_width\":2,\"right_units\":\"screen\",\"syncable\":false,\"top_units\":\"screen\"},\"id\":\"1207\",\"type\":\"BoxAnnotation\"},{\"attributes\":{},\"id\":\"1204\",\"type\":\"WheelZoomTool\"},{\"attributes\":{},\"id\":\"1220\",\"type\":\"Title\"},{\"attributes\":{\"axis_label\":\"y\",\"formatter\":{\"id\":\"1224\"},\"major_label_policy\":{\"id\":\"1222\"},\"major_label_text_font_size\":\"24px\",\"ticker\":{\"id\":\"1200\"}},\"id\":\"1199\",\"type\":\"LinearAxis\"},{\"attributes\":{\"line_alpha\":0.8,\"line_color\":\"#abdda4\",\"line_width\":2,\"x\":{\"field\":\"x\"},\"y\":{\"field\":\"y\"}},\"id\":\"1234\",\"type\":\"Line\"},{\"attributes\":{\"axis\":{\"id\":\"1199\"},\"dimension\":1,\"ticker\":null},\"id\":\"1202\",\"type\":\"Grid\"},{\"attributes\":{},\"id\":\"1200\",\"type\":\"BasicTicker\"},{\"attributes\":{\"line_alpha\":0.1,\"line_color\":\"#2b83ba\",\"line_width\":2,\"x\":{\"field\":\"x\"},\"y\":{\"field\":\"y\"}},\"id\":\"1217\",\"type\":\"Line\"},{\"attributes\":{\"label\":{\"value\":\"prediction-error-0\"},\"renderers\":[{\"id\":\"1236\"}]},\"id\":\"1251\",\"type\":\"LegendItem\"},{\"attributes\":{},\"id\":\"1228\",\"type\":\"UnionRenderers\"},{\"attributes\":{},\"id\":\"1229\",\"type\":\"Selection\"},{\"attributes\":{},\"id\":\"1203\",\"type\":\"PanTool\"},{\"attributes\":{\"active_multi\":null,\"tools\":[{\"id\":\"1203\"},{\"id\":\"1204\"},{\"id\":\"1205\"},{\"id\":\"1206\"},{\"id\":\"1213\"}]},\"id\":\"1208\",\"type\":\"Toolbar\"},{\"attributes\":{\"overlay\":{\"id\":\"1207\"}},\"id\":\"1205\",\"type\":\"BoxZoomTool\"},{\"attributes\":{},\"id\":\"1206\",\"type\":\"ResetTool\"},{\"attributes\":{\"data\":{\"x\":[],\"y\":[]},\"selected\":{\"id\":\"1249\"},\"selection_policy\":{\"id\":\"1248\"}},\"id\":\"1233\",\"type\":\"ColumnDataSource\"},{\"attributes\":{\"source\":{\"id\":\"1233\"}},\"id\":\"1237\",\"type\":\"CDSView\"},{\"attributes\":{\"data_source\":{\"id\":\"1233\"},\"glyph\":{\"id\":\"1234\"},\"hover_glyph\":null,\"muted_glyph\":null,\"nonselection_glyph\":{\"id\":\"1235\"},\"view\":{\"id\":\"1237\"}},\"id\":\"1236\",\"type\":\"GlyphRenderer\"},{\"attributes\":{\"data_source\":{\"id\":\"1215\"},\"glyph\":{\"id\":\"1216\"},\"hover_glyph\":null,\"muted_glyph\":null,\"nonselection_glyph\":{\"id\":\"1217\"},\"view\":{\"id\":\"1219\"}},\"id\":\"1218\",\"type\":\"GlyphRenderer\"},{\"attributes\":{\"line_alpha\":0.1,\"line_color\":\"#abdda4\",\"line_width\":2,\"x\":{\"field\":\"x\"},\"y\":{\"field\":\"y\"}},\"id\":\"1235\",\"type\":\"Line\"},{\"attributes\":{\"items\":[{\"id\":\"1232\"},{\"id\":\"1251\"}],\"location\":\"bottom_right\"},\"id\":\"1231\",\"type\":\"Legend\"},{\"attributes\":{},\"id\":\"1248\",\"type\":\"UnionRenderers\"},{\"attributes\":{\"label\":{\"value\":\"improvement-0\"},\"renderers\":[{\"id\":\"1218\"}]},\"id\":\"1232\",\"type\":\"LegendItem\"},{\"attributes\":{},\"id\":\"1224\",\"type\":\"BasicTickFormatter\"},{\"attributes\":{},\"id\":\"1225\",\"type\":\"AllLabels\"}],\"root_ids\":[\"1186\"]},\"title\":\"Bokeh Application\",\"version\":\"2.3.3\"}};\n",
       "  var render_items = [{\"docid\":\"d62a15f6-91cf-4fa6-9041-b8acf71236eb\",\"notebook_comms_target\":\"1280\",\"root_ids\":[\"1186\"],\"roots\":{\"1186\":\"9c026155-18cb-4e8e-a4db-8fbbaa2e2101\"}}];\n",
       "  root.Bokeh.embed.embed_items_notebook(docs_json, render_items);\n",
       "\n",
       "  }\n",
       "  if (root.Bokeh !== undefined) {\n",
       "    embed_document(root);\n",
       "  } else {\n",
       "    var attempts = 0;\n",
       "    var timer = setInterval(function(root) {\n",
       "      if (root.Bokeh !== undefined) {\n",
       "        clearInterval(timer);\n",
       "        embed_document(root);\n",
       "      } else {\n",
       "        attempts++;\n",
       "        if (attempts > 100) {\n",
       "          clearInterval(timer);\n",
       "          console.log(\"Bokeh: ERROR: Unable to run BokehJS code because BokehJS library is missing\");\n",
       "        }\n",
       "      }\n",
       "    }, 10, root)\n",
       "  }\n",
       "})(window);"
      ],
      "application/vnd.bokehjs_exec.v0+json": ""
     },
     "metadata": {
      "application/vnd.bokehjs_exec.v0+json": {
       "id": "1186"
      }
     },
     "output_type": "display_data"
    },
    {
     "data": {
      "text/plain": []
     },
     "execution_count": 15,
     "metadata": {},
     "output_type": "execute_result"
    }
   ],
   "source": [
    "import time\n",
    "plot_data_2 = {}\n",
    "for (idx, student) in enumerate(classroom.students):\n",
    "    X = Fun(Sum(), student.times)\n",
    "    X2 = Fun(lambda x: math.log(x), X.output, aux=X)\n",
    "    Y = Fun(lambda x, y: x - y, student.grades, student.baseline_grades)\n",
    "    Z = Fun(lambda x, y: x - y, student.grades, student.predicted_grades)\n",
    "    Y = Fun(TwoWindowFilter(lag=64), Y.output, aux=Y)\n",
    "    Z = Fun(TwoWindowFilter(lag=64), Z.output, aux=Z)\n",
    "    plot_data_2.update({f\"improvement-{idx}\": (X, Y)})\n",
    "    plot_data_2.update({f\"prediction-error-{idx}\": (X, Z)})\n",
    "Plot(**plot_data_2)"
   ]
  },
  {
   "cell_type": "code",
   "execution_count": 96,
   "id": "51b23407",
   "metadata": {},
   "outputs": [],
   "source": [
    "student.push()\n",
    "time_of_last_baseline = student.time\n"
   ]
  },
  {
   "cell_type": "code",
   "execution_count": null,
   "id": "de4c04f4",
   "metadata": {},
   "outputs": [],
   "source": [
    "plot_data_2"
   ]
  },
  {
   "cell_type": "code",
   "execution_count": 99,
   "id": "2c538eff",
   "metadata": {},
   "outputs": [
    {
     "name": "stdout",
     "output_type": "stream",
     "text": [
      "\n",
      "Student #0\n",
      "==========\n",
      "lr                        = 1.1287955751213454e-05\n",
      "batch_size                = 512\n",
      "example_length            = 65\n",
      "n                         = 88590\n",
      "time                      = 3097s\n",
      "time_of_last_baseline     = 2515s\n",
      "steps per second          = 28.59948450785202\n",
      "mean_baseline_grade       = 0.7017298742139246\n",
      "mean_grade                = 0.7090239206590923\n",
      "mean_predicted_grade      = 0.7089395612565568\n",
      "accuracy                  = 0.9998810203717005\n",
      "mean_improvement          = 0.0072940464451676235\n",
      "improvement_rate          = 1.2535326396346218e-05 per second\n",
      "time_to_next_level        = 77.8662884432153\n"
     ]
    }
   ],
   "source": [
    "for (idx, student) in enumerate(classroom.students):\n",
    "    print(f\"\\nStudent #{idx}\\n==========\")\n",
    "    n = len(student.times)-1\n",
    "    time = student.time #sum(student.times[:n])\n",
    "    mean_grade = np.mean(np.array(student.grades[n-1024:n]))\n",
    "    mean_baseline_grade = np.mean(np.array(student.baseline_grades[n-1024:n]))\n",
    "    mean_predicted_grade = np.mean(np.array(student.predicted_grades[n-1024:n]))\n",
    "    accuracy = 1.0 - abs(mean_predicted_grade - mean_grade)/(mean_grade)\n",
    "\n",
    "    mean_improvement = mean_grade - mean_baseline_grade\n",
    "    improvement_rate = mean_improvement / (time - time_of_last_baseline)\n",
    "    time_to_next_level = 0.01*( 1.0 - (100*mean_grade - int(100*mean_grade)))/improvement_rate\n",
    "    message = '\\n'.join([\n",
    "        f\"lr                        = {student.optimizer.state['language_model.module.layers.0.weight']['lr'](n)}\",\n",
    "        f\"batch_size                = {student.batch_size}\",\n",
    "        f\"example_length            = {student.example_length}\",\n",
    "        f\"n                         = {n}\",\n",
    "        f\"time                      = {int(time)}s\",\n",
    "        f\"time_of_last_baseline     = {int(time_of_last_baseline)}s\",\n",
    "        f\"steps per second          = {(n/time)}\",\n",
    "        f\"mean_baseline_grade       = {mean_baseline_grade}\",\n",
    "        f\"mean_grade                = {mean_grade}\",\n",
    "        f\"mean_predicted_grade      = {mean_predicted_grade}\",\n",
    "        f\"accuracy                  = {accuracy}\",\n",
    "        f\"mean_improvement          = {mean_improvement}\",\n",
    "        f\"improvement_rate          = {improvement_rate} per second\",\n",
    "        f\"time_to_next_level        = {time_to_next_level}\"\n",
    "    ])\n",
    "    print(message)"
   ]
  },
  {
   "cell_type": "code",
   "execution_count": 43,
   "id": "01bb7d1b",
   "metadata": {},
   "outputs": [
    {
     "data": {
      "text/plain": [
       "3.02875"
      ]
     },
     "execution_count": 43,
     "metadata": {},
     "output_type": "execute_result"
    }
   ],
   "source": [
    "261684/86400"
   ]
  },
  {
   "cell_type": "code",
   "execution_count": null,
   "id": "514d2c8b",
   "metadata": {},
   "outputs": [],
   "source": [
    "simulated_batch_size = 1024\n",
    "k = simulated_batch_size // student.batch_size\n",
    "print(k)"
   ]
  },
  {
   "cell_type": "code",
   "execution_count": null,
   "id": "1ad3c40f",
   "metadata": {},
   "outputs": [],
   "source": [
    "for pn in student.optimizer.state:\n",
    "    student.optimizer.state[pn][\"lr\"]           = lambda n: 1e-5\n",
    "    student.optimizer.state[pn][\"beta1\"]        = lambda n: 0.9\n",
    "    student.optimizer.state[pn][\"beta2\"]        = lambda n: 0.999\n",
    "    student.optimizer.state[pn][\"weight_decay\"] = lambda n: 0.01\n",
    "    student.optimizer.state[pn][\"update\"]       = lambda n: True"
   ]
  },
  {
   "cell_type": "code",
   "execution_count": null,
   "id": "fcfd7b7e",
   "metadata": {},
   "outputs": [],
   "source": [
    "async def evolution(classroom):\n",
    "    relative_grades = {student: Fun(KalmanFilter1D(), student.relative_grades) for student in classroom.students}\n",
    "    while True:\n",
    "        await asyncio.sleep(6.0)\n",
    "        ranked_students = sorted([student for student in classroom.students], key=lambda s: relative_grades[s].output[-1])\n",
    "        top_student = ranked_students[-1]\n",
    "        bot_student = ranked_students[0]\n",
    "        if bot_student != top_student:\n",
    "            classroom.graduate(bot_student)\n",
    "            del relative_grades[bot_student]\n",
    "        clone = top_student.clone()\n",
    "        clone.mutate()\n",
    "        classroom.enroll(clone)\n",
    "        relative_grades[clone] = Fun(KalmanFilter1D(), clone.relative_grades)\n"
   ]
  },
  {
   "cell_type": "code",
   "execution_count": null,
   "id": "37cdb1fb",
   "metadata": {},
   "outputs": [],
   "source": [
    "asyncio.create_task(evolution(classroom))"
   ]
  },
  {
   "cell_type": "code",
   "execution_count": 94,
   "id": "6bdd05ec",
   "metadata": {},
   "outputs": [],
   "source": [
    "torch.save(student.model, f='checkpoint.pt')"
   ]
  },
  {
   "cell_type": "code",
   "execution_count": null,
   "id": "8feb2e7a",
   "metadata": {},
   "outputs": [],
   "source": [
    "dataset"
   ]
  },
  {
   "cell_type": "code",
   "execution_count": null,
   "id": "e8c1246f",
   "metadata": {},
   "outputs": [],
   "source": []
  }
 ],
 "metadata": {
  "kernelspec": {
   "display_name": "Python 3",
   "language": "python",
   "name": "python3"
  },
  "language_info": {
   "codemirror_mode": {
    "name": "ipython",
    "version": 3
   },
   "file_extension": ".py",
   "mimetype": "text/x-python",
   "name": "python",
   "nbconvert_exporter": "python",
   "pygments_lexer": "ipython3",
   "version": "3.9.6"
  }
 },
 "nbformat": 4,
 "nbformat_minor": 5
}
