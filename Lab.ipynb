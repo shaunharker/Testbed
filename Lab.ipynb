{
 "cells": [
  {
   "cell_type": "code",
   "execution_count": null,
   "id": "6af05649",
   "metadata": {},
   "outputs": [],
   "source": [
    "import asyncio\n",
    "from math import log, sin, cos, tan, exp, sqrt, pi\n",
    "from time import time, sleep\n",
    "from random import randrange\n",
    "import torch\n",
    "import numpy as np\n",
    "from classroom import UTF8Dataset, MLPLM, TransformerLM\n",
    "from classroom import AdamW, Learner, Plot, Filter\n",
    "from classroom import KalmanFilter1D, MedianFilter, TwoWindowFilter"
   ]
  },
  {
   "cell_type": "markdown",
   "id": "a781090e",
   "metadata": {},
   "source": [
    "## Training"
   ]
  },
  {
   "cell_type": "code",
   "execution_count": null,
   "id": "c47965cc",
   "metadata": {},
   "outputs": [],
   "source": [
    "lock = asyncio.Lock()\n",
    "total_time = 0.0\n",
    "def start_training(config, hyp):\n",
    "    learner = Learner(config=config)\n",
    "    X = []\n",
    "    Y = []\n",
    "    time = lambda: asyncio.get_event_loop().time()\n",
    "    begin = time()\n",
    "    elapsed = 0.0\n",
    "    last_release = 0.0\n",
    "    async def train(n_steps, batch_size, example_length):\n",
    "        global total_time\n",
    "        nonlocal X, Y, elapsed\n",
    "        try:\n",
    "            for step in range(n_steps):\n",
    "                start = time()\n",
    "                mean_loss = np.sum(learner.step(batch_size, example_length))/batch_size\n",
    "                end = time()\n",
    "                elapsed += end - start\n",
    "                async with lock:\n",
    "                    total_time += end-start\n",
    "                if elapsed / total_time > .51:\n",
    "                    await asyncio.sleep(2*(end-start))\n",
    "                else:\n",
    "                    await asyncio.sleep(0.01)\n",
    "                X.append(elapsed)\n",
    "                Y.append(mean_loss)\n",
    "        except Exception as e:\n",
    "            print(e)\n",
    "            return e\n",
    "        return None\n",
    "    task = asyncio.create_task(train(**hyp))\n",
    "    return (learner, X, Y)"
   ]
  },
  {
   "cell_type": "markdown",
   "id": "f38af5a3",
   "metadata": {},
   "source": [
    "## Scheduling helpers"
   ]
  },
  {
   "cell_type": "code",
   "execution_count": null,
   "id": "a241c6fd",
   "metadata": {},
   "outputs": [],
   "source": [
    "constant = lambda c: lambda step: c\n",
    "linear_warmup_then_decay = (lambda lr, warmup: \n",
    "    lambda n: lr*(n/warmup) if n < warmup else lr*(warmup/n))"
   ]
  },
  {
   "cell_type": "markdown",
   "id": "b7f3ba18",
   "metadata": {},
   "source": [
    "## MLP Language Model"
   ]
  },
  {
   "cell_type": "code",
   "execution_count": null,
   "id": "170fcdc1",
   "metadata": {},
   "outputs": [],
   "source": [
    "mlp_model = MLPLM(n_vocab_in=256, n_vocab_out=256, n_ctx=32,\n",
    "              d_model=32, d_hidden=8192, nonlinearity=\"sigmoid\").to('cuda')\n",
    "mlp_optimizer = AdamW(parameters=mlp_model.parameters(), eps=constant(1e-4), \n",
    "                  lr=constant(1e-3), \n",
    "                  beta1=constant(0.9), beta2=constant(0.999),\n",
    "                  weight_decay=constant(0.01), initial_step=0)\n",
    "mlp_dataset = UTF8Dataset()\n",
    "mlp_config = {\"model\": mlp_model, \"optimizer\": mlp_optimizer, \"dataset\": mlp_dataset}\n",
    "mlp_hyp = {\"n_steps\": 2**20, \"batch_size\": 256, \"example_length\": 33}\n",
    "(mlp_learner, mlp_times, mlp_losses) = start_training(mlp_config, mlp_hyp)\n",
    "mlp_plot = {\"MLP\": (mlp_times, mlp_losses)}"
   ]
  },
  {
   "cell_type": "markdown",
   "id": "f9d0dcd7",
   "metadata": {},
   "source": [
    "## Transformer Language Model"
   ]
  },
  {
   "cell_type": "code",
   "execution_count": null,
   "id": "79fb4fdb",
   "metadata": {},
   "outputs": [],
   "source": [
    "trans_model = TransformerLM(n_vocab_in=256, n_vocab_out=256, n_ctx=32, d_model=256,\n",
    "                      d_k=16, d_v=16, n_heads=16, d_hidden=8192, n_layers=8, p_dropout_embedding=0.1,\n",
    "                      p_dropout_attn_mat=0.1, p_dropout_attn_out=0.1, p_dropout_mlp=0.1).to('cuda')\n",
    "\n",
    "trans_optimizer = AdamW(parameters=trans_model.parameters(), eps=constant(1e-4),\n",
    "                  lr=linear_warmup_then_decay(lr=1e-4,warmup=100), \n",
    "                  beta1=constant(0.9), beta2=constant(0.999), weight_decay=constant(0.01),\n",
    "                  initial_step=0)\n",
    "\n",
    "trans_dataset = UTF8Dataset()\n",
    "\n",
    "trans_config = {\"model\": trans_model, \"optimizer\": trans_optimizer, \"dataset\": trans_dataset}\n",
    "trans_hyp = {\"n_steps\": 2**20, \"batch_size\": 256, \"example_length\": 33}\n",
    "(trans_learner, trans_times, trans_losses) = start_training(trans_config, trans_hyp)\n",
    "trans_plot = {\"Transformer\": (trans_times, trans_losses)}"
   ]
  },
  {
   "cell_type": "markdown",
   "id": "33459961",
   "metadata": {},
   "source": [
    "## Autocompleting"
   ]
  },
  {
   "cell_type": "code",
   "execution_count": null,
   "id": "5a761c7e",
   "metadata": {},
   "outputs": [],
   "source": [
    "print(mlp_learner.autocomplete(n_generate=1024))"
   ]
  },
  {
   "cell_type": "code",
   "execution_count": null,
   "id": "f05b4fcd",
   "metadata": {},
   "outputs": [],
   "source": [
    "print(trans_learner.autocomplete(n_generate=1024))"
   ]
  },
  {
   "cell_type": "markdown",
   "id": "f67bcaf5",
   "metadata": {},
   "source": [
    "## Training Visualization Plots"
   ]
  },
  {
   "cell_type": "code",
   "execution_count": null,
   "id": "9e25f551",
   "metadata": {},
   "outputs": [],
   "source": [
    "plot_data = {}\n",
    "plot_data.update({\"MLP\": (mlp_times, mlp_losses)})\n",
    "plot_data.update({\"Transformer\": (trans_times, trans_losses)})\n",
    "Plot(**plot_data)"
   ]
  },
  {
   "cell_type": "code",
   "execution_count": null,
   "id": "c6849694",
   "metadata": {},
   "outputs": [],
   "source": [
    "X, Y = mlp_plot[\"MLP\"]\n",
    "KY = Filter(Y, KalmanFilter1D())\n",
    "MY = Filter(Y, MedianFilter())\n",
    "TWY = Filter(Y, TwoWindowFilter())\n",
    "plot_data = {}\n",
    "plot_data.update({\"MLP\": (X, Y)})\n",
    "plot_data.update({\"MLP-kalman\": (X, KY)})\n",
    "plot_data.update({\"MLP-median\": (X, MY)})\n",
    "plot_data.update({\"MLP-twowindow\": (X, TWY)})"
   ]
  },
  {
   "cell_type": "code",
   "execution_count": null,
   "id": "22f9dbc4",
   "metadata": {},
   "outputs": [],
   "source": [
    "Plot(**plot_data)"
   ]
  }
 ],
 "metadata": {
  "kernelspec": {
   "display_name": "Python 3",
   "language": "python",
   "name": "python3"
  },
  "language_info": {
   "codemirror_mode": {
    "name": "ipython",
    "version": 3
   },
   "file_extension": ".py",
   "mimetype": "text/x-python",
   "name": "python",
   "nbconvert_exporter": "python",
   "pygments_lexer": "ipython3",
   "version": "3.8.10"
  }
 },
 "nbformat": 4,
 "nbformat_minor": 5
}
